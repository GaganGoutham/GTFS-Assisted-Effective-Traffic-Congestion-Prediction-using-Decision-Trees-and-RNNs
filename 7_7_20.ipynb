{
  "nbformat": 4,
  "nbformat_minor": 0,
  "metadata": {
    "colab": {
      "name": "7-7.20.ipynb",
      "provenance": []
    },
    "kernelspec": {
      "name": "python3",
      "display_name": "Python 3"
    },
    "language_info": {
      "name": "python"
    }
  },
  "cells": [
    {
      "cell_type": "code",
      "execution_count": null,
      "metadata": {
        "id": "r3s_gBcVcygo"
      },
      "outputs": [],
      "source": [
        "import pandas as pd\n",
        "import numpy as np"
      ]
    },
    {
      "cell_type": "code",
      "source": [
        "agency = pd.read_excel('pune_static_updated1.xlsx', sheet_name = 'agency.csv')\n",
        "routes = pd.read_excel('pune_static_updated1.xlsx', sheet_name = 'routes.csv')\n",
        "shapes = pd.read_excel('pune_static_updated1.xlsx', sheet_name = 'shapes.csv')\n",
        "stop_ids = pd.read_excel('pune_static_updated1.xlsx', sheet_name = 'stop_ids.csv')\n",
        "stop_times = pd.read_csv('7.20mins_slot.csv')\n",
        "stops = pd.read_excel('pune_static_updated1.xlsx', sheet_name = 'stops.csv')\n",
        "trips = pd.read_excel('pune_static_updated1.xlsx', sheet_name = 'trips.csv')"
      ],
      "metadata": {
        "id": "tCxcDnX-l7bh"
      },
      "execution_count": null,
      "outputs": []
    },
    {
      "cell_type": "code",
      "source": [
        "df=pd.DataFrame()"
      ],
      "metadata": {
        "id": "bmlnJNztmQc0"
      },
      "execution_count": null,
      "outputs": []
    },
    {
      "cell_type": "code",
      "source": [
        "route_id = []\n",
        "stop_id_from = []\n",
        "stop_id_to = []\n",
        "trip_id = []\n",
        "time=[]\n",
        "speed=[]"
      ],
      "metadata": {
        "id": "tjfCWsvAmTZa"
      },
      "execution_count": null,
      "outputs": []
    },
    {
      "cell_type": "code",
      "source": [
        "for i in range(0,len(stop_ids['stop_id_modified'])-1):\n",
        "  for j in range(0,len(stop_times['stop_id'])-1):\n",
        "    if((stop_ids['stop_id_modified'][i]==stop_times['stop_id'][j]) & (stop_ids['stop_id_modified'][i+1]==stop_times['stop_id'][j+1])):\n",
        "      route_id.append(stop_ids['route_id_modified'][i+1])\n",
        "      trip_id.append(stop_times['trip_id'][j+1])\n",
        "      stop_id_from.append(stop_times['stop_id'][j])\n",
        "      stop_id_to.append(stop_times['stop_id'][j+1])\n",
        "      time.append(stop_times['time'][j+1])\n",
        "      speed.append(stop_times['velocity'][j+1])"
      ],
      "metadata": {
        "id": "XZcPFwXcmW9P"
      },
      "execution_count": null,
      "outputs": []
    },
    {
      "cell_type": "code",
      "source": [
        "df['route_id_modified'] = route_id\n",
        "df['trip_id_modified'] = trip_id\n",
        "df['stop_id_modified_from'] = stop_id_from\n",
        "df['stop_id_modified_to'] = stop_id_to\n",
        "df['time_modified'] = time\n",
        "df['speed'] = speed"
      ],
      "metadata": {
        "id": "dR1X4JsJLGDB"
      },
      "execution_count": null,
      "outputs": []
    },
    {
      "cell_type": "code",
      "source": [
        "df.to_csv('finalSlot2.csv')"
      ],
      "metadata": {
        "id": "KQj-RcaKLKVY"
      },
      "execution_count": null,
      "outputs": []
    }
  ]
}