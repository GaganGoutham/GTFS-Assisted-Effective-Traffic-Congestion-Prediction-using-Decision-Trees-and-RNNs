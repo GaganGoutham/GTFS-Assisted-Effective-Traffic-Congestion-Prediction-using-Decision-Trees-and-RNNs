{
  "nbformat": 4,
  "nbformat_minor": 0,
  "metadata": {
    "colab": {
      "name": "Arrival_time.ipynb",
      "provenance": []
    },
    "kernelspec": {
      "name": "python3",
      "display_name": "Python 3"
    },
    "language_info": {
      "name": "python"
    }
  },
  "cells": [
    {
      "cell_type": "code",
      "execution_count": null,
      "metadata": {
        "id": "cuZ039q_fPpr"
      },
      "outputs": [],
      "source": [
        "import numpy as np\n",
        "import pandas as pd"
      ]
    },
    {
      "cell_type": "code",
      "source": [
        "dataset = pd.read_csv(\"sri5.csv\")"
      ],
      "metadata": {
        "id": "RijVPSGyfQ_t"
      },
      "execution_count": null,
      "outputs": []
    },
    {
      "cell_type": "code",
      "source": [
        "stop_times = pd.read_csv('14.20mins_slot.csv')"
      ],
      "metadata": {
        "id": "tNnG-qsVfkMS"
      },
      "execution_count": null,
      "outputs": []
    },
    {
      "cell_type": "code",
      "source": [
        "dataset['arrival_time']=''"
      ],
      "metadata": {
        "id": "4tskWP15fmBT"
      },
      "execution_count": null,
      "outputs": []
    },
    {
      "cell_type": "code",
      "source": [
        "for i in range(0,len(dataset['SRI'])):\n",
        "  for j in range(0,len(stop_times['stop_id'])):\n",
        "    if((dataset['stop_id_modified_from'][i]==stop_times['stop_id'][j]) & (dataset['trip_id_modified'][i]==stop_times['trip_id'][j])):\n",
        "      dataset['arrival_time'][i] = stop_times['arrival_time'][j] "
      ],
      "metadata": {
        "id": "L5vur9pHfn-r"
      },
      "execution_count": null,
      "outputs": []
    },
    {
      "cell_type": "code",
      "source": [
        "dataset.to_csv('final_14-14_20.csv')"
      ],
      "metadata": {
        "id": "U1zNWR3rfqyl"
      },
      "execution_count": null,
      "outputs": []
    }
  ]
}