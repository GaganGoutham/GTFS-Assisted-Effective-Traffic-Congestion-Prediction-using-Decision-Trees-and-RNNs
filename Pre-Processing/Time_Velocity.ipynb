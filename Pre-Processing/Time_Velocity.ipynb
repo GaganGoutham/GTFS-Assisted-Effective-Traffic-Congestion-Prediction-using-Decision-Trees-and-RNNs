{
  "nbformat": 4,
  "nbformat_minor": 0,
  "metadata": {
    "colab": {
      "name": "Pune_dataset_final.ipynb",
      "provenance": []
    },
    "kernelspec": {
      "name": "python3",
      "display_name": "Python 3"
    },
    "language_info": {
      "name": "python"
    }
  },
  "cells": [
    {
      "cell_type": "code",
      "execution_count": null,
      "metadata": {
        "id": "6bOmGNfh2OQO"
      },
      "outputs": [],
      "source": [
        "import numpy as np\n",
        "import pandas as pd"
      ]
    },
    {
      "cell_type": "code",
      "source": [
        "dataset = pd.read_csv('/content/idk.csv')"
      ],
      "metadata": {
        "id": "uXPXNFVb2nVn"
      },
      "execution_count": null,
      "outputs": []
    },
    {
      "cell_type": "code",
      "source": [
        "agency = pd.read_excel('pune_static_updated1.xlsx', sheet_name = 'agency.csv')\n",
        "routes = pd.read_excel('pune_static_updated1.xlsx', sheet_name = 'routes.csv')\n",
        "shapes = pd.read_excel('pune_static_updated1.xlsx', sheet_name = 'shapes.csv')\n",
        "stop_times = pd.read_csv('/content/9.20mins_slot.csv')\n",
        "stops = pd.read_excel('pune_static_updated1.xlsx', sheet_name = 'stops.csv')\n",
        "trips = pd.read_excel('pune_static_updated1.xlsx', sheet_name = 'trips.csv')"
      ],
      "metadata": {
        "id": "IfMV6v7o2UVq"
      },
      "execution_count": null,
      "outputs": []
    },
    {
      "cell_type": "code",
      "source": [
        "df=pd.DataFrame()"
      ],
      "metadata": {
        "id": "xdLeUaNx278m"
      },
      "execution_count": null,
      "outputs": []
    },
    {
      "cell_type": "code",
      "source": [
        "route_id = []\n",
        "stop_id = []\n",
        "trip_id = []\n",
        "time=[]\n",
        "speed=[]"
      ],
      "metadata": {
        "id": "jK-L8LJT3rHm"
      },
      "execution_count": null,
      "outputs": []
    },
    {
      "cell_type": "code",
      "source": [
        "for i in range(0,len(dataset['stop_id_modified'])-1):\n",
        "  for j in range(0,len(stop_times['stop_id'])-1):\n",
        "    if((dataset['stop_id_modified'][i]==stop_times['stop_id'][j]) & (dataset['stop_id_modified'][i+1]==stop_times['stop_id'][j+1])):\n",
        "      route_id.append(dataset['route_id_modified'][i+1])\n",
        "      stop_id.append(stop_times['stop_id'][j+1])\n",
        "      trip_id.append(stop_times['trip_id'][j+1])\n",
        "      time.append(stop_times['time'][j+1])\n",
        "      speed.append(stop_times['velocity'][j+1])"
      ],
      "metadata": {
        "id": "GS14KWQS23Qp"
      },
      "execution_count": null,
      "outputs": []
    },
    {
      "cell_type": "code",
      "source": [
        "df['route_id'] = route_id\n",
        "df['stop_id'] = stop_id\n",
        "df['trip_id'] = trip_id\n",
        "df['time'] = time\n",
        "df['speed'] = speed"
      ],
      "metadata": {
        "id": "3epmanCQ4aSM"
      },
      "execution_count": null,
      "outputs": []
    },
    {
      "cell_type": "code",
      "source": [
        "df.to_csv('Final.csv')"
      ],
      "metadata": {
        "id": "X1ecH4L14n5S"
      },
      "execution_count": null,
      "outputs": []
    }
  ]
}