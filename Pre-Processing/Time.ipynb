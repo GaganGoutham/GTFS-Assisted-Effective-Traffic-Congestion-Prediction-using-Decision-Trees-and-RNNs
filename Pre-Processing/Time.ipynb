{
  "nbformat": 4,
  "nbformat_minor": 0,
  "metadata": {
    "colab": {
      "name": "Time_Column.ipynb",
      "provenance": []
    },
    "kernelspec": {
      "name": "python3",
      "display_name": "Python 3"
    },
    "language_info": {
      "name": "python"
    }
  },
  "cells": [
    {
      "cell_type": "code",
      "execution_count": null,
      "metadata": {
        "id": "xZczwB3lXjwd"
      },
      "outputs": [],
      "source": [
        "import numpy as np\n",
        "import pandas as pd"
      ]
    },
    {
      "cell_type": "code",
      "source": [
        "time_diff = pd.read_csv('time.csv')"
      ],
      "metadata": {
        "id": "lfKPtNC0Zy6R"
      },
      "execution_count": null,
      "outputs": []
    },
    {
      "cell_type": "code",
      "source": [
        "import re"
      ],
      "metadata": {
        "id": "JtEEz-vCaT9D"
      },
      "execution_count": null,
      "outputs": []
    },
    {
      "cell_type": "code",
      "source": [
        "hour = '\\A(24)'\n",
        "s='24:08:50'\n",
        "s1='24:08:00'\n",
        "if(re.search(hour,s) and re.search(hour,s1)):\n",
        "  s = s.replace(s[0], \"0\")\n",
        "  print(s)\n",
        "\n",
        "\n",
        "print(s)  "
      ],
      "metadata": {
        "colab": {
          "base_uri": "https://localhost:8080/"
        },
        "id": "NXqh8isPiCGO",
        "outputId": "c1e88262-70bd-4748-b49a-ec706b6ca991"
      },
      "execution_count": null,
      "outputs": [
        {
          "output_type": "stream",
          "name": "stdout",
          "text": [
            "04:08:50\n",
            "04:08:50\n"
          ]
        }
      ]
    },
    {
      "cell_type": "code",
      "source": [
        "s = '24:01:54'\n",
        "s1 = '24:05:44'\n",
        "if(re.search(hour,s) and re.search(hour,s1)):\n",
        "        s = s.replace(s[0], \"0\")\n",
        "        s = s.replace(s[1], \"0\")\n",
        "        s1 = s1.replace(s1[0], \"0\")\n",
        "        s1 = s1.replace(s1[1], \"0\")\n",
        "print(s)\n",
        "print(s1)        "
      ],
      "metadata": {
        "colab": {
          "base_uri": "https://localhost:8080/"
        },
        "id": "_yEI3tlQo-Pt",
        "outputId": "2c40e23e-2988-419a-b308-6867325c5cc4"
      },
      "execution_count": null,
      "outputs": [
        {
          "output_type": "stream",
          "name": "stdout",
          "text": [
            "00:01:50\n",
            "00:05:00\n"
          ]
        }
      ]
    },
    {
      "cell_type": "code",
      "source": [
        "s = '23:01:54'\n",
        "s1 = '24:05:44'\n",
        "print(s.split(\":\"))\n",
        "print(s1.split(\":\"))\n"
      ],
      "metadata": {
        "colab": {
          "base_uri": "https://localhost:8080/"
        },
        "id": "kCMcL9HRp2Vk",
        "outputId": "ae04a93f-dfa7-49c1-a1a9-deb2271541ac"
      },
      "execution_count": null,
      "outputs": [
        {
          "output_type": "stream",
          "name": "stdout",
          "text": [
            "['23', '01', '54']\n",
            "['24', '05', '44']\n"
          ]
        }
      ]
    },
    {
      "cell_type": "code",
      "source": [
        "\n",
        "from datetime import datetime, time\n",
        "def timew(i):\n",
        "    pattern = '\\A\\d{2}:\\d{2}:\\d{2}'\n",
        "    hour = '\\A(24)'\n",
        "    s = str(time_diff['departure_time'][i])\n",
        "    s1 = str(time_diff['arrival_time'][i+1])\n",
        "    if ( re.search(pattern, s) and re.search(pattern,s1)):\n",
        "      if(re.search(hour,s) and re.search(hour,s1)):\n",
        "        s = s.replace(s[0], \"0\")\n",
        "        s = s.replace(s[1], \"0\")\n",
        "        s1 = s1.replace(s1[0], \"0\")\n",
        "        s1 = s1.replace(s1[1], \"0\")\n",
        "      if(re.search(hour,s) or re.search(hour,s1)):\n",
        "        s1\n",
        "      FMT = '%H:%M:%S'\n",
        "      tdelta = datetime.strptime(s1, FMT) - datetime.strptime(s, FMT)\n",
        "      a = tdelta.seconds/3600\n",
        "    else:\n",
        "      a=0.018333333333333333\n",
        "    return a  \n",
        "\n",
        "for i in range(2470,2475):\n",
        "    b = timew(i)\n",
        "    time_diff['time_diff'][0] = 'NaN'\n",
        "    time_diff['time_diff'][i+1] = b"
      ],
      "metadata": {
        "id": "hnVAo9jZZy21"
      },
      "execution_count": null,
      "outputs": []
    },
    {
      "cell_type": "code",
      "source": [
        "time_diff['time_diff'].head(2480)"
      ],
      "metadata": {
        "colab": {
          "base_uri": "https://localhost:8080/"
        },
        "id": "cuP_zKe4mki2",
        "outputId": "175c7f3b-358b-4b9a-ce74-cd68b41f6e96"
      },
      "execution_count": null,
      "outputs": [
        {
          "output_type": "execute_result",
          "data": {
            "text/plain": [
              "0             NaN\n",
              "1       16.388056\n",
              "2       16.388056\n",
              "3       16.388056\n",
              "4       16.388056\n",
              "          ...    \n",
              "2475     0.020278\n",
              "2476     0.066667\n",
              "2477     0.075833\n",
              "2478     0.007500\n",
              "2479    23.686111\n",
              "Name: time_diff, Length: 2480, dtype: float64"
            ]
          },
          "metadata": {},
          "execution_count": 84
        }
      ]
    },
    {
      "cell_type": "code",
      "source": [
        "time_diff['departure_time'][1]"
      ],
      "metadata": {
        "colab": {
          "base_uri": "https://localhost:8080/",
          "height": 35
        },
        "id": "pJZV02b6dpCG",
        "outputId": "7d9d8914-da7a-45e5-a447-565e77710574"
      },
      "execution_count": null,
      "outputs": [
        {
          "output_type": "execute_result",
          "data": {
            "application/vnd.google.colaboratory.intrinsic+json": {
              "type": "string"
            },
            "text/plain": [
              "'07:40:33'"
            ]
          },
          "metadata": {},
          "execution_count": 69
        }
      ]
    },
    {
      "cell_type": "code",
      "source": [
        "time_diff['departure_time'][2476]"
      ],
      "metadata": {
        "colab": {
          "base_uri": "https://localhost:8080/",
          "height": 35
        },
        "id": "xUHzjJ-3dcvW",
        "outputId": "62228661-1174-4c8b-d6ae-74728c0b6a35"
      },
      "execution_count": null,
      "outputs": [
        {
          "output_type": "execute_result",
          "data": {
            "application/vnd.google.colaboratory.intrinsic+json": {
              "type": "string"
            },
            "text/plain": [
              "'24:14:35'"
            ]
          },
          "metadata": {},
          "execution_count": 70
        }
      ]
    },
    {
      "cell_type": "code",
      "source": [
        "time_diff['arrival_time'][i+1]"
      ],
      "metadata": {
        "colab": {
          "base_uri": "https://localhost:8080/",
          "height": 35
        },
        "id": "kFI-0u-Tdh_0",
        "outputId": "185e46bf-c5f7-43db-a33e-09871b411bec"
      },
      "execution_count": null,
      "outputs": [
        {
          "output_type": "execute_result",
          "data": {
            "application/vnd.google.colaboratory.intrinsic+json": {
              "type": "string"
            },
            "text/plain": [
              "'09:53:25'"
            ]
          },
          "metadata": {},
          "execution_count": 21
        }
      ]
    },
    {
      "cell_type": "code",
      "source": [
        "time_diff['time_diff'][2476]"
      ],
      "metadata": {
        "colab": {
          "base_uri": "https://localhost:8080/"
        },
        "id": "c3Ow52TWc4aF",
        "outputId": "9abf0e72-61d9-4950-cbe6-e011814e6285"
      },
      "execution_count": null,
      "outputs": [
        {
          "output_type": "execute_result",
          "data": {
            "text/plain": [
              "0.009722222222222222"
            ]
          },
          "metadata": {},
          "execution_count": 19
        }
      ]
    },
    {
      "cell_type": "code",
      "source": [
        "time_diff['time_diff'].head(2475)"
      ],
      "metadata": {
        "colab": {
          "base_uri": "https://localhost:8080/"
        },
        "id": "7IWFAEBpapxp",
        "outputId": "1b4c3708-4ecd-4b0f-b5e2-edd57d677633"
      },
      "execution_count": null,
      "outputs": [
        {
          "output_type": "execute_result",
          "data": {
            "text/plain": [
              "0            NaN\n",
              "1       0.027222\n",
              "2       0.019722\n",
              "3       0.008889\n",
              "4       0.008889\n",
              "          ...   \n",
              "2470    0.019167\n",
              "2471    0.010000\n",
              "2472    0.009167\n",
              "2473    0.015278\n",
              "2474    0.006389\n",
              "Name: time_diff, Length: 2475, dtype: float64"
            ]
          },
          "metadata": {},
          "execution_count": 13
        }
      ]
    }
  ]
}