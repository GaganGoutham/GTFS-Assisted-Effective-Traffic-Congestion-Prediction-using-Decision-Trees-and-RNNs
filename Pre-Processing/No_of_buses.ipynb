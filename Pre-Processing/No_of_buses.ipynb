{
  "cells": [
    {
      "cell_type": "code",
      "execution_count": null,
      "metadata": {
        "id": "bHb_1lL5GoT1"
      },
      "outputs": [],
      "source": [
        "import numpy as np\n",
        "import pandas as pd"
      ]
    },
    {
      "cell_type": "code",
      "execution_count": null,
      "metadata": {
        "id": "-Y_DQN6nGRjb"
      },
      "outputs": [],
      "source": [
        "dataset = pd.read_csv('/content/finalSlot1.csv')"
      ]
    },
    {
      "cell_type": "code",
      "execution_count": null,
      "metadata": {
        "id": "iF3AQHo5Kzq5"
      },
      "outputs": [],
      "source": [
        "countroutes = set()\n",
        "keyto=dataset['stop_id_to'][1]\n",
        "keyfrom=dataset['stop_id_from'][1]\n",
        "for i in range(0,len(dataset['stop_id_to'])):\n",
        "  if((dataset['stop_id_to'][i]==keyto) & (dataset['stop_id_from'][i]==keyfrom)):\n",
        "    countroutes.add(dataset['route_id'][i])"
      ]
    },
    {
      "cell_type": "code",
      "execution_count": null,
      "metadata": {
        "colab": {
          "base_uri": "https://localhost:8080/"
        },
        "id": "j0aDBFD_MVGS",
        "outputId": "eccc8de0-f642-400b-a8ab-4840be81aa41"
      },
      "outputs": [
        {
          "data": {
            "text/plain": [
              "{'100_18',\n",
              " '115P_90',\n",
              " '204',\n",
              " '208',\n",
              " '264',\n",
              " '332',\n",
              " '333',\n",
              " '341',\n",
              " '36_47',\n",
              " 'VJR5'}"
            ]
          },
          "execution_count": 33,
          "metadata": {},
          "output_type": "execute_result"
        }
      ],
      "source": [
        "countroutes"
      ]
    },
    {
      "cell_type": "code",
      "execution_count": null,
      "metadata": {
        "colab": {
          "base_uri": "https://localhost:8080/"
        },
        "id": "FA190pKnMYMs",
        "outputId": "ba1b6bca-cbfb-45e4-e50c-2e59a5db73a9"
      },
      "outputs": [
        {
          "data": {
            "text/plain": [
              "10"
            ]
          },
          "execution_count": 34,
          "metadata": {},
          "output_type": "execute_result"
        }
      ],
      "source": [
        "len(countroutes)"
      ]
    },
    {
      "cell_type": "code",
      "execution_count": null,
      "metadata": {
        "id": "M9xsyBANG0hv"
      },
      "outputs": [],
      "source": [
        "count =0\n",
        "keyto=dataset['stop_id_to'][1]\n",
        "keyfrom=dataset['stop_id_from'][1]\n",
        "for i in range(0,len(dataset['stop_id_to'])):\n",
        "  if((dataset['stop_id_to'][i]==keyto) & (dataset['stop_id_from'][i]==keyfrom)):\n",
        "    count+=1;"
      ]
    },
    {
      "cell_type": "code",
      "execution_count": null,
      "metadata": {
        "colab": {
          "base_uri": "https://localhost:8080/"
        },
        "id": "pWDBqSB3H0Rp",
        "outputId": "03688f42-aeda-4295-b511-d0c7a45015be"
      },
      "outputs": [
        {
          "data": {
            "text/plain": [
              "90"
            ]
          },
          "execution_count": 36,
          "metadata": {},
          "output_type": "execute_result"
        }
      ],
      "source": [
        "count"
      ]
    },
    {
      "cell_type": "code",
      "execution_count": null,
      "metadata": {
        "colab": {
          "base_uri": "https://localhost:8080/"
        },
        "id": "qKRYtyCbH93T",
        "outputId": "26b55e67-4874-4752-c4fb-90f09c0fd68f"
      },
      "outputs": [
        {
          "data": {
            "text/plain": [
              "36156"
            ]
          },
          "execution_count": 37,
          "metadata": {},
          "output_type": "execute_result"
        }
      ],
      "source": [
        "dataset['stop_id_from'][1]"
      ]
    },
    {
      "cell_type": "code",
      "execution_count": null,
      "metadata": {
        "colab": {
          "base_uri": "https://localhost:8080/"
        },
        "id": "av2OhzwSMciT",
        "outputId": "0e344c36-3915-449b-f8b6-e5b1c403356e"
      },
      "outputs": [
        {
          "data": {
            "text/plain": [
              "9.0"
            ]
          },
          "execution_count": 38,
          "metadata": {},
          "output_type": "execute_result"
        }
      ],
      "source": [
        "count/len(countroutes)"
      ]
    },
    {
      "cell_type": "code",
      "execution_count": null,
      "metadata": {
        "id": "WTFirQd8eWRA"
      },
      "outputs": [],
      "source": [
        "df = pd.DataFrame()"
      ]
    },
    {
      "cell_type": "code",
      "execution_count": null,
      "metadata": {
        "id": "lCs_n1AwewOL"
      },
      "outputs": [],
      "source": [
        "stop_id_to = []\n",
        "stop_id_from = []\n",
        "trip_id = []\n",
        "time=[]\n",
        "speed=[]"
      ]
    },
    {
      "cell_type": "code",
      "execution_count": null,
      "metadata": {
        "id": "I4yJfzO4eSYs"
      },
      "outputs": [],
      "source": [
        "for i in range(0,len(dataset['stop_id_to'])):\n",
        "  if(((dataset['stop_id_to'][i] in stop_id_to)==0) & ((dataset['stop_id_from'][i] in stop_id_from)==0)):\n",
        "    stop_id_to.append(dataset['stop_id_to'][i])\n",
        "    stop_id_from.append(dataset['stop_id_from'][i])\n"
      ]
    },
    {
      "cell_type": "code",
      "execution_count": null,
      "metadata": {
        "id": "D22mjVvlr7nB"
      },
      "outputs": [],
      "source": [
        "df['stop_id_from'] = stop_id_from\n",
        "df['stop_id_to'] = stop_id_to\n",
        "# df['trip_id'] = trip_id\n",
        "# df['time'] = time\n",
        "# df['speed'] = speed"
      ]
    },
    {
      "cell_type": "code",
      "execution_count": null,
      "metadata": {
        "colab": {
          "base_uri": "https://localhost:8080/",
          "height": 424
        },
        "id": "QR-z1Je4sPjR",
        "outputId": "e1118c44-dc40-404a-85b8-a24bcd2a1460"
      },
      "outputs": [
        {
          "data": {
            "text/html": [
              "\n",
              "  <div id=\"df-30ec117e-274b-47d9-a148-ff8fd2eaa54d\">\n",
              "    <div class=\"colab-df-container\">\n",
              "      <div>\n",
              "<style scoped>\n",
              "    .dataframe tbody tr th:only-of-type {\n",
              "        vertical-align: middle;\n",
              "    }\n",
              "\n",
              "    .dataframe tbody tr th {\n",
              "        vertical-align: top;\n",
              "    }\n",
              "\n",
              "    .dataframe thead th {\n",
              "        text-align: right;\n",
              "    }\n",
              "</style>\n",
              "<table border=\"1\" class=\"dataframe\">\n",
              "  <thead>\n",
              "    <tr style=\"text-align: right;\">\n",
              "      <th></th>\n",
              "      <th>stop_id_from</th>\n",
              "      <th>stop_id_to</th>\n",
              "    </tr>\n",
              "  </thead>\n",
              "  <tbody>\n",
              "    <tr>\n",
              "      <th>0</th>\n",
              "      <td>36156</td>\n",
              "      <td>38709</td>\n",
              "    </tr>\n",
              "    <tr>\n",
              "      <th>1</th>\n",
              "      <td>38709</td>\n",
              "      <td>2321</td>\n",
              "    </tr>\n",
              "    <tr>\n",
              "      <th>2</th>\n",
              "      <td>2321</td>\n",
              "      <td>38783</td>\n",
              "    </tr>\n",
              "    <tr>\n",
              "      <th>3</th>\n",
              "      <td>38783</td>\n",
              "      <td>38784</td>\n",
              "    </tr>\n",
              "    <tr>\n",
              "      <th>4</th>\n",
              "      <td>38784</td>\n",
              "      <td>38785</td>\n",
              "    </tr>\n",
              "    <tr>\n",
              "      <th>...</th>\n",
              "      <td>...</td>\n",
              "      <td>...</td>\n",
              "    </tr>\n",
              "    <tr>\n",
              "      <th>2867</th>\n",
              "      <td>3905</td>\n",
              "      <td>813</td>\n",
              "    </tr>\n",
              "    <tr>\n",
              "      <th>2868</th>\n",
              "      <td>813</td>\n",
              "      <td>861</td>\n",
              "    </tr>\n",
              "    <tr>\n",
              "      <th>2869</th>\n",
              "      <td>861</td>\n",
              "      <td>880</td>\n",
              "    </tr>\n",
              "    <tr>\n",
              "      <th>2870</th>\n",
              "      <td>880</td>\n",
              "      <td>823</td>\n",
              "    </tr>\n",
              "    <tr>\n",
              "      <th>2871</th>\n",
              "      <td>823</td>\n",
              "      <td>862</td>\n",
              "    </tr>\n",
              "  </tbody>\n",
              "</table>\n",
              "<p>2872 rows × 2 columns</p>\n",
              "</div>\n",
              "      <button class=\"colab-df-convert\" onclick=\"convertToInteractive('df-30ec117e-274b-47d9-a148-ff8fd2eaa54d')\"\n",
              "              title=\"Convert this dataframe to an interactive table.\"\n",
              "              style=\"display:none;\">\n",
              "        \n",
              "  <svg xmlns=\"http://www.w3.org/2000/svg\" height=\"24px\"viewBox=\"0 0 24 24\"\n",
              "       width=\"24px\">\n",
              "    <path d=\"M0 0h24v24H0V0z\" fill=\"none\"/>\n",
              "    <path d=\"M18.56 5.44l.94 2.06.94-2.06 2.06-.94-2.06-.94-.94-2.06-.94 2.06-2.06.94zm-11 1L8.5 8.5l.94-2.06 2.06-.94-2.06-.94L8.5 2.5l-.94 2.06-2.06.94zm10 10l.94 2.06.94-2.06 2.06-.94-2.06-.94-.94-2.06-.94 2.06-2.06.94z\"/><path d=\"M17.41 7.96l-1.37-1.37c-.4-.4-.92-.59-1.43-.59-.52 0-1.04.2-1.43.59L10.3 9.45l-7.72 7.72c-.78.78-.78 2.05 0 2.83L4 21.41c.39.39.9.59 1.41.59.51 0 1.02-.2 1.41-.59l7.78-7.78 2.81-2.81c.8-.78.8-2.07 0-2.86zM5.41 20L4 18.59l7.72-7.72 1.47 1.35L5.41 20z\"/>\n",
              "  </svg>\n",
              "      </button>\n",
              "      \n",
              "  <style>\n",
              "    .colab-df-container {\n",
              "      display:flex;\n",
              "      flex-wrap:wrap;\n",
              "      gap: 12px;\n",
              "    }\n",
              "\n",
              "    .colab-df-convert {\n",
              "      background-color: #E8F0FE;\n",
              "      border: none;\n",
              "      border-radius: 50%;\n",
              "      cursor: pointer;\n",
              "      display: none;\n",
              "      fill: #1967D2;\n",
              "      height: 32px;\n",
              "      padding: 0 0 0 0;\n",
              "      width: 32px;\n",
              "    }\n",
              "\n",
              "    .colab-df-convert:hover {\n",
              "      background-color: #E2EBFA;\n",
              "      box-shadow: 0px 1px 2px rgba(60, 64, 67, 0.3), 0px 1px 3px 1px rgba(60, 64, 67, 0.15);\n",
              "      fill: #174EA6;\n",
              "    }\n",
              "\n",
              "    [theme=dark] .colab-df-convert {\n",
              "      background-color: #3B4455;\n",
              "      fill: #D2E3FC;\n",
              "    }\n",
              "\n",
              "    [theme=dark] .colab-df-convert:hover {\n",
              "      background-color: #434B5C;\n",
              "      box-shadow: 0px 1px 3px 1px rgba(0, 0, 0, 0.15);\n",
              "      filter: drop-shadow(0px 1px 2px rgba(0, 0, 0, 0.3));\n",
              "      fill: #FFFFFF;\n",
              "    }\n",
              "  </style>\n",
              "\n",
              "      <script>\n",
              "        const buttonEl =\n",
              "          document.querySelector('#df-30ec117e-274b-47d9-a148-ff8fd2eaa54d button.colab-df-convert');\n",
              "        buttonEl.style.display =\n",
              "          google.colab.kernel.accessAllowed ? 'block' : 'none';\n",
              "\n",
              "        async function convertToInteractive(key) {\n",
              "          const element = document.querySelector('#df-30ec117e-274b-47d9-a148-ff8fd2eaa54d');\n",
              "          const dataTable =\n",
              "            await google.colab.kernel.invokeFunction('convertToInteractive',\n",
              "                                                     [key], {});\n",
              "          if (!dataTable) return;\n",
              "\n",
              "          const docLinkHtml = 'Like what you see? Visit the ' +\n",
              "            '<a target=\"_blank\" href=https://colab.research.google.com/notebooks/data_table.ipynb>data table notebook</a>'\n",
              "            + ' to learn more about interactive tables.';\n",
              "          element.innerHTML = '';\n",
              "          dataTable['output_type'] = 'display_data';\n",
              "          await google.colab.output.renderOutput(dataTable, element);\n",
              "          const docLink = document.createElement('div');\n",
              "          docLink.innerHTML = docLinkHtml;\n",
              "          element.appendChild(docLink);\n",
              "        }\n",
              "      </script>\n",
              "    </div>\n",
              "  </div>\n",
              "  "
            ],
            "text/plain": [
              "      stop_id_from  stop_id_to\n",
              "0            36156       38709\n",
              "1            38709        2321\n",
              "2             2321       38783\n",
              "3            38783       38784\n",
              "4            38784       38785\n",
              "...            ...         ...\n",
              "2867          3905         813\n",
              "2868           813         861\n",
              "2869           861         880\n",
              "2870           880         823\n",
              "2871           823         862\n",
              "\n",
              "[2872 rows x 2 columns]"
            ]
          },
          "execution_count": 73,
          "metadata": {},
          "output_type": "execute_result"
        }
      ],
      "source": [
        "df"
      ]
    },
    {
      "cell_type": "code",
      "execution_count": null,
      "metadata": {
        "id": "6o7dFXUhtag6"
      },
      "outputs": [],
      "source": [
        "for i in range(0,len(df['stop_id_to'])):\n",
        "    trip_id.append(dataset['trip_id'][i])\n",
        "    time.append(dataset['time'][i])\n",
        "    speed.append(dataset['speed'][i])"
      ]
    },
    {
      "cell_type": "code",
      "execution_count": null,
      "metadata": {
        "colab": {
          "background_save": true
        },
        "id": "Ie0e4inVuQVa"
      },
      "outputs": [],
      "source": [
        "df1=pd.DataFrame()"
      ]
    },
    {
      "cell_type": "code",
      "execution_count": null,
      "metadata": {
        "colab": {
          "background_save": true
        },
        "id": "E-HP_WLauU8d"
      },
      "outputs": [],
      "source": [
        "df1=dataset.drop_duplicates()"
      ]
    },
    {
      "cell_type": "code",
      "execution_count": null,
      "metadata": {
        "colab": {
          "base_uri": "https://localhost:8080/",
          "height": 424
        },
        "id": "VmkXotNNuejF",
        "outputId": "527fd931-b7bd-47d8-e440-4fcd3a2fb9de"
      },
      "outputs": [
        {
          "data": {
            "text/html": [
              "\n",
              "  <div id=\"df-62a350b8-28ea-497a-a167-b24cd2d21b29\">\n",
              "    <div class=\"colab-df-container\">\n",
              "      <div>\n",
              "<style scoped>\n",
              "    .dataframe tbody tr th:only-of-type {\n",
              "        vertical-align: middle;\n",
              "    }\n",
              "\n",
              "    .dataframe tbody tr th {\n",
              "        vertical-align: top;\n",
              "    }\n",
              "\n",
              "    .dataframe thead th {\n",
              "        text-align: right;\n",
              "    }\n",
              "</style>\n",
              "<table border=\"1\" class=\"dataframe\">\n",
              "  <thead>\n",
              "    <tr style=\"text-align: right;\">\n",
              "      <th></th>\n",
              "      <th>route_id</th>\n",
              "      <th>stop_id_from</th>\n",
              "      <th>stop_id_to</th>\n",
              "      <th>trip_id</th>\n",
              "      <th>time</th>\n",
              "      <th>speed</th>\n",
              "    </tr>\n",
              "  </thead>\n",
              "  <tbody>\n",
              "    <tr>\n",
              "      <th>0</th>\n",
              "      <td>100_18</td>\n",
              "      <td>36156</td>\n",
              "      <td>38709</td>\n",
              "      <td>NORMAL_333_Pune Station To  Hinjawadi Maan Pha...</td>\n",
              "      <td>0.027222</td>\n",
              "      <td>14.479565</td>\n",
              "    </tr>\n",
              "    <tr>\n",
              "      <th>1</th>\n",
              "      <td>100_18</td>\n",
              "      <td>36156</td>\n",
              "      <td>38709</td>\n",
              "      <td>NORMAL_115P_Pune Station to Hinjawadi Phase 3_...</td>\n",
              "      <td>0.032222</td>\n",
              "      <td>12.232736</td>\n",
              "    </tr>\n",
              "    <tr>\n",
              "      <th>2</th>\n",
              "      <td>100_18</td>\n",
              "      <td>36156</td>\n",
              "      <td>38709</td>\n",
              "      <td>NORMAL_100_Ma Na Pa to Hinjawadi Maan Phase 3_...</td>\n",
              "      <td>0.058333</td>\n",
              "      <td>6.757130</td>\n",
              "    </tr>\n",
              "    <tr>\n",
              "      <th>3</th>\n",
              "      <td>100_18</td>\n",
              "      <td>36156</td>\n",
              "      <td>38709</td>\n",
              "      <td>NORMAL_VJR5_Ma Na Pa To Mukai Chowk_Up-0905_0</td>\n",
              "      <td>0.033611</td>\n",
              "      <td>11.727251</td>\n",
              "    </tr>\n",
              "    <tr>\n",
              "      <th>4</th>\n",
              "      <td>100_18</td>\n",
              "      <td>36156</td>\n",
              "      <td>38709</td>\n",
              "      <td>NORMAL_100_Ma Na Pa to Hinjawadi Maan Phase 3_...</td>\n",
              "      <td>0.058333</td>\n",
              "      <td>6.757130</td>\n",
              "    </tr>\n",
              "    <tr>\n",
              "      <th>...</th>\n",
              "      <td>...</td>\n",
              "      <td>...</td>\n",
              "      <td>...</td>\n",
              "      <td>...</td>\n",
              "      <td>...</td>\n",
              "      <td>...</td>\n",
              "    </tr>\n",
              "    <tr>\n",
              "      <th>148115</th>\n",
              "      <td>VJR6</td>\n",
              "      <td>39381</td>\n",
              "      <td>39380</td>\n",
              "      <td>NORMAL_357_Pune Station To Bhosari Terminal_Up...</td>\n",
              "      <td>0.011667</td>\n",
              "      <td>34.701131</td>\n",
              "    </tr>\n",
              "    <tr>\n",
              "      <th>148116</th>\n",
              "      <td>VJR6</td>\n",
              "      <td>39381</td>\n",
              "      <td>39380</td>\n",
              "      <td>NORMAL_357_Pune Station To Bhosari Terminal_Up...</td>\n",
              "      <td>0.011389</td>\n",
              "      <td>35.547501</td>\n",
              "    </tr>\n",
              "    <tr>\n",
              "      <th>148117</th>\n",
              "      <td>VJR6</td>\n",
              "      <td>39380</td>\n",
              "      <td>712</td>\n",
              "      <td>NORMAL_149_Bhakti Shakti To Shewalwadi_Down-08...</td>\n",
              "      <td>0.016667</td>\n",
              "      <td>30.432500</td>\n",
              "    </tr>\n",
              "    <tr>\n",
              "      <th>148118</th>\n",
              "      <td>VJR6</td>\n",
              "      <td>39380</td>\n",
              "      <td>712</td>\n",
              "      <td>NORMAL_VJR6_Hinjawadi Maan Phase 3 To Bhosari_...</td>\n",
              "      <td>0.032778</td>\n",
              "      <td>15.474153</td>\n",
              "    </tr>\n",
              "    <tr>\n",
              "      <th>148119</th>\n",
              "      <td>VJR6</td>\n",
              "      <td>39380</td>\n",
              "      <td>712</td>\n",
              "      <td>NORMAL_324_Hinjawadi Maan Phase 3 to Bhosari_D...</td>\n",
              "      <td>0.041667</td>\n",
              "      <td>12.173000</td>\n",
              "    </tr>\n",
              "  </tbody>\n",
              "</table>\n",
              "<p>147897 rows × 6 columns</p>\n",
              "</div>\n",
              "      <button class=\"colab-df-convert\" onclick=\"convertToInteractive('df-62a350b8-28ea-497a-a167-b24cd2d21b29')\"\n",
              "              title=\"Convert this dataframe to an interactive table.\"\n",
              "              style=\"display:none;\">\n",
              "        \n",
              "  <svg xmlns=\"http://www.w3.org/2000/svg\" height=\"24px\"viewBox=\"0 0 24 24\"\n",
              "       width=\"24px\">\n",
              "    <path d=\"M0 0h24v24H0V0z\" fill=\"none\"/>\n",
              "    <path d=\"M18.56 5.44l.94 2.06.94-2.06 2.06-.94-2.06-.94-.94-2.06-.94 2.06-2.06.94zm-11 1L8.5 8.5l.94-2.06 2.06-.94-2.06-.94L8.5 2.5l-.94 2.06-2.06.94zm10 10l.94 2.06.94-2.06 2.06-.94-2.06-.94-.94-2.06-.94 2.06-2.06.94z\"/><path d=\"M17.41 7.96l-1.37-1.37c-.4-.4-.92-.59-1.43-.59-.52 0-1.04.2-1.43.59L10.3 9.45l-7.72 7.72c-.78.78-.78 2.05 0 2.83L4 21.41c.39.39.9.59 1.41.59.51 0 1.02-.2 1.41-.59l7.78-7.78 2.81-2.81c.8-.78.8-2.07 0-2.86zM5.41 20L4 18.59l7.72-7.72 1.47 1.35L5.41 20z\"/>\n",
              "  </svg>\n",
              "      </button>\n",
              "      \n",
              "  <style>\n",
              "    .colab-df-container {\n",
              "      display:flex;\n",
              "      flex-wrap:wrap;\n",
              "      gap: 12px;\n",
              "    }\n",
              "\n",
              "    .colab-df-convert {\n",
              "      background-color: #E8F0FE;\n",
              "      border: none;\n",
              "      border-radius: 50%;\n",
              "      cursor: pointer;\n",
              "      display: none;\n",
              "      fill: #1967D2;\n",
              "      height: 32px;\n",
              "      padding: 0 0 0 0;\n",
              "      width: 32px;\n",
              "    }\n",
              "\n",
              "    .colab-df-convert:hover {\n",
              "      background-color: #E2EBFA;\n",
              "      box-shadow: 0px 1px 2px rgba(60, 64, 67, 0.3), 0px 1px 3px 1px rgba(60, 64, 67, 0.15);\n",
              "      fill: #174EA6;\n",
              "    }\n",
              "\n",
              "    [theme=dark] .colab-df-convert {\n",
              "      background-color: #3B4455;\n",
              "      fill: #D2E3FC;\n",
              "    }\n",
              "\n",
              "    [theme=dark] .colab-df-convert:hover {\n",
              "      background-color: #434B5C;\n",
              "      box-shadow: 0px 1px 3px 1px rgba(0, 0, 0, 0.15);\n",
              "      filter: drop-shadow(0px 1px 2px rgba(0, 0, 0, 0.3));\n",
              "      fill: #FFFFFF;\n",
              "    }\n",
              "  </style>\n",
              "\n",
              "      <script>\n",
              "        const buttonEl =\n",
              "          document.querySelector('#df-62a350b8-28ea-497a-a167-b24cd2d21b29 button.colab-df-convert');\n",
              "        buttonEl.style.display =\n",
              "          google.colab.kernel.accessAllowed ? 'block' : 'none';\n",
              "\n",
              "        async function convertToInteractive(key) {\n",
              "          const element = document.querySelector('#df-62a350b8-28ea-497a-a167-b24cd2d21b29');\n",
              "          const dataTable =\n",
              "            await google.colab.kernel.invokeFunction('convertToInteractive',\n",
              "                                                     [key], {});\n",
              "          if (!dataTable) return;\n",
              "\n",
              "          const docLinkHtml = 'Like what you see? Visit the ' +\n",
              "            '<a target=\"_blank\" href=https://colab.research.google.com/notebooks/data_table.ipynb>data table notebook</a>'\n",
              "            + ' to learn more about interactive tables.';\n",
              "          element.innerHTML = '';\n",
              "          dataTable['output_type'] = 'display_data';\n",
              "          await google.colab.output.renderOutput(dataTable, element);\n",
              "          const docLink = document.createElement('div');\n",
              "          docLink.innerHTML = docLinkHtml;\n",
              "          element.appendChild(docLink);\n",
              "        }\n",
              "      </script>\n",
              "    </div>\n",
              "  </div>\n",
              "  "
            ],
            "text/plain": [
              "       route_id  stop_id_from  ...      time      speed\n",
              "0        100_18         36156  ...  0.027222  14.479565\n",
              "1        100_18         36156  ...  0.032222  12.232736\n",
              "2        100_18         36156  ...  0.058333   6.757130\n",
              "3        100_18         36156  ...  0.033611  11.727251\n",
              "4        100_18         36156  ...  0.058333   6.757130\n",
              "...         ...           ...  ...       ...        ...\n",
              "148115     VJR6         39381  ...  0.011667  34.701131\n",
              "148116     VJR6         39381  ...  0.011389  35.547501\n",
              "148117     VJR6         39380  ...  0.016667  30.432500\n",
              "148118     VJR6         39380  ...  0.032778  15.474153\n",
              "148119     VJR6         39380  ...  0.041667  12.173000\n",
              "\n",
              "[147897 rows x 6 columns]"
            ]
          },
          "execution_count": 76,
          "metadata": {},
          "output_type": "execute_result"
        }
      ],
      "source": [
        "df1"
      ]
    }
  ],
  "metadata": {
    "colab": {
      "name": "No of buses.ipynb",
      "provenance": []
    },
    "kernelspec": {
      "display_name": "Python 3",
      "name": "python3"
    },
    "language_info": {
      "name": "python"
    }
  },
  "nbformat": 4,
  "nbformat_minor": 0
}