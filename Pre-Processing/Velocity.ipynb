{
  "nbformat": 4,
  "nbformat_minor": 0,
  "metadata": {
    "colab": {
      "name": "Velocity.ipynb",
      "provenance": [],
      "collapsed_sections": []
    },
    "kernelspec": {
      "name": "python3",
      "display_name": "Python 3"
    },
    "language_info": {
      "name": "python"
    }
  },
  "cells": [
    {
      "cell_type": "code",
      "execution_count": null,
      "metadata": {
        "id": "R3chJY-S2Bze"
      },
      "outputs": [],
      "source": [
        "import numpy as np\n",
        "import pandas as pd"
      ]
    },
    {
      "cell_type": "code",
      "source": [
        "agency = pd.read_excel('pune_static.xlsx', sheet_name = 'agency.csv')\n",
        "routes = pd.read_excel('pune_static.xlsx', sheet_name = 'routes.csv')\n",
        "shapes = pd.read_excel('pune_static.xlsx', sheet_name = 'shapes.csv')\n",
        "stop_times = pd.read_excel('pune_static.xlsx', sheet_name = 'stop_times.csv')\n",
        "stops = pd.read_excel('pune_static.xlsx', sheet_name = 'stops.csv')\n",
        "trips = pd.read_excel('pune_static.xlsx', sheet_name = 'trips.csv')"
      ],
      "metadata": {
        "id": "nbojG8n-4NnS"
      },
      "execution_count": null,
      "outputs": []
    },
    {
      "cell_type": "code",
      "source": [
        "routes.drop('route_short_name', axis='columns')\n",
        "routes.drop('route_type', axis='columns')\n",
        "trips.drop('service_id', axis='columns')"
      ],
      "metadata": {
        "colab": {
          "base_uri": "https://localhost:8080/",
          "height": 641
        },
        "id": "9L_JbGun7uO9",
        "outputId": "27436104-7d5e-409c-b299-775f0a5d81c3"
      },
      "execution_count": null,
      "outputs": [
        {
          "output_type": "execute_result",
          "data": {
            "text/html": [
              "\n",
              "  <div id=\"df-a7dcab30-028f-4b91-93d2-8eccd2288848\">\n",
              "    <div class=\"colab-df-container\">\n",
              "      <div>\n",
              "<style scoped>\n",
              "    .dataframe tbody tr th:only-of-type {\n",
              "        vertical-align: middle;\n",
              "    }\n",
              "\n",
              "    .dataframe tbody tr th {\n",
              "        vertical-align: top;\n",
              "    }\n",
              "\n",
              "    .dataframe thead th {\n",
              "        text-align: right;\n",
              "    }\n",
              "</style>\n",
              "<table border=\"1\" class=\"dataframe\">\n",
              "  <thead>\n",
              "    <tr style=\"text-align: right;\">\n",
              "      <th></th>\n",
              "      <th>route_id</th>\n",
              "      <th>trip_id</th>\n",
              "      <th>trip_headsign</th>\n",
              "      <th>direction_id</th>\n",
              "      <th>shape_id</th>\n",
              "      <th>duty</th>\n",
              "      <th>duty_sequence_number</th>\n",
              "      <th>run_sequence_number</th>\n",
              "    </tr>\n",
              "  </thead>\n",
              "  <tbody>\n",
              "    <tr>\n",
              "      <th>0</th>\n",
              "      <td>42</td>\n",
              "      <td>NORMAL_42_Katraj To Bhakti Shakti_Up-0740_0</td>\n",
              "      <td>Katraj To Bhakti Shakti</td>\n",
              "      <td>0</td>\n",
              "      <td>4810</td>\n",
              "      <td>42/10</td>\n",
              "      <td>1</td>\n",
              "      <td>1</td>\n",
              "    </tr>\n",
              "    <tr>\n",
              "      <th>1</th>\n",
              "      <td>42</td>\n",
              "      <td>NORMAL_42_Bhakti Shakti To Katraj_Down-2010_0</td>\n",
              "      <td>Bhakti Shakti To Katraj</td>\n",
              "      <td>0</td>\n",
              "      <td>4811</td>\n",
              "      <td>42/5</td>\n",
              "      <td>8</td>\n",
              "      <td>4</td>\n",
              "    </tr>\n",
              "    <tr>\n",
              "      <th>2</th>\n",
              "      <td>366</td>\n",
              "      <td>NORMAL_366_Pune Station To Bhakti Shakti (Via ...</td>\n",
              "      <td>Pune Station To Bhakti Shakti (Via Yerwada)</td>\n",
              "      <td>0</td>\n",
              "      <td>4794</td>\n",
              "      <td>366/1</td>\n",
              "      <td>10</td>\n",
              "      <td>4</td>\n",
              "    </tr>\n",
              "    <tr>\n",
              "      <th>3</th>\n",
              "      <td>42</td>\n",
              "      <td>NORMAL_42_Katraj To Bhakti Shakti_Up-0655_0</td>\n",
              "      <td>Katraj To Bhakti Shakti</td>\n",
              "      <td>0</td>\n",
              "      <td>4810</td>\n",
              "      <td>42/7</td>\n",
              "      <td>1</td>\n",
              "      <td>1</td>\n",
              "    </tr>\n",
              "    <tr>\n",
              "      <th>4</th>\n",
              "      <td>366</td>\n",
              "      <td>NORMAL_366_Bhakti Shakti To Pune Station (Via ...</td>\n",
              "      <td>Bhakti Shakti To Pune Station (Via Yerwada)</td>\n",
              "      <td>0</td>\n",
              "      <td>4795</td>\n",
              "      <td>366/3</td>\n",
              "      <td>7</td>\n",
              "      <td>1</td>\n",
              "    </tr>\n",
              "    <tr>\n",
              "      <th>...</th>\n",
              "      <td>...</td>\n",
              "      <td>...</td>\n",
              "      <td>...</td>\n",
              "      <td>...</td>\n",
              "      <td>...</td>\n",
              "      <td>...</td>\n",
              "      <td>...</td>\n",
              "      <td>...</td>\n",
              "    </tr>\n",
              "    <tr>\n",
              "      <th>21799</th>\n",
              "      <td>209_96</td>\n",
              "      <td>NORMAL_209_Saswad Bus Stand To Katraj_Down-1705_0</td>\n",
              "      <td>Saswad Bus Stand To Katraj</td>\n",
              "      <td>1</td>\n",
              "      <td>5245</td>\n",
              "      <td>209/8</td>\n",
              "      <td>8</td>\n",
              "      <td>2</td>\n",
              "    </tr>\n",
              "    <tr>\n",
              "      <th>21800</th>\n",
              "      <td>209_96</td>\n",
              "      <td>NORMAL_209_Katraj To Saswad Bus Stand_Up-1845_0</td>\n",
              "      <td>Katraj To Saswad Bus Stand</td>\n",
              "      <td>1</td>\n",
              "      <td>5244</td>\n",
              "      <td>209/8</td>\n",
              "      <td>9</td>\n",
              "      <td>3</td>\n",
              "    </tr>\n",
              "    <tr>\n",
              "      <th>21801</th>\n",
              "      <td>209_96</td>\n",
              "      <td>NORMAL_209_Saswad Bus Stand To Katraj_Down-2000_0</td>\n",
              "      <td>Saswad Bus Stand To Katraj</td>\n",
              "      <td>1</td>\n",
              "      <td>5245</td>\n",
              "      <td>209/8</td>\n",
              "      <td>10</td>\n",
              "      <td>4</td>\n",
              "    </tr>\n",
              "    <tr>\n",
              "      <th>21802</th>\n",
              "      <td>209_96</td>\n",
              "      <td>NORMAL_209_Katraj To Saswad Bus Stand_Up-2130_0</td>\n",
              "      <td>Katraj To Saswad Bus Stand</td>\n",
              "      <td>1</td>\n",
              "      <td>5244</td>\n",
              "      <td>209/8</td>\n",
              "      <td>11</td>\n",
              "      <td>5</td>\n",
              "    </tr>\n",
              "    <tr>\n",
              "      <th>21803</th>\n",
              "      <td>209_96</td>\n",
              "      <td>NORMAL_209_Saswad Bus Stand To Katraj_Down-2240_0</td>\n",
              "      <td>Saswad Bus Stand To Katraj</td>\n",
              "      <td>1</td>\n",
              "      <td>5245</td>\n",
              "      <td>209/8</td>\n",
              "      <td>12</td>\n",
              "      <td>6</td>\n",
              "    </tr>\n",
              "  </tbody>\n",
              "</table>\n",
              "<p>21804 rows × 8 columns</p>\n",
              "</div>\n",
              "      <button class=\"colab-df-convert\" onclick=\"convertToInteractive('df-a7dcab30-028f-4b91-93d2-8eccd2288848')\"\n",
              "              title=\"Convert this dataframe to an interactive table.\"\n",
              "              style=\"display:none;\">\n",
              "        \n",
              "  <svg xmlns=\"http://www.w3.org/2000/svg\" height=\"24px\"viewBox=\"0 0 24 24\"\n",
              "       width=\"24px\">\n",
              "    <path d=\"M0 0h24v24H0V0z\" fill=\"none\"/>\n",
              "    <path d=\"M18.56 5.44l.94 2.06.94-2.06 2.06-.94-2.06-.94-.94-2.06-.94 2.06-2.06.94zm-11 1L8.5 8.5l.94-2.06 2.06-.94-2.06-.94L8.5 2.5l-.94 2.06-2.06.94zm10 10l.94 2.06.94-2.06 2.06-.94-2.06-.94-.94-2.06-.94 2.06-2.06.94z\"/><path d=\"M17.41 7.96l-1.37-1.37c-.4-.4-.92-.59-1.43-.59-.52 0-1.04.2-1.43.59L10.3 9.45l-7.72 7.72c-.78.78-.78 2.05 0 2.83L4 21.41c.39.39.9.59 1.41.59.51 0 1.02-.2 1.41-.59l7.78-7.78 2.81-2.81c.8-.78.8-2.07 0-2.86zM5.41 20L4 18.59l7.72-7.72 1.47 1.35L5.41 20z\"/>\n",
              "  </svg>\n",
              "      </button>\n",
              "      \n",
              "  <style>\n",
              "    .colab-df-container {\n",
              "      display:flex;\n",
              "      flex-wrap:wrap;\n",
              "      gap: 12px;\n",
              "    }\n",
              "\n",
              "    .colab-df-convert {\n",
              "      background-color: #E8F0FE;\n",
              "      border: none;\n",
              "      border-radius: 50%;\n",
              "      cursor: pointer;\n",
              "      display: none;\n",
              "      fill: #1967D2;\n",
              "      height: 32px;\n",
              "      padding: 0 0 0 0;\n",
              "      width: 32px;\n",
              "    }\n",
              "\n",
              "    .colab-df-convert:hover {\n",
              "      background-color: #E2EBFA;\n",
              "      box-shadow: 0px 1px 2px rgba(60, 64, 67, 0.3), 0px 1px 3px 1px rgba(60, 64, 67, 0.15);\n",
              "      fill: #174EA6;\n",
              "    }\n",
              "\n",
              "    [theme=dark] .colab-df-convert {\n",
              "      background-color: #3B4455;\n",
              "      fill: #D2E3FC;\n",
              "    }\n",
              "\n",
              "    [theme=dark] .colab-df-convert:hover {\n",
              "      background-color: #434B5C;\n",
              "      box-shadow: 0px 1px 3px 1px rgba(0, 0, 0, 0.15);\n",
              "      filter: drop-shadow(0px 1px 2px rgba(0, 0, 0, 0.3));\n",
              "      fill: #FFFFFF;\n",
              "    }\n",
              "  </style>\n",
              "\n",
              "      <script>\n",
              "        const buttonEl =\n",
              "          document.querySelector('#df-a7dcab30-028f-4b91-93d2-8eccd2288848 button.colab-df-convert');\n",
              "        buttonEl.style.display =\n",
              "          google.colab.kernel.accessAllowed ? 'block' : 'none';\n",
              "\n",
              "        async function convertToInteractive(key) {\n",
              "          const element = document.querySelector('#df-a7dcab30-028f-4b91-93d2-8eccd2288848');\n",
              "          const dataTable =\n",
              "            await google.colab.kernel.invokeFunction('convertToInteractive',\n",
              "                                                     [key], {});\n",
              "          if (!dataTable) return;\n",
              "\n",
              "          const docLinkHtml = 'Like what you see? Visit the ' +\n",
              "            '<a target=\"_blank\" href=https://colab.research.google.com/notebooks/data_table.ipynb>data table notebook</a>'\n",
              "            + ' to learn more about interactive tables.';\n",
              "          element.innerHTML = '';\n",
              "          dataTable['output_type'] = 'display_data';\n",
              "          await google.colab.output.renderOutput(dataTable, element);\n",
              "          const docLink = document.createElement('div');\n",
              "          docLink.innerHTML = docLinkHtml;\n",
              "          element.appendChild(docLink);\n",
              "        }\n",
              "      </script>\n",
              "    </div>\n",
              "  </div>\n",
              "  "
            ],
            "text/plain": [
              "      route_id  ... run_sequence_number\n",
              "0           42  ...                   1\n",
              "1           42  ...                   4\n",
              "2          366  ...                   4\n",
              "3           42  ...                   1\n",
              "4          366  ...                   1\n",
              "...        ...  ...                 ...\n",
              "21799   209_96  ...                   2\n",
              "21800   209_96  ...                   3\n",
              "21801   209_96  ...                   4\n",
              "21802   209_96  ...                   5\n",
              "21803   209_96  ...                   6\n",
              "\n",
              "[21804 rows x 8 columns]"
            ]
          },
          "metadata": {},
          "execution_count": 3
        }
      ]
    },
    {
      "cell_type": "code",
      "source": [
        "def haversine(lon1, lat1, lon3, lat3):                                                                                                                                  \n",
        "    lon1, lat1, lon3, lat3 = map(np.radians, [lon1, lat1, lon3, lat3])                                                  \n",
        "    a = np.sin((lat3) / 2.0)**2 + (np.cos(lat1) * np.cos(lat1+lat3) * np.sin((lon3) / 2.0)**2)                 \n",
        "    distance = 6371 * 2 * np.arcsin(np.sqrt(a))                                                                         \n",
        "    return distance    "
      ],
      "metadata": {
        "id": "cyixUQWB7vvS"
      },
      "execution_count": null,
      "outputs": []
    },
    {
      "cell_type": "code",
      "source": [
        "a = (stop_times['arrival_time'])[2470]\n",
        "b = str(a)\n",
        "print(b)"
      ],
      "metadata": {
        "colab": {
          "base_uri": "https://localhost:8080/"
        },
        "id": "WG-m19wuAcrj",
        "outputId": "5f2fb20b-193b-46b4-e3d9-226a8bdb4bd0"
      },
      "execution_count": null,
      "outputs": [
        {
          "output_type": "stream",
          "name": "stdout",
          "text": [
            "23:58:52\n"
          ]
        }
      ]
    },
    {
      "cell_type": "code",
      "source": [
        "import re\n",
        "from datetime import datetime, time\n",
        "def timew(i):\n",
        "    pattern = '\\A\\d{2}:\\d{2}:\\d{2}'\n",
        "    s = str(stop_times['departure_time'][i])\n",
        "    s1 = str(stop_times['arrival_time'][i+1])\n",
        "    if ( re.search(pattern, s) and re.search(pattern,s1)):\n",
        "      FMT = '%H:%M:%S'\n",
        "      tdelta = datetime.strptime(s1, FMT) - datetime.strptime(s, FMT)\n",
        "      a = tdelta.seconds/3600\n",
        "    else:\n",
        "      a=0.018333333333333333\n",
        "    return a  \n",
        "\n",
        "for i in range(0,len(stop_times['arrival_time'])-1):\n",
        "    b = timew(i)\n",
        "    stop_times['time'][0] = 'NaN'\n",
        "    stop_times['time'][i+1] = b\n",
        "\n",
        "\n",
        "\n",
        "\n",
        "    \n",
        "    \n"
      ],
      "metadata": {
        "id": "erW9kbCK70ps"
      },
      "execution_count": null,
      "outputs": []
    },
    {
      "cell_type": "code",
      "source": [
        "stop_times['time']"
      ],
      "metadata": {
        "colab": {
          "base_uri": "https://localhost:8080/"
        },
        "id": "XNn2VvZhGGEs",
        "outputId": "0c24843c-aae7-48ba-e632-ec4dc3712517"
      },
      "execution_count": null,
      "outputs": [
        {
          "output_type": "execute_result",
          "data": {
            "text/plain": [
              "0              NaN\n",
              "1         0.003889\n",
              "2         0.017500\n",
              "3         0.008611\n",
              "4         0.021667\n",
              "            ...   \n",
              "751847    0.007222\n",
              "751848    0.008056\n",
              "751849    0.007500\n",
              "751850    0.000278\n",
              "751851    0.022500\n",
              "Name: time, Length: 751852, dtype: float64"
            ]
          },
          "metadata": {},
          "execution_count": 20
        }
      ]
    },
    {
      "cell_type": "code",
      "source": [
        "stop_times['dist'] = haversine(stops['stop_lon'],stops['stop_lat'],abs(stops['stop_lon'].diff()),abs(stops['stop_lat'].diff()))\n"
      ],
      "metadata": {
        "id": "82ci2nQD-bkU"
      },
      "execution_count": null,
      "outputs": []
    },
    {
      "cell_type": "code",
      "source": [
        "print(stop_times['dist'])"
      ],
      "metadata": {
        "colab": {
          "base_uri": "https://localhost:8080/"
        },
        "id": "eHuMRxUU-ccD",
        "outputId": "1e997cf6-4ae3-4d90-fbc4-e054dded7a41"
      },
      "execution_count": null,
      "outputs": [
        {
          "output_type": "stream",
          "name": "stdout",
          "text": [
            "0              NaN\n",
            "1         0.024843\n",
            "2         0.067376\n",
            "3         0.134745\n",
            "4         0.061118\n",
            "            ...   \n",
            "751847         NaN\n",
            "751848         NaN\n",
            "751849         NaN\n",
            "751850         NaN\n",
            "751851         NaN\n",
            "Name: dist, Length: 751852, dtype: float64\n"
          ]
        }
      ]
    },
    {
      "cell_type": "code",
      "source": [
        "stop_times['velocity'] = stop_times['dist']/stop_times['time']"
      ],
      "metadata": {
        "id": "cs4kZ3A7-he-"
      },
      "execution_count": null,
      "outputs": []
    },
    {
      "cell_type": "code",
      "source": [
        "stop_times.head()"
      ],
      "metadata": {
        "colab": {
          "base_uri": "https://localhost:8080/",
          "height": 206
        },
        "id": "7_ayE_sr-kzT",
        "outputId": "4d431802-7a57-44a9-d7e0-bafd997b7d91"
      },
      "execution_count": null,
      "outputs": [
        {
          "output_type": "execute_result",
          "data": {
            "text/html": [
              "\n",
              "  <div id=\"df-71a637f9-7276-4c8e-a822-e25ac1f3da55\">\n",
              "    <div class=\"colab-df-container\">\n",
              "      <div>\n",
              "<style scoped>\n",
              "    .dataframe tbody tr th:only-of-type {\n",
              "        vertical-align: middle;\n",
              "    }\n",
              "\n",
              "    .dataframe tbody tr th {\n",
              "        vertical-align: top;\n",
              "    }\n",
              "\n",
              "    .dataframe thead th {\n",
              "        text-align: right;\n",
              "    }\n",
              "</style>\n",
              "<table border=\"1\" class=\"dataframe\">\n",
              "  <thead>\n",
              "    <tr style=\"text-align: right;\">\n",
              "      <th></th>\n",
              "      <th>trip_id</th>\n",
              "      <th>arrival_time</th>\n",
              "      <th>departure_time</th>\n",
              "      <th>stop_id</th>\n",
              "      <th>stop_sequence</th>\n",
              "      <th>time</th>\n",
              "      <th>dist</th>\n",
              "      <th>velocity</th>\n",
              "    </tr>\n",
              "  </thead>\n",
              "  <tbody>\n",
              "    <tr>\n",
              "      <th>0</th>\n",
              "      <td>NORMAL_42_Katraj To Bhakti Shakti_Up-0740_0</td>\n",
              "      <td>07:40:00</td>\n",
              "      <td>07:40:00</td>\n",
              "      <td>38794</td>\n",
              "      <td>1</td>\n",
              "      <td>NaN</td>\n",
              "      <td>NaN</td>\n",
              "      <td>NaN</td>\n",
              "    </tr>\n",
              "    <tr>\n",
              "      <th>1</th>\n",
              "      <td>NORMAL_42_Katraj To Bhakti Shakti_Up-0740_0</td>\n",
              "      <td>07:40:14</td>\n",
              "      <td>07:40:33</td>\n",
              "      <td>37062</td>\n",
              "      <td>2</td>\n",
              "      <td>0.003889</td>\n",
              "      <td>0.024843</td>\n",
              "      <td>6.388135</td>\n",
              "    </tr>\n",
              "    <tr>\n",
              "      <th>2</th>\n",
              "      <td>NORMAL_42_Katraj To Bhakti Shakti_Up-0740_0</td>\n",
              "      <td>07:41:36</td>\n",
              "      <td>07:41:53</td>\n",
              "      <td>35142</td>\n",
              "      <td>3</td>\n",
              "      <td>0.017500</td>\n",
              "      <td>0.067376</td>\n",
              "      <td>3.850046</td>\n",
              "    </tr>\n",
              "    <tr>\n",
              "      <th>3</th>\n",
              "      <td>NORMAL_42_Katraj To Bhakti Shakti_Up-0740_0</td>\n",
              "      <td>07:42:24</td>\n",
              "      <td>07:42:49</td>\n",
              "      <td>38796</td>\n",
              "      <td>4</td>\n",
              "      <td>0.008611</td>\n",
              "      <td>0.134745</td>\n",
              "      <td>15.647781</td>\n",
              "    </tr>\n",
              "    <tr>\n",
              "      <th>4</th>\n",
              "      <td>NORMAL_42_Katraj To Bhakti Shakti_Up-0740_0</td>\n",
              "      <td>07:44:07</td>\n",
              "      <td>07:44:29</td>\n",
              "      <td>38797</td>\n",
              "      <td>5</td>\n",
              "      <td>0.021667</td>\n",
              "      <td>0.061118</td>\n",
              "      <td>2.820818</td>\n",
              "    </tr>\n",
              "  </tbody>\n",
              "</table>\n",
              "</div>\n",
              "      <button class=\"colab-df-convert\" onclick=\"convertToInteractive('df-71a637f9-7276-4c8e-a822-e25ac1f3da55')\"\n",
              "              title=\"Convert this dataframe to an interactive table.\"\n",
              "              style=\"display:none;\">\n",
              "        \n",
              "  <svg xmlns=\"http://www.w3.org/2000/svg\" height=\"24px\"viewBox=\"0 0 24 24\"\n",
              "       width=\"24px\">\n",
              "    <path d=\"M0 0h24v24H0V0z\" fill=\"none\"/>\n",
              "    <path d=\"M18.56 5.44l.94 2.06.94-2.06 2.06-.94-2.06-.94-.94-2.06-.94 2.06-2.06.94zm-11 1L8.5 8.5l.94-2.06 2.06-.94-2.06-.94L8.5 2.5l-.94 2.06-2.06.94zm10 10l.94 2.06.94-2.06 2.06-.94-2.06-.94-.94-2.06-.94 2.06-2.06.94z\"/><path d=\"M17.41 7.96l-1.37-1.37c-.4-.4-.92-.59-1.43-.59-.52 0-1.04.2-1.43.59L10.3 9.45l-7.72 7.72c-.78.78-.78 2.05 0 2.83L4 21.41c.39.39.9.59 1.41.59.51 0 1.02-.2 1.41-.59l7.78-7.78 2.81-2.81c.8-.78.8-2.07 0-2.86zM5.41 20L4 18.59l7.72-7.72 1.47 1.35L5.41 20z\"/>\n",
              "  </svg>\n",
              "      </button>\n",
              "      \n",
              "  <style>\n",
              "    .colab-df-container {\n",
              "      display:flex;\n",
              "      flex-wrap:wrap;\n",
              "      gap: 12px;\n",
              "    }\n",
              "\n",
              "    .colab-df-convert {\n",
              "      background-color: #E8F0FE;\n",
              "      border: none;\n",
              "      border-radius: 50%;\n",
              "      cursor: pointer;\n",
              "      display: none;\n",
              "      fill: #1967D2;\n",
              "      height: 32px;\n",
              "      padding: 0 0 0 0;\n",
              "      width: 32px;\n",
              "    }\n",
              "\n",
              "    .colab-df-convert:hover {\n",
              "      background-color: #E2EBFA;\n",
              "      box-shadow: 0px 1px 2px rgba(60, 64, 67, 0.3), 0px 1px 3px 1px rgba(60, 64, 67, 0.15);\n",
              "      fill: #174EA6;\n",
              "    }\n",
              "\n",
              "    [theme=dark] .colab-df-convert {\n",
              "      background-color: #3B4455;\n",
              "      fill: #D2E3FC;\n",
              "    }\n",
              "\n",
              "    [theme=dark] .colab-df-convert:hover {\n",
              "      background-color: #434B5C;\n",
              "      box-shadow: 0px 1px 3px 1px rgba(0, 0, 0, 0.15);\n",
              "      filter: drop-shadow(0px 1px 2px rgba(0, 0, 0, 0.3));\n",
              "      fill: #FFFFFF;\n",
              "    }\n",
              "  </style>\n",
              "\n",
              "      <script>\n",
              "        const buttonEl =\n",
              "          document.querySelector('#df-71a637f9-7276-4c8e-a822-e25ac1f3da55 button.colab-df-convert');\n",
              "        buttonEl.style.display =\n",
              "          google.colab.kernel.accessAllowed ? 'block' : 'none';\n",
              "\n",
              "        async function convertToInteractive(key) {\n",
              "          const element = document.querySelector('#df-71a637f9-7276-4c8e-a822-e25ac1f3da55');\n",
              "          const dataTable =\n",
              "            await google.colab.kernel.invokeFunction('convertToInteractive',\n",
              "                                                     [key], {});\n",
              "          if (!dataTable) return;\n",
              "\n",
              "          const docLinkHtml = 'Like what you see? Visit the ' +\n",
              "            '<a target=\"_blank\" href=https://colab.research.google.com/notebooks/data_table.ipynb>data table notebook</a>'\n",
              "            + ' to learn more about interactive tables.';\n",
              "          element.innerHTML = '';\n",
              "          dataTable['output_type'] = 'display_data';\n",
              "          await google.colab.output.renderOutput(dataTable, element);\n",
              "          const docLink = document.createElement('div');\n",
              "          docLink.innerHTML = docLinkHtml;\n",
              "          element.appendChild(docLink);\n",
              "        }\n",
              "      </script>\n",
              "    </div>\n",
              "  </div>\n",
              "  "
            ],
            "text/plain": [
              "                                       trip_id  ...   velocity\n",
              "0  NORMAL_42_Katraj To Bhakti Shakti_Up-0740_0  ...        NaN\n",
              "1  NORMAL_42_Katraj To Bhakti Shakti_Up-0740_0  ...   6.388135\n",
              "2  NORMAL_42_Katraj To Bhakti Shakti_Up-0740_0  ...   3.850046\n",
              "3  NORMAL_42_Katraj To Bhakti Shakti_Up-0740_0  ...  15.647781\n",
              "4  NORMAL_42_Katraj To Bhakti Shakti_Up-0740_0  ...   2.820818\n",
              "\n",
              "[5 rows x 8 columns]"
            ]
          },
          "metadata": {},
          "execution_count": 26
        }
      ]
    },
    {
      "cell_type": "code",
      "source": [
        "stop_times['velocity'].head()"
      ],
      "metadata": {
        "colab": {
          "base_uri": "https://localhost:8080/"
        },
        "id": "JvlnWXrH-oG3",
        "outputId": "1cc5c598-dbad-4b54-ee5e-d660e5238a7b"
      },
      "execution_count": null,
      "outputs": [
        {
          "output_type": "execute_result",
          "data": {
            "text/plain": [
              "0          NaN\n",
              "1     6.388135\n",
              "2     3.850046\n",
              "3    15.647781\n",
              "4     2.820818\n",
              "Name: velocity, dtype: float64"
            ]
          },
          "metadata": {},
          "execution_count": 30
        }
      ]
    }
  ]
}