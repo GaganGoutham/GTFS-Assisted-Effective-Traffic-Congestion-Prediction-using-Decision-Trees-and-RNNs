{
  "nbformat": 4,
  "nbformat_minor": 0,
  "metadata": {
    "colab": {
      "name": "Decision_Tree.ipynb",
      "provenance": [],
      "collapsed_sections": []
    },
    "kernelspec": {
      "name": "python3",
      "display_name": "Python 3"
    },
    "language_info": {
      "name": "python"
    }
  },
  "cells": [
    {
      "cell_type": "code",
      "execution_count": null,
      "metadata": {
        "id": "r1z21nuwR8xx"
      },
      "outputs": [],
      "source": [
        "import numpy as np\n",
        "import pandas as pd\n",
        "\n",
        "from sklearn.preprocessing import LabelEncoder\n",
        "from sklearn.model_selection import train_test_split\n",
        "from sklearn.tree import DecisionTreeClassifier\n",
        "from sklearn.metrics import accuracy_score"
      ]
    },
    {
      "cell_type": "code",
      "source": [
        "read=pd.read_csv('FINAL_DATASET.csv')"
      ],
      "metadata": {
        "id": "8XPkvqhLSE-g"
      },
      "execution_count": null,
      "outputs": []
    },
    {
      "cell_type": "code",
      "source": [
        "read.shape"
      ],
      "metadata": {
        "colab": {
          "base_uri": "https://localhost:8080/"
        },
        "id": "wX4fDCAQSGvZ",
        "outputId": "89d7232f-f238-4b98-8d21-eba8f3502385"
      },
      "execution_count": null,
      "outputs": [
        {
          "output_type": "execute_result",
          "data": {
            "text/plain": [
              "(66913, 9)"
            ]
          },
          "metadata": {},
          "execution_count": 37
        }
      ]
    },
    {
      "cell_type": "code",
      "source": [
        "read['SRI'].replace('', np.nan, inplace=True)"
      ],
      "metadata": {
        "id": "ABvfIJTtSI2g"
      },
      "execution_count": null,
      "outputs": []
    },
    {
      "cell_type": "code",
      "source": [
        "read.dropna(subset=['SRI'], inplace=True)"
      ],
      "metadata": {
        "id": "VsWtYFOQSLM_"
      },
      "execution_count": null,
      "outputs": []
    },
    {
      "cell_type": "code",
      "source": [
        "read.shape"
      ],
      "metadata": {
        "colab": {
          "base_uri": "https://localhost:8080/"
        },
        "id": "IzjWJpTFSNEN",
        "outputId": "82d9b4d8-c366-4183-add8-f0c67517ae83"
      },
      "execution_count": null,
      "outputs": [
        {
          "output_type": "execute_result",
          "data": {
            "text/plain": [
              "(66600, 9)"
            ]
          },
          "metadata": {},
          "execution_count": 40
        }
      ]
    },
    {
      "cell_type": "code",
      "source": [
        "read.drop(read.index[read['SRI'] == '#NAME?'], inplace = True)"
      ],
      "metadata": {
        "id": "L_3Bm9RaSPVq"
      },
      "execution_count": null,
      "outputs": []
    },
    {
      "cell_type": "code",
      "source": [
        "read.shape"
      ],
      "metadata": {
        "colab": {
          "base_uri": "https://localhost:8080/"
        },
        "id": "6JBZc8zkSRPK",
        "outputId": "246c1a4f-285c-4b18-a741-817e879d3360"
      },
      "execution_count": null,
      "outputs": [
        {
          "output_type": "execute_result",
          "data": {
            "text/plain": [
              "(66490, 9)"
            ]
          },
          "metadata": {},
          "execution_count": 42
        }
      ]
    },
    {
      "cell_type": "code",
      "source": [
        "target = read['Degree_of_congestion']\n",
        "df1 = read.copy()\n",
        "df1 = df1.drop('Degree_of_congestion', axis =1)\n",
        "df1.shape"
      ],
      "metadata": {
        "colab": {
          "base_uri": "https://localhost:8080/"
        },
        "id": "eEbwTlV1STSp",
        "outputId": "5e15ba33-b751-410a-aa91-37c8dc2facb5"
      },
      "execution_count": null,
      "outputs": [
        {
          "output_type": "execute_result",
          "data": {
            "text/plain": [
              "(66490, 8)"
            ]
          },
          "metadata": {},
          "execution_count": 43
        }
      ]
    },
    {
      "cell_type": "code",
      "source": [
        "le = LabelEncoder()\n",
        "target = le.fit_transform(target)\n",
        "target"
      ],
      "metadata": {
        "colab": {
          "base_uri": "https://localhost:8080/"
        },
        "id": "lJ5RgQnPLQRq",
        "outputId": "515c5f8f-0607-4a0d-f2df-572463a0d6ce"
      },
      "execution_count": null,
      "outputs": [
        {
          "output_type": "execute_result",
          "data": {
            "text/plain": [
              "array([3, 2, 0, ..., 0, 3, 2])"
            ]
          },
          "metadata": {},
          "execution_count": 44
        }
      ]
    },
    {
      "cell_type": "code",
      "source": [
        "target2 = df1['arrival_time']"
      ],
      "metadata": {
        "id": "k3Y12rQYG_XB"
      },
      "execution_count": null,
      "outputs": []
    },
    {
      "cell_type": "code",
      "source": [
        "le = LabelEncoder()\n",
        "arrival_time = le.fit_transform(target2)\n",
        "arrival_time"
      ],
      "metadata": {
        "colab": {
          "base_uri": "https://localhost:8080/"
        },
        "id": "-sY-gce8SY9p",
        "outputId": "8e054303-8bad-48aa-edcc-c3545aab8153"
      },
      "execution_count": null,
      "outputs": [
        {
          "output_type": "execute_result",
          "data": {
            "text/plain": [
              "array([ 834,  181,  900, ..., 4968, 5098, 5124])"
            ]
          },
          "metadata": {},
          "execution_count": 46
        }
      ]
    },
    {
      "cell_type": "code",
      "source": [
        "df1['arrival_time_new'] = arrival_time"
      ],
      "metadata": {
        "id": "anzY_k9lSaw9"
      },
      "execution_count": null,
      "outputs": []
    },
    {
      "cell_type": "code",
      "source": [
        "target3 = df1['trip_id']"
      ],
      "metadata": {
        "id": "YPzF_W-JK82X"
      },
      "execution_count": null,
      "outputs": []
    },
    {
      "cell_type": "code",
      "source": [
        "le = LabelEncoder()\n",
        "trip_id = le.fit_transform(target3)\n",
        "trip_id"
      ],
      "metadata": {
        "colab": {
          "base_uri": "https://localhost:8080/"
        },
        "id": "ueZ2wz70K2cw",
        "outputId": "17121e42-4a1c-45db-a6b1-7334c20a25c7"
      },
      "execution_count": null,
      "outputs": [
        {
          "output_type": "execute_result",
          "data": {
            "text/plain": [
              "array([3726,  355,   23, ..., 5328, 5338, 5338])"
            ]
          },
          "metadata": {},
          "execution_count": 49
        }
      ]
    },
    {
      "cell_type": "code",
      "source": [
        "df1['trip_id_new'] = trip_id"
      ],
      "metadata": {
        "id": "LZ3jPsvnK2-Y"
      },
      "execution_count": null,
      "outputs": []
    },
    {
      "cell_type": "code",
      "source": [
        "df1"
      ],
      "metadata": {
        "colab": {
          "base_uri": "https://localhost:8080/",
          "height": 834
        },
        "id": "E20cwGp7GwvT",
        "outputId": "3d000d6c-d44a-45a8-bfa2-de13e00b16bc"
      },
      "execution_count": null,
      "outputs": [
        {
          "output_type": "execute_result",
          "data": {
            "text/html": [
              "\n",
              "  <div id=\"df-5f113388-4c6d-4680-a84f-55a807536482\">\n",
              "    <div class=\"colab-df-container\">\n",
              "      <div>\n",
              "<style scoped>\n",
              "    .dataframe tbody tr th:only-of-type {\n",
              "        vertical-align: middle;\n",
              "    }\n",
              "\n",
              "    .dataframe tbody tr th {\n",
              "        vertical-align: top;\n",
              "    }\n",
              "\n",
              "    .dataframe thead th {\n",
              "        text-align: right;\n",
              "    }\n",
              "</style>\n",
              "<table border=\"1\" class=\"dataframe\">\n",
              "  <thead>\n",
              "    <tr style=\"text-align: right;\">\n",
              "      <th></th>\n",
              "      <th>stop_id_from</th>\n",
              "      <th>stop_id_to</th>\n",
              "      <th>trip_id</th>\n",
              "      <th>arrival_time</th>\n",
              "      <th>time</th>\n",
              "      <th>speed</th>\n",
              "      <th>Number_of_trips</th>\n",
              "      <th>SRI</th>\n",
              "      <th>arrival_time_new</th>\n",
              "      <th>trip_id_new</th>\n",
              "    </tr>\n",
              "  </thead>\n",
              "  <tbody>\n",
              "    <tr>\n",
              "      <th>0</th>\n",
              "      <td>36156</td>\n",
              "      <td>38709</td>\n",
              "      <td>NORMAL_333_Pune Station To  Hinjawadi Maan Pha...</td>\n",
              "      <td>09:13:54</td>\n",
              "      <td>0.027222</td>\n",
              "      <td>14.479565</td>\n",
              "      <td>9.0</td>\n",
              "      <td>-0.40816322</td>\n",
              "      <td>834</td>\n",
              "      <td>3726</td>\n",
              "    </tr>\n",
              "    <tr>\n",
              "      <th>1</th>\n",
              "      <td>36156</td>\n",
              "      <td>38709</td>\n",
              "      <td>NORMAL_115P_Pune Station to Hinjawadi Phase 3_...</td>\n",
              "      <td>09:03:01</td>\n",
              "      <td>0.032222</td>\n",
              "      <td>12.232736</td>\n",
              "      <td>9.0</td>\n",
              "      <td>1.2068965</td>\n",
              "      <td>181</td>\n",
              "      <td>355</td>\n",
              "    </tr>\n",
              "    <tr>\n",
              "      <th>2</th>\n",
              "      <td>36156</td>\n",
              "      <td>38709</td>\n",
              "      <td>NORMAL_100_Ma Na Pa to Hinjawadi Maan Phase 3_...</td>\n",
              "      <td>09:15:00</td>\n",
              "      <td>0.058333</td>\n",
              "      <td>6.757130</td>\n",
              "      <td>9.0</td>\n",
              "      <td>5.142857</td>\n",
              "      <td>900</td>\n",
              "      <td>23</td>\n",
              "    </tr>\n",
              "    <tr>\n",
              "      <th>3</th>\n",
              "      <td>36156</td>\n",
              "      <td>38709</td>\n",
              "      <td>NORMAL_VJR5_Ma Na Pa To Mukai Chowk_Up-0905_0</td>\n",
              "      <td>09:05:00</td>\n",
              "      <td>0.033611</td>\n",
              "      <td>11.727251</td>\n",
              "      <td>9.0</td>\n",
              "      <td>1.570248</td>\n",
              "      <td>300</td>\n",
              "      <td>5284</td>\n",
              "    </tr>\n",
              "    <tr>\n",
              "      <th>4</th>\n",
              "      <td>36156</td>\n",
              "      <td>38709</td>\n",
              "      <td>NORMAL_100_Ma Na Pa to Hinjawadi Maan Phase 3_...</td>\n",
              "      <td>09:00:00</td>\n",
              "      <td>0.058333</td>\n",
              "      <td>6.757130</td>\n",
              "      <td>9.0</td>\n",
              "      <td>5.142857</td>\n",
              "      <td>0</td>\n",
              "      <td>22</td>\n",
              "    </tr>\n",
              "    <tr>\n",
              "      <th>...</th>\n",
              "      <td>...</td>\n",
              "      <td>...</td>\n",
              "      <td>...</td>\n",
              "      <td>...</td>\n",
              "      <td>...</td>\n",
              "      <td>...</td>\n",
              "      <td>...</td>\n",
              "      <td>...</td>\n",
              "      <td>...</td>\n",
              "      <td>...</td>\n",
              "    </tr>\n",
              "    <tr>\n",
              "      <th>66908</th>\n",
              "      <td>1319</td>\n",
              "      <td>1104</td>\n",
              "      <td>NORMAL_VJR6_Bhosari To Hinjawadi Maan Phase 3_...</td>\n",
              "      <td>18:01:44</td>\n",
              "      <td>0.015278</td>\n",
              "      <td>24.892663</td>\n",
              "      <td>1.0</td>\n",
              "      <td>2.1818185</td>\n",
              "      <td>4842</td>\n",
              "      <td>5328</td>\n",
              "    </tr>\n",
              "    <tr>\n",
              "      <th>66909</th>\n",
              "      <td>1104</td>\n",
              "      <td>1106</td>\n",
              "      <td>NORMAL_VJR6_Bhosari To Hinjawadi Maan Phase 3_...</td>\n",
              "      <td>18:02:53</td>\n",
              "      <td>0.013056</td>\n",
              "      <td>37.426898</td>\n",
              "      <td>1.0</td>\n",
              "      <td>2.9787233</td>\n",
              "      <td>4911</td>\n",
              "      <td>5328</td>\n",
              "    </tr>\n",
              "    <tr>\n",
              "      <th>66910</th>\n",
              "      <td>1106</td>\n",
              "      <td>1108</td>\n",
              "      <td>NORMAL_VJR6_Bhosari To Hinjawadi Maan Phase 3_...</td>\n",
              "      <td>18:03:50</td>\n",
              "      <td>0.036111</td>\n",
              "      <td>12.837577</td>\n",
              "      <td>1.0</td>\n",
              "      <td>7.076923</td>\n",
              "      <td>4968</td>\n",
              "      <td>5328</td>\n",
              "    </tr>\n",
              "    <tr>\n",
              "      <th>66911</th>\n",
              "      <td>39593</td>\n",
              "      <td>39385</td>\n",
              "      <td>NORMAL_VJR6_Hinjawadi Maan Phase 3 To Bhosari_...</td>\n",
              "      <td>18:06:00</td>\n",
              "      <td>0.003611</td>\n",
              "      <td>71.066206</td>\n",
              "      <td>1.0</td>\n",
              "      <td>-20.89835036</td>\n",
              "      <td>5098</td>\n",
              "      <td>5338</td>\n",
              "    </tr>\n",
              "    <tr>\n",
              "      <th>66912</th>\n",
              "      <td>39385</td>\n",
              "      <td>39387</td>\n",
              "      <td>NORMAL_VJR6_Hinjawadi Maan Phase 3 To Bhosari_...</td>\n",
              "      <td>18:06:26</td>\n",
              "      <td>0.022222</td>\n",
              "      <td>19.109715</td>\n",
              "      <td>1.0</td>\n",
              "      <td>1.69142817</td>\n",
              "      <td>5124</td>\n",
              "      <td>5338</td>\n",
              "    </tr>\n",
              "  </tbody>\n",
              "</table>\n",
              "<p>66490 rows × 10 columns</p>\n",
              "</div>\n",
              "      <button class=\"colab-df-convert\" onclick=\"convertToInteractive('df-5f113388-4c6d-4680-a84f-55a807536482')\"\n",
              "              title=\"Convert this dataframe to an interactive table.\"\n",
              "              style=\"display:none;\">\n",
              "        \n",
              "  <svg xmlns=\"http://www.w3.org/2000/svg\" height=\"24px\"viewBox=\"0 0 24 24\"\n",
              "       width=\"24px\">\n",
              "    <path d=\"M0 0h24v24H0V0z\" fill=\"none\"/>\n",
              "    <path d=\"M18.56 5.44l.94 2.06.94-2.06 2.06-.94-2.06-.94-.94-2.06-.94 2.06-2.06.94zm-11 1L8.5 8.5l.94-2.06 2.06-.94-2.06-.94L8.5 2.5l-.94 2.06-2.06.94zm10 10l.94 2.06.94-2.06 2.06-.94-2.06-.94-.94-2.06-.94 2.06-2.06.94z\"/><path d=\"M17.41 7.96l-1.37-1.37c-.4-.4-.92-.59-1.43-.59-.52 0-1.04.2-1.43.59L10.3 9.45l-7.72 7.72c-.78.78-.78 2.05 0 2.83L4 21.41c.39.39.9.59 1.41.59.51 0 1.02-.2 1.41-.59l7.78-7.78 2.81-2.81c.8-.78.8-2.07 0-2.86zM5.41 20L4 18.59l7.72-7.72 1.47 1.35L5.41 20z\"/>\n",
              "  </svg>\n",
              "      </button>\n",
              "      \n",
              "  <style>\n",
              "    .colab-df-container {\n",
              "      display:flex;\n",
              "      flex-wrap:wrap;\n",
              "      gap: 12px;\n",
              "    }\n",
              "\n",
              "    .colab-df-convert {\n",
              "      background-color: #E8F0FE;\n",
              "      border: none;\n",
              "      border-radius: 50%;\n",
              "      cursor: pointer;\n",
              "      display: none;\n",
              "      fill: #1967D2;\n",
              "      height: 32px;\n",
              "      padding: 0 0 0 0;\n",
              "      width: 32px;\n",
              "    }\n",
              "\n",
              "    .colab-df-convert:hover {\n",
              "      background-color: #E2EBFA;\n",
              "      box-shadow: 0px 1px 2px rgba(60, 64, 67, 0.3), 0px 1px 3px 1px rgba(60, 64, 67, 0.15);\n",
              "      fill: #174EA6;\n",
              "    }\n",
              "\n",
              "    [theme=dark] .colab-df-convert {\n",
              "      background-color: #3B4455;\n",
              "      fill: #D2E3FC;\n",
              "    }\n",
              "\n",
              "    [theme=dark] .colab-df-convert:hover {\n",
              "      background-color: #434B5C;\n",
              "      box-shadow: 0px 1px 3px 1px rgba(0, 0, 0, 0.15);\n",
              "      filter: drop-shadow(0px 1px 2px rgba(0, 0, 0, 0.3));\n",
              "      fill: #FFFFFF;\n",
              "    }\n",
              "  </style>\n",
              "\n",
              "      <script>\n",
              "        const buttonEl =\n",
              "          document.querySelector('#df-5f113388-4c6d-4680-a84f-55a807536482 button.colab-df-convert');\n",
              "        buttonEl.style.display =\n",
              "          google.colab.kernel.accessAllowed ? 'block' : 'none';\n",
              "\n",
              "        async function convertToInteractive(key) {\n",
              "          const element = document.querySelector('#df-5f113388-4c6d-4680-a84f-55a807536482');\n",
              "          const dataTable =\n",
              "            await google.colab.kernel.invokeFunction('convertToInteractive',\n",
              "                                                     [key], {});\n",
              "          if (!dataTable) return;\n",
              "\n",
              "          const docLinkHtml = 'Like what you see? Visit the ' +\n",
              "            '<a target=\"_blank\" href=https://colab.research.google.com/notebooks/data_table.ipynb>data table notebook</a>'\n",
              "            + ' to learn more about interactive tables.';\n",
              "          element.innerHTML = '';\n",
              "          dataTable['output_type'] = 'display_data';\n",
              "          await google.colab.output.renderOutput(dataTable, element);\n",
              "          const docLink = document.createElement('div');\n",
              "          docLink.innerHTML = docLinkHtml;\n",
              "          element.appendChild(docLink);\n",
              "        }\n",
              "      </script>\n",
              "    </div>\n",
              "  </div>\n",
              "  "
            ],
            "text/plain": [
              "       stop_id_from  stop_id_to  ... arrival_time_new trip_id_new\n",
              "0             36156       38709  ...              834        3726\n",
              "1             36156       38709  ...              181         355\n",
              "2             36156       38709  ...              900          23\n",
              "3             36156       38709  ...              300        5284\n",
              "4             36156       38709  ...                0          22\n",
              "...             ...         ...  ...              ...         ...\n",
              "66908          1319        1104  ...             4842        5328\n",
              "66909          1104        1106  ...             4911        5328\n",
              "66910          1106        1108  ...             4968        5328\n",
              "66911         39593       39385  ...             5098        5338\n",
              "66912         39385       39387  ...             5124        5338\n",
              "\n",
              "[66490 rows x 10 columns]"
            ]
          },
          "metadata": {},
          "execution_count": 51
        }
      ]
    },
    {
      "cell_type": "code",
      "source": [
        "X=df1"
      ],
      "metadata": {
        "id": "0b9iZNhMKH7h"
      },
      "execution_count": null,
      "outputs": []
    },
    {
      "cell_type": "code",
      "source": [
        "X=X.drop('trip_id', axis=1)\n",
        "X=X.drop('arrival_time', axis=1)"
      ],
      "metadata": {
        "id": "rIRmDmEkSdWg"
      },
      "execution_count": null,
      "outputs": []
    },
    {
      "cell_type": "code",
      "source": [
        "X=X.drop('Number_of_trips', axis=1)\n",
        "X=X.drop('time', axis=1)\n",
        "X=X.drop('speed', axis=1)\n"
      ],
      "metadata": {
        "id": "fS-i5fxkSf02"
      },
      "execution_count": null,
      "outputs": []
    },
    {
      "cell_type": "code",
      "source": [
        "X=X.drop('SRI',axis=1)"
      ],
      "metadata": {
        "id": "4sTugoEtKsE5"
      },
      "execution_count": null,
      "outputs": []
    },
    {
      "cell_type": "code",
      "source": [
        "y=target"
      ],
      "metadata": {
        "id": "Q0RcbR1zTBKj"
      },
      "execution_count": null,
      "outputs": []
    },
    {
      "cell_type": "code",
      "source": [
        "X_train, X_test, y_train, y_test = train_test_split(X , y, test_size = 0.2, random_state = 42)\n",
        "\n",
        "print(\"Training split input- \", X_train.shape)\n",
        "print(\"Testing split input- \", X_test.shape)"
      ],
      "metadata": {
        "colab": {
          "base_uri": "https://localhost:8080/"
        },
        "id": "oF3tWvZASmYZ",
        "outputId": "ccd1e90c-1414-4d77-ceec-730d63625b02"
      },
      "execution_count": null,
      "outputs": [
        {
          "output_type": "stream",
          "name": "stdout",
          "text": [
            "Training split input-  (53192, 4)\n",
            "Testing split input-  (13298, 4)\n"
          ]
        }
      ]
    },
    {
      "cell_type": "code",
      "source": [
        "dtree=DecisionTreeClassifier()\n",
        "dtree.fit(X_train,y_train)"
      ],
      "metadata": {
        "colab": {
          "base_uri": "https://localhost:8080/"
        },
        "id": "rqq16oCeSo7z",
        "outputId": "a4bbf38d-cb50-4892-c2d1-eeaeee23cf08"
      },
      "execution_count": null,
      "outputs": [
        {
          "output_type": "execute_result",
          "data": {
            "text/plain": [
              "DecisionTreeClassifier()"
            ]
          },
          "metadata": {},
          "execution_count": 67
        }
      ]
    },
    {
      "cell_type": "code",
      "source": [
        "y_pred = dtree.predict(X_test)\n",
        "accuracy_score(y_test,y_pred)*100"
      ],
      "metadata": {
        "colab": {
          "base_uri": "https://localhost:8080/"
        },
        "id": "pEc4vyVPSrlS",
        "outputId": "9fa399ef-9af1-467b-baf1-b6b1306e7b3c"
      },
      "execution_count": null,
      "outputs": [
        {
          "output_type": "execute_result",
          "data": {
            "text/plain": [
              "62.65603850203038"
            ]
          },
          "metadata": {},
          "execution_count": 68
        }
      ]
    }
  ]
}