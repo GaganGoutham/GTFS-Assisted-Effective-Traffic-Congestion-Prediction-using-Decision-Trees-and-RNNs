{
  "nbformat": 4,
  "nbformat_minor": 0,
  "metadata": {
    "colab": {
      "name": "Segments_Speed.ipynb",
      "provenance": [],
      "collapsed_sections": []
    },
    "kernelspec": {
      "name": "python3",
      "display_name": "Python 3"
    },
    "language_info": {
      "name": "python"
    }
  },
  "cells": [
    {
      "cell_type": "code",
      "execution_count": null,
      "metadata": {
        "id": "gTBFbOCZM7rD"
      },
      "outputs": [],
      "source": [
        "import pandas as pd\n",
        "import numpy as np"
      ]
    },
    {
      "cell_type": "code",
      "source": [
        "agency = pd.read_excel('pune_static_updated2.xlsx', sheet_name = 'agency.csv')\n",
        "calender = pd.read_excel('pune_static_updated2.xlsx', sheet_name = 'calendar.csv')\n",
        "routes = pd.read_excel('pune_static_updated2.xlsx', sheet_name = 'routes.csv')\n",
        "shapes = pd.read_excel('pune_static_updated2.xlsx', sheet_name = 'shapes.csv')\n",
        "stop_times = pd.read_excel('pune_static_updated2.xlsx', sheet_name = 'stop_times.csv')\n",
        "stops = pd.read_excel('pune_static_updated2.xlsx', sheet_name = 'stops.csv')\n",
        "trips = pd.read_excel('pune_static_updated2.xlsx', sheet_name = 'trips.csv')"
      ],
      "metadata": {
        "id": "Di_5h8N6NWri"
      },
      "execution_count": null,
      "outputs": []
    },
    {
      "cell_type": "code",
      "source": [
        "# If you are in a jupyter notebook (or similar)\n",
        "!pip install gtfs_functions\n",
        "!pip install geopandas\n",
        "\n",
        "# Import package\n",
        "import gtfs_functions as gtfs\n",
        "import geopandas\n",
        "\n",
        "# Parse GTFS\n",
        "routes, stops, stop_times, trips, shapes = gtfs.import_gtfs(\"pune_updated2.zip\")"
      ],
      "metadata": {
        "id": "SAhYD7c8Nos9"
      },
      "execution_count": null,
      "outputs": []
    },
    {
      "cell_type": "code",
      "source": [
        "cutoffs = [0,6,9,15,19,22,24]\n",
        "stop_freq = gtfs.stops_freq(stop_times, stops, cutoffs = cutoffs)"
      ],
      "metadata": {
        "id": "clszxbinOI9y"
      },
      "execution_count": null,
      "outputs": []
    },
    {
      "cell_type": "code",
      "source": [
        "stop_freq"
      ],
      "metadata": {
        "id": "82Wh04WART55"
      },
      "execution_count": null,
      "outputs": []
    },
    {
      "cell_type": "code",
      "source": [
        "cutoffs = [0,6,9,15,19,22,24]\n",
        "line_freq = gtfs.lines_freq(stop_times, trips, shapes, routes, cutoffs = cutoffs)"
      ],
      "metadata": {
        "id": "mHwTjCoZRZK0"
      },
      "execution_count": null,
      "outputs": []
    },
    {
      "cell_type": "code",
      "source": [
        "line_freq"
      ],
      "metadata": {
        "id": "mfAr_IiRRgF7"
      },
      "execution_count": null,
      "outputs": []
    },
    {
      "cell_type": "code",
      "source": [
        "!pip install shapely\n",
        "\n",
        "!pip install fiona\n",
        "\n",
        "!pip install pyproj\n",
        "\n",
        "!pip install rtree\n",
        "\n",
        "!pip install psycopg2\n",
        "\n",
        "!pip install GeoAlchemy2\n",
        "\n",
        "!pip install geopy\n",
        "\n",
        "!pip install matplotlib\n",
        "\n",
        "!pip install mapclassify\n",
        "\n",
        "!pip install pygeos"
      ],
      "metadata": {
        "id": "H2KfK_BB-R8t"
      },
      "execution_count": null,
      "outputs": []
    },
    {
      "cell_type": "code",
      "source": [
        "segments_gdf = gtfs.cut_gtfs(stop_times, stops, shapes)"
      ],
      "metadata": {
        "id": "6Am6LYT2RkWi"
      },
      "execution_count": null,
      "outputs": []
    },
    {
      "cell_type": "code",
      "source": [
        "segments_gdf"
      ],
      "metadata": {
        "id": "EPCe4t7wXMZ0"
      },
      "execution_count": null,
      "outputs": []
    },
    {
      "cell_type": "code",
      "source": [
        "segments_gdf.to_csv('file2.csv')"
      ],
      "metadata": {
        "id": "8YpY70ILEYo7"
      },
      "execution_count": null,
      "outputs": []
    },
    {
      "cell_type": "code",
      "source": [
        "cutoffs = [0,6,7,8,9,10,14,15,18,19,20,21,22,24]\n",
        "speeds = gtfs.speeds_from_gtfs(routes, stop_times, segments_gdf, cutoffs = cutoffs)"
      ],
      "metadata": {
        "id": "VLZ4H6hbXSl-"
      },
      "execution_count": null,
      "outputs": []
    },
    {
      "cell_type": "code",
      "source": [
        "speeds"
      ],
      "metadata": {
        "id": "NVWZSRXEXeVB"
      },
      "execution_count": null,
      "outputs": []
    },
    {
      "cell_type": "code",
      "source": [
        "speeds.to_csv('speeds2.csv')"
      ],
      "metadata": {
        "id": "LY61cHhpFA_P"
      },
      "execution_count": null,
      "outputs": []
    },
    {
      "cell_type": "code",
      "source": [
        "!pip install keplergl\n",
        "import keplergl as kp"
      ],
      "metadata": {
        "id": "I4GdVw_RXiOe"
      },
      "execution_count": null,
      "outputs": []
    },
    {
      "cell_type": "code",
      "source": [
        "from google.colab import output\n",
        "output.enable_custom_widget_manager()"
      ],
      "metadata": {
        "id": "cK8b_g8gYoRA"
      },
      "execution_count": null,
      "outputs": []
    },
    {
      "cell_type": "code",
      "source": [
        "from keplergl import KeplerGl\n",
        "map1=KeplerGl(height=700)"
      ],
      "metadata": {
        "id": "qPDaV19yZD4l"
      },
      "execution_count": null,
      "outputs": []
    },
    {
      "cell_type": "code",
      "source": [
        "map1.add_data(data=speeds,name='Pune')"
      ],
      "metadata": {
        "id": "WX2o3GW5ZuNi"
      },
      "execution_count": null,
      "outputs": []
    },
    {
      "cell_type": "code",
      "source": [
        "map1"
      ],
      "metadata": {
        "id": "7z3IKA_cZ_Y_"
      },
      "execution_count": null,
      "outputs": []
    }
  ]
}