{
  "cells": [
    {
      "cell_type": "code",
      "execution_count": null,
      "metadata": {
        "id": "kXYtSwk53IFy"
      },
      "outputs": [],
      "source": [
        "import numpy as np\n",
        "import pandas as pd"
      ]
    },
    {
      "cell_type": "code",
      "execution_count": null,
      "metadata": {
        "colab": {
          "base_uri": "https://localhost:8080/"
        },
        "id": "jB-_VCekZm5h",
        "outputId": "5ec20557-71cf-41ae-e37b-8d7f45b47bfb"
      },
      "outputs": [
        {
          "output_type": "stream",
          "name": "stdout",
          "text": [
            "Requirement already satisfied: openpyxl==3.0.9 in /usr/local/lib/python3.7/dist-packages (3.0.9)\n",
            "Requirement already satisfied: et-xmlfile in /usr/local/lib/python3.7/dist-packages (from openpyxl==3.0.9) (1.1.0)\n"
          ]
        }
      ],
      "source": [
        "! pip install openpyxl==3.0.9"
      ]
    },
    {
      "cell_type": "code",
      "execution_count": null,
      "metadata": {
        "id": "CX1PTAUf3Jac"
      },
      "outputs": [],
      "source": [
        "agency = pd.read_excel('pune_static_updated1.xlsx', sheet_name = 'agency.csv')\n",
        "calender = pd.read_excel('pune_static_updated1.xlsx', sheet_name = 'calendar.csv')\n",
        "routes = pd.read_excel('pune_static_updated1.xlsx', sheet_name = 'routes.csv')\n",
        "shapes = pd.read_excel('pune_static_updated1.xlsx', sheet_name = 'shapes.csv')\n",
        "stop_times = pd.read_excel('pune_static_updated1.xlsx', sheet_name = 'stop_times.csv')\n",
        "stops = pd.read_excel('pune_static_updated1.xlsx', sheet_name = 'stops.csv')\n",
        "trips = pd.read_excel('pune_static_updated1.xlsx', sheet_name = 'trips.csv')"
      ]
    },
    {
      "cell_type": "code",
      "execution_count": null,
      "metadata": {
        "id": "q6zKeYRF7ZMv",
        "colab": {
          "base_uri": "https://localhost:8080/",
          "height": 641
        },
        "outputId": "41d53c01-631a-4abb-e03a-5a46f5545718"
      },
      "outputs": [
        {
          "output_type": "execute_result",
          "data": {
            "text/html": [
              "\n",
              "  <div id=\"df-94d65cfe-4cba-4714-a7f9-3f8942a7fe19\">\n",
              "    <div class=\"colab-df-container\">\n",
              "      <div>\n",
              "<style scoped>\n",
              "    .dataframe tbody tr th:only-of-type {\n",
              "        vertical-align: middle;\n",
              "    }\n",
              "\n",
              "    .dataframe tbody tr th {\n",
              "        vertical-align: top;\n",
              "    }\n",
              "\n",
              "    .dataframe thead th {\n",
              "        text-align: right;\n",
              "    }\n",
              "</style>\n",
              "<table border=\"1\" class=\"dataframe\">\n",
              "  <thead>\n",
              "    <tr style=\"text-align: right;\">\n",
              "      <th></th>\n",
              "      <th>route_id</th>\n",
              "      <th>trip_id</th>\n",
              "      <th>trip_headsign</th>\n",
              "      <th>direction_id</th>\n",
              "      <th>shape_id</th>\n",
              "      <th>duty</th>\n",
              "      <th>duty_sequence_number</th>\n",
              "      <th>run_sequence_number</th>\n",
              "    </tr>\n",
              "  </thead>\n",
              "  <tbody>\n",
              "    <tr>\n",
              "      <th>0</th>\n",
              "      <td>42</td>\n",
              "      <td>NORMAL_42_Katraj To Bhakti Shakti_Up-0740_0</td>\n",
              "      <td>Katraj To Bhakti Shakti</td>\n",
              "      <td>0</td>\n",
              "      <td>4810</td>\n",
              "      <td>42/10</td>\n",
              "      <td>1</td>\n",
              "      <td>1</td>\n",
              "    </tr>\n",
              "    <tr>\n",
              "      <th>1</th>\n",
              "      <td>42</td>\n",
              "      <td>NORMAL_42_Bhakti Shakti To Katraj_Down-2010_0</td>\n",
              "      <td>Bhakti Shakti To Katraj</td>\n",
              "      <td>0</td>\n",
              "      <td>4811</td>\n",
              "      <td>42/5</td>\n",
              "      <td>8</td>\n",
              "      <td>4</td>\n",
              "    </tr>\n",
              "    <tr>\n",
              "      <th>2</th>\n",
              "      <td>366</td>\n",
              "      <td>NORMAL_366_Pune Station To Bhakti Shakti (Via ...</td>\n",
              "      <td>Pune Station To Bhakti Shakti (Via Yerwada)</td>\n",
              "      <td>0</td>\n",
              "      <td>4794</td>\n",
              "      <td>366/1</td>\n",
              "      <td>10</td>\n",
              "      <td>4</td>\n",
              "    </tr>\n",
              "    <tr>\n",
              "      <th>3</th>\n",
              "      <td>42</td>\n",
              "      <td>NORMAL_42_Katraj To Bhakti Shakti_Up-0655_0</td>\n",
              "      <td>Katraj To Bhakti Shakti</td>\n",
              "      <td>0</td>\n",
              "      <td>4810</td>\n",
              "      <td>42/7</td>\n",
              "      <td>1</td>\n",
              "      <td>1</td>\n",
              "    </tr>\n",
              "    <tr>\n",
              "      <th>4</th>\n",
              "      <td>366</td>\n",
              "      <td>NORMAL_366_Bhakti Shakti To Pune Station (Via ...</td>\n",
              "      <td>Bhakti Shakti To Pune Station (Via Yerwada)</td>\n",
              "      <td>0</td>\n",
              "      <td>4795</td>\n",
              "      <td>366/3</td>\n",
              "      <td>7</td>\n",
              "      <td>1</td>\n",
              "    </tr>\n",
              "    <tr>\n",
              "      <th>...</th>\n",
              "      <td>...</td>\n",
              "      <td>...</td>\n",
              "      <td>...</td>\n",
              "      <td>...</td>\n",
              "      <td>...</td>\n",
              "      <td>...</td>\n",
              "      <td>...</td>\n",
              "      <td>...</td>\n",
              "    </tr>\n",
              "    <tr>\n",
              "      <th>21799</th>\n",
              "      <td>209_96</td>\n",
              "      <td>NORMAL_209_Saswad Bus Stand To Katraj_Down-1705_0</td>\n",
              "      <td>Saswad Bus Stand To Katraj</td>\n",
              "      <td>1</td>\n",
              "      <td>5245</td>\n",
              "      <td>209/8</td>\n",
              "      <td>8</td>\n",
              "      <td>2</td>\n",
              "    </tr>\n",
              "    <tr>\n",
              "      <th>21800</th>\n",
              "      <td>209_96</td>\n",
              "      <td>NORMAL_209_Katraj To Saswad Bus Stand_Up-1845_0</td>\n",
              "      <td>Katraj To Saswad Bus Stand</td>\n",
              "      <td>1</td>\n",
              "      <td>5244</td>\n",
              "      <td>209/8</td>\n",
              "      <td>9</td>\n",
              "      <td>3</td>\n",
              "    </tr>\n",
              "    <tr>\n",
              "      <th>21801</th>\n",
              "      <td>209_96</td>\n",
              "      <td>NORMAL_209_Saswad Bus Stand To Katraj_Down-2000_0</td>\n",
              "      <td>Saswad Bus Stand To Katraj</td>\n",
              "      <td>1</td>\n",
              "      <td>5245</td>\n",
              "      <td>209/8</td>\n",
              "      <td>10</td>\n",
              "      <td>4</td>\n",
              "    </tr>\n",
              "    <tr>\n",
              "      <th>21802</th>\n",
              "      <td>209_96</td>\n",
              "      <td>NORMAL_209_Katraj To Saswad Bus Stand_Up-2130_0</td>\n",
              "      <td>Katraj To Saswad Bus Stand</td>\n",
              "      <td>1</td>\n",
              "      <td>5244</td>\n",
              "      <td>209/8</td>\n",
              "      <td>11</td>\n",
              "      <td>5</td>\n",
              "    </tr>\n",
              "    <tr>\n",
              "      <th>21803</th>\n",
              "      <td>209_96</td>\n",
              "      <td>NORMAL_209_Saswad Bus Stand To Katraj_Down-2240_0</td>\n",
              "      <td>Saswad Bus Stand To Katraj</td>\n",
              "      <td>1</td>\n",
              "      <td>5245</td>\n",
              "      <td>209/8</td>\n",
              "      <td>12</td>\n",
              "      <td>6</td>\n",
              "    </tr>\n",
              "  </tbody>\n",
              "</table>\n",
              "<p>21804 rows × 8 columns</p>\n",
              "</div>\n",
              "      <button class=\"colab-df-convert\" onclick=\"convertToInteractive('df-94d65cfe-4cba-4714-a7f9-3f8942a7fe19')\"\n",
              "              title=\"Convert this dataframe to an interactive table.\"\n",
              "              style=\"display:none;\">\n",
              "        \n",
              "  <svg xmlns=\"http://www.w3.org/2000/svg\" height=\"24px\"viewBox=\"0 0 24 24\"\n",
              "       width=\"24px\">\n",
              "    <path d=\"M0 0h24v24H0V0z\" fill=\"none\"/>\n",
              "    <path d=\"M18.56 5.44l.94 2.06.94-2.06 2.06-.94-2.06-.94-.94-2.06-.94 2.06-2.06.94zm-11 1L8.5 8.5l.94-2.06 2.06-.94-2.06-.94L8.5 2.5l-.94 2.06-2.06.94zm10 10l.94 2.06.94-2.06 2.06-.94-2.06-.94-.94-2.06-.94 2.06-2.06.94z\"/><path d=\"M17.41 7.96l-1.37-1.37c-.4-.4-.92-.59-1.43-.59-.52 0-1.04.2-1.43.59L10.3 9.45l-7.72 7.72c-.78.78-.78 2.05 0 2.83L4 21.41c.39.39.9.59 1.41.59.51 0 1.02-.2 1.41-.59l7.78-7.78 2.81-2.81c.8-.78.8-2.07 0-2.86zM5.41 20L4 18.59l7.72-7.72 1.47 1.35L5.41 20z\"/>\n",
              "  </svg>\n",
              "      </button>\n",
              "      \n",
              "  <style>\n",
              "    .colab-df-container {\n",
              "      display:flex;\n",
              "      flex-wrap:wrap;\n",
              "      gap: 12px;\n",
              "    }\n",
              "\n",
              "    .colab-df-convert {\n",
              "      background-color: #E8F0FE;\n",
              "      border: none;\n",
              "      border-radius: 50%;\n",
              "      cursor: pointer;\n",
              "      display: none;\n",
              "      fill: #1967D2;\n",
              "      height: 32px;\n",
              "      padding: 0 0 0 0;\n",
              "      width: 32px;\n",
              "    }\n",
              "\n",
              "    .colab-df-convert:hover {\n",
              "      background-color: #E2EBFA;\n",
              "      box-shadow: 0px 1px 2px rgba(60, 64, 67, 0.3), 0px 1px 3px 1px rgba(60, 64, 67, 0.15);\n",
              "      fill: #174EA6;\n",
              "    }\n",
              "\n",
              "    [theme=dark] .colab-df-convert {\n",
              "      background-color: #3B4455;\n",
              "      fill: #D2E3FC;\n",
              "    }\n",
              "\n",
              "    [theme=dark] .colab-df-convert:hover {\n",
              "      background-color: #434B5C;\n",
              "      box-shadow: 0px 1px 3px 1px rgba(0, 0, 0, 0.15);\n",
              "      filter: drop-shadow(0px 1px 2px rgba(0, 0, 0, 0.3));\n",
              "      fill: #FFFFFF;\n",
              "    }\n",
              "  </style>\n",
              "\n",
              "      <script>\n",
              "        const buttonEl =\n",
              "          document.querySelector('#df-94d65cfe-4cba-4714-a7f9-3f8942a7fe19 button.colab-df-convert');\n",
              "        buttonEl.style.display =\n",
              "          google.colab.kernel.accessAllowed ? 'block' : 'none';\n",
              "\n",
              "        async function convertToInteractive(key) {\n",
              "          const element = document.querySelector('#df-94d65cfe-4cba-4714-a7f9-3f8942a7fe19');\n",
              "          const dataTable =\n",
              "            await google.colab.kernel.invokeFunction('convertToInteractive',\n",
              "                                                     [key], {});\n",
              "          if (!dataTable) return;\n",
              "\n",
              "          const docLinkHtml = 'Like what you see? Visit the ' +\n",
              "            '<a target=\"_blank\" href=https://colab.research.google.com/notebooks/data_table.ipynb>data table notebook</a>'\n",
              "            + ' to learn more about interactive tables.';\n",
              "          element.innerHTML = '';\n",
              "          dataTable['output_type'] = 'display_data';\n",
              "          await google.colab.output.renderOutput(dataTable, element);\n",
              "          const docLink = document.createElement('div');\n",
              "          docLink.innerHTML = docLinkHtml;\n",
              "          element.appendChild(docLink);\n",
              "        }\n",
              "      </script>\n",
              "    </div>\n",
              "  </div>\n",
              "  "
            ],
            "text/plain": [
              "      route_id  ... run_sequence_number\n",
              "0           42  ...                   1\n",
              "1           42  ...                   4\n",
              "2          366  ...                   4\n",
              "3           42  ...                   1\n",
              "4          366  ...                   1\n",
              "...        ...  ...                 ...\n",
              "21799   209_96  ...                   2\n",
              "21800   209_96  ...                   3\n",
              "21801   209_96  ...                   4\n",
              "21802   209_96  ...                   5\n",
              "21803   209_96  ...                   6\n",
              "\n",
              "[21804 rows x 8 columns]"
            ]
          },
          "metadata": {},
          "execution_count": 14
        }
      ],
      "source": [
        "routes.drop('route_short_name', axis='columns')\n",
        "routes.drop('route_type', axis='columns')\n",
        "trips.drop('service_id', axis='columns')"
      ]
    },
    {
      "cell_type": "code",
      "source": [
        "import re\n",
        "from datetime import datetime, time\n",
        "def timew(i):\n",
        "    pattern = '\\A\\d{2}:\\d{2}:\\d{2}'\n",
        "    s = str(stop_times['departure_time'][i])\n",
        "    s1 = str(stop_times['arrival_time'][i+1])\n",
        "    if ( re.search(pattern, s) and re.search(pattern,s1)):\n",
        "      FMT = '%H:%M:%S'\n",
        "      tdelta = datetime.strptime(s1, FMT) - datetime.strptime(s, FMT)\n",
        "      a = tdelta.seconds/3600\n",
        "    else:\n",
        "      a=0.018333333333333333\n",
        "    return a  \n",
        "\n",
        "for i in range(0,len(stop_times['arrival_time'])-1):\n",
        "    b = timew(i)\n",
        "    stop_times['time'][0] = 'NaN'\n",
        "    stop_times['time'][i+1] = b"
      ],
      "metadata": {
        "id": "BQQrpfXUte0u"
      },
      "execution_count": null,
      "outputs": []
    },
    {
      "cell_type": "code",
      "execution_count": null,
      "metadata": {
        "id": "EI0NUhcQwTGU",
        "colab": {
          "base_uri": "https://localhost:8080/"
        },
        "outputId": "0ddf858b-9b2b-4880-f56e-0533ef3f8f1a"
      },
      "outputs": [
        {
          "output_type": "execute_result",
          "data": {
            "text/plain": [
              "0              NaN\n",
              "1         0.003889\n",
              "2         0.017500\n",
              "3         0.008611\n",
              "4         0.021667\n",
              "            ...   \n",
              "751847    0.007222\n",
              "751848    0.008056\n",
              "751849    0.007500\n",
              "751850    0.000278\n",
              "751851    0.022500\n",
              "Name: time, Length: 751852, dtype: float64"
            ]
          },
          "metadata": {},
          "execution_count": 15
        }
      ],
      "source": [
        "stop_times['time']"
      ]
    },
    {
      "cell_type": "code",
      "execution_count": null,
      "metadata": {
        "id": "qx_cErjPWTRG"
      },
      "outputs": [],
      "source": [
        "def haversine(lon1, lat1, lon3, lat3):                                                                                                                                  \n",
        "    lon1, lat1, lon3, lat3 = map(np.radians, [lon1, lat1, lon3, lat3])                                                  \n",
        "    a = np.sin((lat3) / 2.0)**2 + (np.cos(lat1) * np.cos(lat1+lat3) * np.sin((lon3) / 2.0)**2)                 \n",
        "    distance = 6371 * 2 * np.arcsin(np.sqrt(a))                                                                         \n",
        "    return distance   \n",
        "\n",
        "    "
      ]
    },
    {
      "cell_type": "code",
      "execution_count": null,
      "metadata": {
        "id": "7rDdWo8U7qcu"
      },
      "outputs": [],
      "source": [
        "stop_times['dist'] = haversine(stop_times['stop_lon'],stop_times['stop_lat'],abs(stop_times['stop_lon'].diff()),abs(stop_times['stop_lat'].diff()))"
      ]
    },
    {
      "cell_type": "code",
      "execution_count": null,
      "metadata": {
        "id": "WinZOyPdj-Z2",
        "colab": {
          "base_uri": "https://localhost:8080/"
        },
        "outputId": "ee7e407b-9169-4ef8-8c9c-a2bd910653de"
      },
      "outputs": [
        {
          "output_type": "stream",
          "name": "stdout",
          "text": [
            "0              NaN\n",
            "1         0.372396\n",
            "2         0.478335\n",
            "3         0.330991\n",
            "4         0.711287\n",
            "            ...   \n",
            "751847    0.339072\n",
            "751848    0.270447\n",
            "751849    0.289718\n",
            "751850    0.097810\n",
            "751851    0.799525\n",
            "Name: dist, Length: 751852, dtype: float64\n"
          ]
        }
      ],
      "source": [
        "print(stop_times['dist'])"
      ]
    },
    {
      "cell_type": "code",
      "execution_count": null,
      "metadata": {
        "id": "59iJQu4em8UV"
      },
      "outputs": [],
      "source": [
        "stop_times['velocity'] = stop_times['dist']/stop_times['time']"
      ]
    },
    {
      "cell_type": "code",
      "execution_count": null,
      "metadata": {
        "id": "jSclulV5nKjS"
      },
      "outputs": [],
      "source": [
        "for i in range(0,len(stop_times['stop_sequence'])):\n",
        "  if(stop_times['stop_sequence'][i]==1):\n",
        "    stop_times['velocity'][i] = 'NaN'\n",
        "    stop_times['time'][i] = 'NaN'\n",
        "    stop_times['dist'][i] = 'NaN'"
      ]
    },
    {
      "cell_type": "code",
      "source": [
        "stop_times['velocity']"
      ],
      "metadata": {
        "colab": {
          "base_uri": "https://localhost:8080/"
        },
        "id": "V13IP-3vfm9c",
        "outputId": "7463fc04-56a2-4b5d-d444-95766424c974"
      },
      "execution_count": null,
      "outputs": [
        {
          "output_type": "execute_result",
          "data": {
            "text/plain": [
              "0                NaN\n",
              "1          95.759011\n",
              "2          27.333415\n",
              "3          38.437651\n",
              "4          32.828650\n",
              "             ...    \n",
              "751847     46.948410\n",
              "751848     33.572778\n",
              "751849     38.629126\n",
              "751850    352.115380\n",
              "751851     35.534440\n",
              "Name: velocity, Length: 751852, dtype: float64"
            ]
          },
          "metadata": {},
          "execution_count": 18
        }
      ]
    },
    {
      "cell_type": "code",
      "source": [
        "stop_times.to_csv('speed.csv')"
      ],
      "metadata": {
        "id": "7fNMatNAh9Kf"
      },
      "execution_count": null,
      "outputs": []
    },
    {
      "cell_type": "code",
      "source": [
        "import seaborn as sns\n",
        "cormat = stop_times.corr()\n",
        "round(cormat,2)"
      ],
      "metadata": {
        "colab": {
          "base_uri": "https://localhost:8080/",
          "height": 269
        },
        "id": "OV-Ru-NeBmdV",
        "outputId": "b4dd7c36-36ad-4d17-92e5-a15a361b72c0"
      },
      "execution_count": null,
      "outputs": [
        {
          "output_type": "execute_result",
          "data": {
            "text/html": [
              "\n",
              "  <div id=\"df-daa83b1b-9302-4069-ab69-4899655aa4f2\">\n",
              "    <div class=\"colab-df-container\">\n",
              "      <div>\n",
              "<style scoped>\n",
              "    .dataframe tbody tr th:only-of-type {\n",
              "        vertical-align: middle;\n",
              "    }\n",
              "\n",
              "    .dataframe tbody tr th {\n",
              "        vertical-align: top;\n",
              "    }\n",
              "\n",
              "    .dataframe thead th {\n",
              "        text-align: right;\n",
              "    }\n",
              "</style>\n",
              "<table border=\"1\" class=\"dataframe\">\n",
              "  <thead>\n",
              "    <tr style=\"text-align: right;\">\n",
              "      <th></th>\n",
              "      <th>stop_id</th>\n",
              "      <th>stop_sequence</th>\n",
              "      <th>stop_lat</th>\n",
              "      <th>stop_lon</th>\n",
              "      <th>dist</th>\n",
              "      <th>time</th>\n",
              "      <th>velocity</th>\n",
              "    </tr>\n",
              "  </thead>\n",
              "  <tbody>\n",
              "    <tr>\n",
              "      <th>stop_id</th>\n",
              "      <td>1.00</td>\n",
              "      <td>0.00</td>\n",
              "      <td>-0.07</td>\n",
              "      <td>-0.01</td>\n",
              "      <td>-0.02</td>\n",
              "      <td>-0.01</td>\n",
              "      <td>0.01</td>\n",
              "    </tr>\n",
              "    <tr>\n",
              "      <th>stop_sequence</th>\n",
              "      <td>0.00</td>\n",
              "      <td>1.00</td>\n",
              "      <td>0.04</td>\n",
              "      <td>-0.04</td>\n",
              "      <td>0.03</td>\n",
              "      <td>-0.00</td>\n",
              "      <td>-0.00</td>\n",
              "    </tr>\n",
              "    <tr>\n",
              "      <th>stop_lat</th>\n",
              "      <td>-0.07</td>\n",
              "      <td>0.04</td>\n",
              "      <td>1.00</td>\n",
              "      <td>-0.29</td>\n",
              "      <td>0.02</td>\n",
              "      <td>-0.01</td>\n",
              "      <td>-0.00</td>\n",
              "    </tr>\n",
              "    <tr>\n",
              "      <th>stop_lon</th>\n",
              "      <td>-0.01</td>\n",
              "      <td>-0.04</td>\n",
              "      <td>-0.29</td>\n",
              "      <td>1.00</td>\n",
              "      <td>0.01</td>\n",
              "      <td>0.01</td>\n",
              "      <td>-0.00</td>\n",
              "    </tr>\n",
              "    <tr>\n",
              "      <th>dist</th>\n",
              "      <td>-0.02</td>\n",
              "      <td>0.03</td>\n",
              "      <td>0.02</td>\n",
              "      <td>0.01</td>\n",
              "      <td>1.00</td>\n",
              "      <td>0.11</td>\n",
              "      <td>0.57</td>\n",
              "    </tr>\n",
              "    <tr>\n",
              "      <th>time</th>\n",
              "      <td>-0.01</td>\n",
              "      <td>-0.00</td>\n",
              "      <td>-0.01</td>\n",
              "      <td>0.01</td>\n",
              "      <td>0.11</td>\n",
              "      <td>1.00</td>\n",
              "      <td>-0.02</td>\n",
              "    </tr>\n",
              "    <tr>\n",
              "      <th>velocity</th>\n",
              "      <td>0.01</td>\n",
              "      <td>-0.00</td>\n",
              "      <td>-0.00</td>\n",
              "      <td>-0.00</td>\n",
              "      <td>0.57</td>\n",
              "      <td>-0.02</td>\n",
              "      <td>1.00</td>\n",
              "    </tr>\n",
              "  </tbody>\n",
              "</table>\n",
              "</div>\n",
              "      <button class=\"colab-df-convert\" onclick=\"convertToInteractive('df-daa83b1b-9302-4069-ab69-4899655aa4f2')\"\n",
              "              title=\"Convert this dataframe to an interactive table.\"\n",
              "              style=\"display:none;\">\n",
              "        \n",
              "  <svg xmlns=\"http://www.w3.org/2000/svg\" height=\"24px\"viewBox=\"0 0 24 24\"\n",
              "       width=\"24px\">\n",
              "    <path d=\"M0 0h24v24H0V0z\" fill=\"none\"/>\n",
              "    <path d=\"M18.56 5.44l.94 2.06.94-2.06 2.06-.94-2.06-.94-.94-2.06-.94 2.06-2.06.94zm-11 1L8.5 8.5l.94-2.06 2.06-.94-2.06-.94L8.5 2.5l-.94 2.06-2.06.94zm10 10l.94 2.06.94-2.06 2.06-.94-2.06-.94-.94-2.06-.94 2.06-2.06.94z\"/><path d=\"M17.41 7.96l-1.37-1.37c-.4-.4-.92-.59-1.43-.59-.52 0-1.04.2-1.43.59L10.3 9.45l-7.72 7.72c-.78.78-.78 2.05 0 2.83L4 21.41c.39.39.9.59 1.41.59.51 0 1.02-.2 1.41-.59l7.78-7.78 2.81-2.81c.8-.78.8-2.07 0-2.86zM5.41 20L4 18.59l7.72-7.72 1.47 1.35L5.41 20z\"/>\n",
              "  </svg>\n",
              "      </button>\n",
              "      \n",
              "  <style>\n",
              "    .colab-df-container {\n",
              "      display:flex;\n",
              "      flex-wrap:wrap;\n",
              "      gap: 12px;\n",
              "    }\n",
              "\n",
              "    .colab-df-convert {\n",
              "      background-color: #E8F0FE;\n",
              "      border: none;\n",
              "      border-radius: 50%;\n",
              "      cursor: pointer;\n",
              "      display: none;\n",
              "      fill: #1967D2;\n",
              "      height: 32px;\n",
              "      padding: 0 0 0 0;\n",
              "      width: 32px;\n",
              "    }\n",
              "\n",
              "    .colab-df-convert:hover {\n",
              "      background-color: #E2EBFA;\n",
              "      box-shadow: 0px 1px 2px rgba(60, 64, 67, 0.3), 0px 1px 3px 1px rgba(60, 64, 67, 0.15);\n",
              "      fill: #174EA6;\n",
              "    }\n",
              "\n",
              "    [theme=dark] .colab-df-convert {\n",
              "      background-color: #3B4455;\n",
              "      fill: #D2E3FC;\n",
              "    }\n",
              "\n",
              "    [theme=dark] .colab-df-convert:hover {\n",
              "      background-color: #434B5C;\n",
              "      box-shadow: 0px 1px 3px 1px rgba(0, 0, 0, 0.15);\n",
              "      filter: drop-shadow(0px 1px 2px rgba(0, 0, 0, 0.3));\n",
              "      fill: #FFFFFF;\n",
              "    }\n",
              "  </style>\n",
              "\n",
              "      <script>\n",
              "        const buttonEl =\n",
              "          document.querySelector('#df-daa83b1b-9302-4069-ab69-4899655aa4f2 button.colab-df-convert');\n",
              "        buttonEl.style.display =\n",
              "          google.colab.kernel.accessAllowed ? 'block' : 'none';\n",
              "\n",
              "        async function convertToInteractive(key) {\n",
              "          const element = document.querySelector('#df-daa83b1b-9302-4069-ab69-4899655aa4f2');\n",
              "          const dataTable =\n",
              "            await google.colab.kernel.invokeFunction('convertToInteractive',\n",
              "                                                     [key], {});\n",
              "          if (!dataTable) return;\n",
              "\n",
              "          const docLinkHtml = 'Like what you see? Visit the ' +\n",
              "            '<a target=\"_blank\" href=https://colab.research.google.com/notebooks/data_table.ipynb>data table notebook</a>'\n",
              "            + ' to learn more about interactive tables.';\n",
              "          element.innerHTML = '';\n",
              "          dataTable['output_type'] = 'display_data';\n",
              "          await google.colab.output.renderOutput(dataTable, element);\n",
              "          const docLink = document.createElement('div');\n",
              "          docLink.innerHTML = docLinkHtml;\n",
              "          element.appendChild(docLink);\n",
              "        }\n",
              "      </script>\n",
              "    </div>\n",
              "  </div>\n",
              "  "
            ],
            "text/plain": [
              "               stop_id  stop_sequence  stop_lat  stop_lon  dist  time  velocity\n",
              "stop_id           1.00           0.00     -0.07     -0.01 -0.02 -0.01      0.01\n",
              "stop_sequence     0.00           1.00      0.04     -0.04  0.03 -0.00     -0.00\n",
              "stop_lat         -0.07           0.04      1.00     -0.29  0.02 -0.01     -0.00\n",
              "stop_lon         -0.01          -0.04     -0.29      1.00  0.01  0.01     -0.00\n",
              "dist             -0.02           0.03      0.02      0.01  1.00  0.11      0.57\n",
              "time             -0.01          -0.00     -0.01      0.01  0.11  1.00     -0.02\n",
              "velocity          0.01          -0.00     -0.00     -0.00  0.57 -0.02      1.00"
            ]
          },
          "metadata": {},
          "execution_count": 20
        }
      ]
    },
    {
      "cell_type": "code",
      "source": [
        "sns.heatmap(cormat);"
      ],
      "metadata": {
        "colab": {
          "base_uri": "https://localhost:8080/",
          "height": 334
        },
        "id": "heUGSftgCOOR",
        "outputId": "0d054d8a-4fd2-4f14-dfc7-22d6423a114f"
      },
      "execution_count": null,
      "outputs": [
        {
          "output_type": "display_data",
          "data": {
            "image/png": "[encoded data removed]",
            "text/plain": [
              "<Figure size 432x288 with 2 Axes>"
            ]
          },
          "metadata": {
            "needs_background": "light"
          }
        }
      ]
    }
  ],
  "metadata": {
    "accelerator": "GPU",
    "colab": {
      "collapsed_sections": [],
      "name": "Untitled15.ipynb",
      "provenance": []
    },
    "kernelspec": {
      "display_name": "Python 3",
      "name": "python3"
    },
    "language_info": {
      "name": "python"
    }
  },
  "nbformat": 4,
  "nbformat_minor": 0
}