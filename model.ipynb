{
  "nbformat": 4,
  "nbformat_minor": 0,
  "metadata": {
    "colab": {
      "name": "model.ipynb",
      "provenance": []
    },
    "kernelspec": {
      "name": "python3",
      "display_name": "Python 3"
    },
    "language_info": {
      "name": "python"
    },
    "accelerator": "GPU"
  },
  "cells": [
    {
      "cell_type": "code",
      "execution_count": null,
      "metadata": {
        "id": "8o_n1PJj0N8D"
      },
      "outputs": [],
      "source": [
        "import pandas as pd\n",
        "from numpy import loadtxt\n",
        "import numpy as np\n",
        "from keras.models import Sequential\n",
        "from keras.layers import Dense\n",
        "from math import inf"
      ]
    },
    {
      "cell_type": "code",
      "source": [
        "dataset= pd.read_csv('FINAL.csv')\n",
        "dataset = dataset[dataset['speed'] != inf]"
      ],
      "metadata": {
        "id": "9Ee5xS250UJ5"
      },
      "execution_count": null,
      "outputs": []
    },
    {
      "cell_type": "code",
      "source": [
        "X = dataset.iloc[:,0:8]\n",
        "y = dataset.iloc[:,8]"
      ],
      "metadata": {
        "id": "0YwRhKnTw96-"
      },
      "execution_count": null,
      "outputs": []
    },
    {
      "cell_type": "code",
      "source": [
        "X=X.drop('trip_id', axis=1)\n",
        "X=X.drop('arrival_time', axis=1)"
      ],
      "metadata": {
        "id": "rs5VquxkyfPH"
      },
      "execution_count": null,
      "outputs": []
    },
    {
      "cell_type": "code",
      "source": [
        "X = X[X['speed'] != inf]"
      ],
      "metadata": {
        "id": "SUqBFLnOzm_c"
      },
      "execution_count": null,
      "outputs": []
    },
    {
      "cell_type": "code",
      "source": [
        "model = Sequential()\n",
        "model.add(Dense(12, input_dim=6, activation='relu'))\n",
        "model.add(Dense(80, activation='relu'))\n",
        "model.add(Dense(80, activation='relu'))\n",
        "model.add(Dense(1, activation='softmax'))"
      ],
      "metadata": {
        "id": "vHdJJi2GwN8N"
      },
      "execution_count": null,
      "outputs": []
    },
    {
      "cell_type": "code",
      "source": [
        "model.compile(loss='binary_crossentropy', optimizer='adam', metrics=['accuracy'])"
      ],
      "metadata": {
        "id": "LXLRh_QpwcHZ"
      },
      "execution_count": null,
      "outputs": []
    },
    {
      "cell_type": "code",
      "source": [
        "X_train = np.asarray(X).astype(np.float32)\n",
        "from sklearn import preprocessing\n",
        "le = preprocessing.LabelEncoder()\n",
        "y=le.fit_transform(y)\n",
        "y_train = np.asarray(y).astype(np.float32)"
      ],
      "metadata": {
        "id": "QraTJop0yMLu"
      },
      "execution_count": null,
      "outputs": []
    },
    {
      "cell_type": "code",
      "source": [
        "model.fit(X_train, y_train, epochs=15, batch_size=10)"
      ],
      "metadata": {
        "colab": {
          "base_uri": "https://localhost:8080/"
        },
        "id": "WzRW6q34wfUy",
        "outputId": "702730e6-43d7-46b2-f5e8-2049926a39ba"
      },
      "execution_count": null,
      "outputs": [
        {
          "output_type": "stream",
          "name": "stdout",
          "text": [
            "Epoch 1/15\n",
            "6676/6676 [==============================] - 29s 4ms/step - loss: nan - accuracy: 0.1256\n",
            "Epoch 2/15\n",
            "6676/6676 [==============================] - 37s 5ms/step - loss: nan - accuracy: 0.1236\n",
            "Epoch 3/15\n",
            "6676/6676 [==============================] - 28s 4ms/step - loss: nan - accuracy: 0.1236\n",
            "Epoch 4/15\n",
            "6676/6676 [==============================] - 28s 4ms/step - loss: nan - accuracy: 0.1236\n",
            "Epoch 5/15\n",
            "6676/6676 [==============================] - 28s 4ms/step - loss: nan - accuracy: 0.1236\n",
            "Epoch 6/15\n",
            "6676/6676 [==============================] - 28s 4ms/step - loss: nan - accuracy: 0.1236\n",
            "Epoch 7/15\n",
            "6676/6676 [==============================] - 27s 4ms/step - loss: nan - accuracy: 0.1236\n",
            "Epoch 8/15\n",
            "6676/6676 [==============================] - 28s 4ms/step - loss: nan - accuracy: 0.1236\n",
            "Epoch 9/15\n",
            "6676/6676 [==============================] - 28s 4ms/step - loss: nan - accuracy: 0.1236\n",
            "Epoch 10/15\n",
            "6676/6676 [==============================] - 28s 4ms/step - loss: nan - accuracy: 0.1236\n",
            "Epoch 11/15\n",
            "6676/6676 [==============================] - 28s 4ms/step - loss: nan - accuracy: 0.1236\n",
            "Epoch 12/15\n",
            "6676/6676 [==============================] - 28s 4ms/step - loss: nan - accuracy: 0.1236\n",
            "Epoch 13/15\n",
            "6676/6676 [==============================] - 27s 4ms/step - loss: nan - accuracy: 0.1236\n",
            "Epoch 14/15\n",
            "6676/6676 [==============================] - 28s 4ms/step - loss: nan - accuracy: 0.1236\n",
            "Epoch 15/15\n",
            "6676/6676 [==============================] - 29s 4ms/step - loss: nan - accuracy: 0.1236\n"
          ]
        },
        {
          "output_type": "execute_result",
          "data": {
            "text/plain": [
              "<keras.callbacks.History at 0x7f53f11a8ed0>"
            ]
          },
          "metadata": {},
          "execution_count": 79
        }
      ]
    },
    {
      "cell_type": "code",
      "source": [
        "_, accuracy = model.evaluate(X_train, y_train)\n",
        "print('Accuracy: %.2f' % (accuracy*100))"
      ],
      "metadata": {
        "colab": {
          "base_uri": "https://localhost:8080/"
        },
        "id": "OKQo_ACpwiDN",
        "outputId": "30ed2e54-cd9a-466b-fc93-4092e2c484e9"
      },
      "execution_count": null,
      "outputs": [
        {
          "output_type": "stream",
          "name": "stdout",
          "text": [
            "2086/2086 [==============================] - 5s 3ms/step - loss: nan - accuracy: 0.1236\n",
            "Accuracy: 12.36\n"
          ]
        }
      ]
    }
  ]
}