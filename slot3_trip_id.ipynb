{
  "nbformat": 4,
  "nbformat_minor": 0,
  "metadata": {
    "colab": {
      "name": "slot3_trip_id.ipynb",
      "provenance": [],
      "collapsed_sections": []
    },
    "kernelspec": {
      "name": "python3",
      "display_name": "Python 3"
    },
    "language_info": {
      "name": "python"
    }
  },
  "cells": [
    {
      "cell_type": "code",
      "execution_count": null,
      "metadata": {
        "id": "mvg62trmxLxe"
      },
      "outputs": [],
      "source": [
        "import numpy as np\n",
        "import pandas as pd"
      ]
    },
    {
      "cell_type": "code",
      "source": [
        "dataset=pd.read_csv('FinalSlot4.csv')"
      ],
      "metadata": {
        "id": "nGjZjOOr6z11"
      },
      "execution_count": null,
      "outputs": []
    },
    {
      "cell_type": "code",
      "source": [
        "dataset.shape"
      ],
      "metadata": {
        "colab": {
          "base_uri": "https://localhost:8080/"
        },
        "id": "glmuG8fx65n2",
        "outputId": "28480134-6304-4f22-a942-14a152341834"
      },
      "execution_count": null,
      "outputs": [
        {
          "output_type": "execute_result",
          "data": {
            "text/plain": [
              "(400755, 7)"
            ]
          },
          "metadata": {},
          "execution_count": 4
        }
      ]
    },
    {
      "cell_type": "code",
      "source": [
        "dataset.drop_duplicates(subset =['trip_id_modified','stop_id_modified_from','stop_id_modified_to'], inplace = True)"
      ],
      "metadata": {
        "id": "diXCZo0z68Um"
      },
      "execution_count": null,
      "outputs": []
    },
    {
      "cell_type": "code",
      "source": [
        "dataset.shape"
      ],
      "metadata": {
        "colab": {
          "base_uri": "https://localhost:8080/"
        },
        "id": "fFaZfurZ6-9s",
        "outputId": "6af4ead5-dbfd-4d0f-acd0-3d581c4a83f5"
      },
      "execution_count": null,
      "outputs": [
        {
          "output_type": "execute_result",
          "data": {
            "text/plain": [
              "(39292, 7)"
            ]
          },
          "metadata": {},
          "execution_count": 6
        }
      ]
    },
    {
      "cell_type": "code",
      "source": [
        "dataset['No of trips']=0"
      ],
      "metadata": {
        "id": "GU5Scnc_7ALY"
      },
      "execution_count": null,
      "outputs": []
    },
    {
      "cell_type": "code",
      "source": [
        "dataset.to_csv('work.csv')"
      ],
      "metadata": {
        "id": "j4-nTovA7Ert"
      },
      "execution_count": null,
      "outputs": []
    },
    {
      "cell_type": "code",
      "source": [
        "u = pd.read_csv('work.csv')"
      ],
      "metadata": {
        "id": "_SFkw9z87Hxx"
      },
      "execution_count": null,
      "outputs": []
    },
    {
      "cell_type": "code",
      "source": [
        "u"
      ],
      "metadata": {
        "colab": {
          "base_uri": "https://localhost:8080/",
          "height": 713
        },
        "id": "0xc-trlr2fKD",
        "outputId": "1110c609-6162-434c-ca98-15730fd3b9df"
      },
      "execution_count": null,
      "outputs": [
        {
          "output_type": "execute_result",
          "data": {
            "text/html": [
              "\n",
              "  <div id=\"df-a1775a7a-e862-4d87-9cd9-54917e1723c3\">\n",
              "    <div class=\"colab-df-container\">\n",
              "      <div>\n",
              "<style scoped>\n",
              "    .dataframe tbody tr th:only-of-type {\n",
              "        vertical-align: middle;\n",
              "    }\n",
              "\n",
              "    .dataframe tbody tr th {\n",
              "        vertical-align: top;\n",
              "    }\n",
              "\n",
              "    .dataframe thead th {\n",
              "        text-align: right;\n",
              "    }\n",
              "</style>\n",
              "<table border=\"1\" class=\"dataframe\">\n",
              "  <thead>\n",
              "    <tr style=\"text-align: right;\">\n",
              "      <th></th>\n",
              "      <th>Unnamed: 0</th>\n",
              "      <th>Unnamed: 0.1</th>\n",
              "      <th>route_id_modified</th>\n",
              "      <th>trip_id_modified</th>\n",
              "      <th>stop_id_modified_from</th>\n",
              "      <th>stop_id_modified_to</th>\n",
              "      <th>time_modified</th>\n",
              "      <th>speed</th>\n",
              "      <th>No of trips</th>\n",
              "    </tr>\n",
              "  </thead>\n",
              "  <tbody>\n",
              "    <tr>\n",
              "      <th>0</th>\n",
              "      <td>0</td>\n",
              "      <td>0</td>\n",
              "      <td>100_18</td>\n",
              "      <td>NORMAL_115P_Pune Station to Hinjawadi Phase 3_...</td>\n",
              "      <td>36156</td>\n",
              "      <td>38709</td>\n",
              "      <td>0.056944</td>\n",
              "      <td>6.921938</td>\n",
              "      <td>0</td>\n",
              "    </tr>\n",
              "    <tr>\n",
              "      <th>1</th>\n",
              "      <td>1</td>\n",
              "      <td>1</td>\n",
              "      <td>100_18</td>\n",
              "      <td>NORMAL_333_Pune Station To  Hinjawadi Maan Pha...</td>\n",
              "      <td>36156</td>\n",
              "      <td>38709</td>\n",
              "      <td>0.039722</td>\n",
              "      <td>9.923058</td>\n",
              "      <td>0</td>\n",
              "    </tr>\n",
              "    <tr>\n",
              "      <th>2</th>\n",
              "      <td>2</td>\n",
              "      <td>2</td>\n",
              "      <td>100_18</td>\n",
              "      <td>NORMAL_115P_Pune Station to Hinjawadi Phase 3_...</td>\n",
              "      <td>36156</td>\n",
              "      <td>38709</td>\n",
              "      <td>0.056944</td>\n",
              "      <td>6.921938</td>\n",
              "      <td>0</td>\n",
              "    </tr>\n",
              "    <tr>\n",
              "      <th>3</th>\n",
              "      <td>3</td>\n",
              "      <td>3</td>\n",
              "      <td>100_18</td>\n",
              "      <td>NORMAL_208_Hadapsar Gadital To Hinjawadi Maan ...</td>\n",
              "      <td>36156</td>\n",
              "      <td>38709</td>\n",
              "      <td>0.040556</td>\n",
              "      <td>9.719160</td>\n",
              "      <td>0</td>\n",
              "    </tr>\n",
              "    <tr>\n",
              "      <th>4</th>\n",
              "      <td>4</td>\n",
              "      <td>4</td>\n",
              "      <td>100_18</td>\n",
              "      <td>NORMAL_204_Bhekrainagar To Chinchwad Gaon_Up-1...</td>\n",
              "      <td>36156</td>\n",
              "      <td>38709</td>\n",
              "      <td>0.064167</td>\n",
              "      <td>6.142846</td>\n",
              "      <td>0</td>\n",
              "    </tr>\n",
              "    <tr>\n",
              "      <th>...</th>\n",
              "      <td>...</td>\n",
              "      <td>...</td>\n",
              "      <td>...</td>\n",
              "      <td>...</td>\n",
              "      <td>...</td>\n",
              "      <td>...</td>\n",
              "      <td>...</td>\n",
              "      <td>...</td>\n",
              "      <td>...</td>\n",
              "    </tr>\n",
              "    <tr>\n",
              "      <th>39287</th>\n",
              "      <td>400502</td>\n",
              "      <td>400502</td>\n",
              "      <td>VJR6</td>\n",
              "      <td>NORMAL_VJR6_Hinjawadi Maan Phase 3 To Bhosari_...</td>\n",
              "      <td>1109</td>\n",
              "      <td>1107</td>\n",
              "      <td>0.016389</td>\n",
              "      <td>25.723938</td>\n",
              "      <td>0</td>\n",
              "    </tr>\n",
              "    <tr>\n",
              "      <th>39288</th>\n",
              "      <td>400503</td>\n",
              "      <td>400503</td>\n",
              "      <td>VJR6</td>\n",
              "      <td>NORMAL_VJR6_Hinjawadi Maan Phase 3 To Bhosari_...</td>\n",
              "      <td>1107</td>\n",
              "      <td>1105</td>\n",
              "      <td>0.015000</td>\n",
              "      <td>35.131427</td>\n",
              "      <td>0</td>\n",
              "    </tr>\n",
              "    <tr>\n",
              "      <th>39289</th>\n",
              "      <td>400504</td>\n",
              "      <td>400504</td>\n",
              "      <td>VJR6</td>\n",
              "      <td>NORMAL_VJR6_Hinjawadi Maan Phase 3 To Bhosari_...</td>\n",
              "      <td>1107</td>\n",
              "      <td>1105</td>\n",
              "      <td>0.015000</td>\n",
              "      <td>35.131427</td>\n",
              "      <td>0</td>\n",
              "    </tr>\n",
              "    <tr>\n",
              "      <th>39290</th>\n",
              "      <td>400505</td>\n",
              "      <td>400505</td>\n",
              "      <td>VJR6</td>\n",
              "      <td>NORMAL_VJR6_Hinjawadi Maan Phase 3 To Bhosari_...</td>\n",
              "      <td>1105</td>\n",
              "      <td>1320</td>\n",
              "      <td>0.014444</td>\n",
              "      <td>24.245018</td>\n",
              "      <td>0</td>\n",
              "    </tr>\n",
              "    <tr>\n",
              "      <th>39291</th>\n",
              "      <td>400506</td>\n",
              "      <td>400506</td>\n",
              "      <td>VJR6</td>\n",
              "      <td>NORMAL_VJR6_Hinjawadi Maan Phase 3 To Bhosari_...</td>\n",
              "      <td>1105</td>\n",
              "      <td>1320</td>\n",
              "      <td>0.014444</td>\n",
              "      <td>24.245018</td>\n",
              "      <td>0</td>\n",
              "    </tr>\n",
              "  </tbody>\n",
              "</table>\n",
              "<p>39292 rows × 9 columns</p>\n",
              "</div>\n",
              "      <button class=\"colab-df-convert\" onclick=\"convertToInteractive('df-a1775a7a-e862-4d87-9cd9-54917e1723c3')\"\n",
              "              title=\"Convert this dataframe to an interactive table.\"\n",
              "              style=\"display:none;\">\n",
              "        \n",
              "  <svg xmlns=\"http://www.w3.org/2000/svg\" height=\"24px\"viewBox=\"0 0 24 24\"\n",
              "       width=\"24px\">\n",
              "    <path d=\"M0 0h24v24H0V0z\" fill=\"none\"/>\n",
              "    <path d=\"M18.56 5.44l.94 2.06.94-2.06 2.06-.94-2.06-.94-.94-2.06-.94 2.06-2.06.94zm-11 1L8.5 8.5l.94-2.06 2.06-.94-2.06-.94L8.5 2.5l-.94 2.06-2.06.94zm10 10l.94 2.06.94-2.06 2.06-.94-2.06-.94-.94-2.06-.94 2.06-2.06.94z\"/><path d=\"M17.41 7.96l-1.37-1.37c-.4-.4-.92-.59-1.43-.59-.52 0-1.04.2-1.43.59L10.3 9.45l-7.72 7.72c-.78.78-.78 2.05 0 2.83L4 21.41c.39.39.9.59 1.41.59.51 0 1.02-.2 1.41-.59l7.78-7.78 2.81-2.81c.8-.78.8-2.07 0-2.86zM5.41 20L4 18.59l7.72-7.72 1.47 1.35L5.41 20z\"/>\n",
              "  </svg>\n",
              "      </button>\n",
              "      \n",
              "  <style>\n",
              "    .colab-df-container {\n",
              "      display:flex;\n",
              "      flex-wrap:wrap;\n",
              "      gap: 12px;\n",
              "    }\n",
              "\n",
              "    .colab-df-convert {\n",
              "      background-color: #E8F0FE;\n",
              "      border: none;\n",
              "      border-radius: 50%;\n",
              "      cursor: pointer;\n",
              "      display: none;\n",
              "      fill: #1967D2;\n",
              "      height: 32px;\n",
              "      padding: 0 0 0 0;\n",
              "      width: 32px;\n",
              "    }\n",
              "\n",
              "    .colab-df-convert:hover {\n",
              "      background-color: #E2EBFA;\n",
              "      box-shadow: 0px 1px 2px rgba(60, 64, 67, 0.3), 0px 1px 3px 1px rgba(60, 64, 67, 0.15);\n",
              "      fill: #174EA6;\n",
              "    }\n",
              "\n",
              "    [theme=dark] .colab-df-convert {\n",
              "      background-color: #3B4455;\n",
              "      fill: #D2E3FC;\n",
              "    }\n",
              "\n",
              "    [theme=dark] .colab-df-convert:hover {\n",
              "      background-color: #434B5C;\n",
              "      box-shadow: 0px 1px 3px 1px rgba(0, 0, 0, 0.15);\n",
              "      filter: drop-shadow(0px 1px 2px rgba(0, 0, 0, 0.3));\n",
              "      fill: #FFFFFF;\n",
              "    }\n",
              "  </style>\n",
              "\n",
              "      <script>\n",
              "        const buttonEl =\n",
              "          document.querySelector('#df-a1775a7a-e862-4d87-9cd9-54917e1723c3 button.colab-df-convert');\n",
              "        buttonEl.style.display =\n",
              "          google.colab.kernel.accessAllowed ? 'block' : 'none';\n",
              "\n",
              "        async function convertToInteractive(key) {\n",
              "          const element = document.querySelector('#df-a1775a7a-e862-4d87-9cd9-54917e1723c3');\n",
              "          const dataTable =\n",
              "            await google.colab.kernel.invokeFunction('convertToInteractive',\n",
              "                                                     [key], {});\n",
              "          if (!dataTable) return;\n",
              "\n",
              "          const docLinkHtml = 'Like what you see? Visit the ' +\n",
              "            '<a target=\"_blank\" href=https://colab.research.google.com/notebooks/data_table.ipynb>data table notebook</a>'\n",
              "            + ' to learn more about interactive tables.';\n",
              "          element.innerHTML = '';\n",
              "          dataTable['output_type'] = 'display_data';\n",
              "          await google.colab.output.renderOutput(dataTable, element);\n",
              "          const docLink = document.createElement('div');\n",
              "          docLink.innerHTML = docLinkHtml;\n",
              "          element.appendChild(docLink);\n",
              "        }\n",
              "      </script>\n",
              "    </div>\n",
              "  </div>\n",
              "  "
            ],
            "text/plain": [
              "       Unnamed: 0  Unnamed: 0.1  ...      speed No of trips\n",
              "0               0             0  ...   6.921938           0\n",
              "1               1             1  ...   9.923058           0\n",
              "2               2             2  ...   6.921938           0\n",
              "3               3             3  ...   9.719160           0\n",
              "4               4             4  ...   6.142846           0\n",
              "...           ...           ...  ...        ...         ...\n",
              "39287      400502        400502  ...  25.723938           0\n",
              "39288      400503        400503  ...  35.131427           0\n",
              "39289      400504        400504  ...  35.131427           0\n",
              "39290      400505        400505  ...  24.245018           0\n",
              "39291      400506        400506  ...  24.245018           0\n",
              "\n",
              "[39292 rows x 9 columns]"
            ]
          },
          "metadata": {},
          "execution_count": 10
        }
      ]
    },
    {
      "cell_type": "code",
      "source": [
        "l = []"
      ],
      "metadata": {
        "id": "Vm6x3EAf1E3L"
      },
      "execution_count": null,
      "outputs": []
    },
    {
      "cell_type": "code",
      "source": [
        "for i in range(0,len(u['stop_id_modified_from'])-1):\n",
        "  count = 0\n",
        "  for j in range(0,len(u['stop_id_modified_from'])-1):\n",
        "    if((u['stop_id_modified_from'][i]==u['stop_id_modified_from'][j]) and (u['stop_id_modified_to'][i]==u['stop_id_modified_to'][j])):\n",
        "      count +=1\n",
        "  l.append(count)   "
      ],
      "metadata": {
        "id": "fAOER4pF7PPg"
      },
      "execution_count": null,
      "outputs": []
    },
    {
      "cell_type": "code",
      "source": [
        "time = pd.DataFrame(l)"
      ],
      "metadata": {
        "id": "piwKYTXCCaqk"
      },
      "execution_count": null,
      "outputs": []
    },
    {
      "cell_type": "code",
      "source": [
        "time.to_csv('onecolumn.csv')"
      ],
      "metadata": {
        "id": "69Gban3v7wlL"
      },
      "execution_count": null,
      "outputs": []
    }
  ]
}