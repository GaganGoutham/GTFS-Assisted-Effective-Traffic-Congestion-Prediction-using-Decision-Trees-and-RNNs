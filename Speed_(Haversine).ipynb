{
  "nbformat": 4,
  "nbformat_minor": 0,
  "metadata": {
    "colab": {
      "name": "Speed (Haversine).ipynb",
      "provenance": [],
      "collapsed_sections": []
    },
    "kernelspec": {
      "name": "python3",
      "display_name": "Python 3"
    },
    "language_info": {
      "name": "python"
    }
  },
  "cells": [
    {
      "cell_type": "code",
      "execution_count": null,
      "metadata": {
        "id": "faiyuF5oDC9X"
      },
      "outputs": [],
      "source": [
        "import pandas as pd\n",
        "import numpy as np"
      ]
    },
    {
      "cell_type": "code",
      "source": [
        "d1=pd.read_csv('final.csv')\n",
        "d2=pd.read_excel('pune_static_updated2.xlsx', sheet_name='stop_times.csv')"
      ],
      "metadata": {
        "id": "LDpV7750F5w7"
      },
      "execution_count": null,
      "outputs": []
    },
    {
      "cell_type": "code",
      "source": [
        "d1"
      ],
      "metadata": {
        "id": "5GDndq9SHPGq"
      },
      "execution_count": null,
      "outputs": []
    },
    {
      "cell_type": "code",
      "source": [
        "d1['source_lat']=0\n",
        "d1['source_lon']=0\n",
        "d1['target_lat']=0\n",
        "d1['target_lon']=0\n",
        "\n",
        "d1['source_lat']=pd.Series(dtype='float64')\n",
        "d1['source_lon']=pd.Series(dtype='float64')\n",
        "d1['target_lat']=pd.Series(dtype='float64')\n",
        "d1['target_lon']=pd.Series(dtype='float64')"
      ],
      "metadata": {
        "id": "JWUaQ4F8xYHw"
      },
      "execution_count": null,
      "outputs": []
    },
    {
      "cell_type": "code",
      "source": [
        "for i in range(0,len(d2['stop_id'])):\n",
        "\tfor j in range(0,len(d1['trip_id'])):\n",
        "\t\tif d2['stop_id'][i]==d1['stop_id_from'][j]:\t\t\n",
        "\t\t\td1['source_lat'][j]=d2['stop_lat'][i]\n",
        "\t\t\td1['source_lon'][j]=d2['stop_lon'][i]\n",
        "\t\tif d2['stop_id'][i]==d1['stop_id_to'][j]:\n",
        "\t\t\td1['target_lat'][j]=d2['stop_lat'][i]\n",
        "\t\t\td1['target_lon'][j]=d2['stop_lon'][i]\n",
        "\t\t\t"
      ],
      "metadata": {
        "id": "In-SRn0RHpRR"
      },
      "execution_count": null,
      "outputs": []
    },
    {
      "cell_type": "code",
      "source": [
        "d1"
      ],
      "metadata": {
        "id": "aKPFFns8xiXC"
      },
      "execution_count": null,
      "outputs": []
    },
    {
      "cell_type": "code",
      "source": [
        "!pip install keplergl"
      ],
      "metadata": {
        "id": "R4F6MVVB_xxM"
      },
      "execution_count": null,
      "outputs": []
    },
    {
      "cell_type": "code",
      "source": [
        "from google.colab import output\n",
        "output.enable_custom_widget_manager()"
      ],
      "metadata": {
        "id": "x7xk-_DXWDRR"
      },
      "execution_count": null,
      "outputs": []
    },
    {
      "cell_type": "code",
      "source": [
        "from keplergl import KeplerGl\n",
        "map1=KeplerGl(height=700)"
      ],
      "metadata": {
        "id": "X60lLBmfV_TT"
      },
      "execution_count": null,
      "outputs": []
    },
    {
      "cell_type": "code",
      "source": [
        "map1.add_data(data=d1,name='Pune')"
      ],
      "metadata": {
        "id": "ZgbpUTeKaU3f"
      },
      "execution_count": null,
      "outputs": []
    },
    {
      "cell_type": "code",
      "source": [
        "map1"
      ],
      "metadata": {
        "id": "eFtn1JAOiMTI"
      },
      "execution_count": null,
      "outputs": []
    }
  ]
}