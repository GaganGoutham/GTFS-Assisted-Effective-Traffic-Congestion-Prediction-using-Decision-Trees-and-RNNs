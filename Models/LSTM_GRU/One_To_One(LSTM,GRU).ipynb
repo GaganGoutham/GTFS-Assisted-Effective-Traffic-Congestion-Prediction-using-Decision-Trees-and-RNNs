{
  "nbformat": 4,
  "nbformat_minor": 0,
  "metadata": {
    "colab": {
      "name": "One_To_One(LSTM,GRU).ipynb",
      "provenance": [],
      "collapsed_sections": []
    },
    "kernelspec": {
      "name": "python3",
      "display_name": "Python 3"
    },
    "language_info": {
      "name": "python"
    }
  },
  "cells": [
    {
      "cell_type": "markdown",
      "source": [
        "# Data Cleaning"
      ],
      "metadata": {
        "id": "hf4XBFgFK98-"
      }
    },
    {
      "cell_type": "code",
      "execution_count": null,
      "metadata": {
        "id": "r1z21nuwR8xx"
      },
      "outputs": [],
      "source": [
        "import numpy as np\n",
        "import pandas as pd\n",
        "\n",
        "from sklearn.preprocessing import LabelEncoder\n",
        "from sklearn.model_selection import train_test_split\n",
        "from sklearn.metrics import accuracy_score"
      ]
    },
    {
      "cell_type": "code",
      "source": [
        "read=pd.read_csv('FINAL_DATASET.csv')"
      ],
      "metadata": {
        "id": "8XPkvqhLSE-g"
      },
      "execution_count": null,
      "outputs": []
    },
    {
      "cell_type": "code",
      "source": [
        "read.shape"
      ],
      "metadata": {
        "colab": {
          "base_uri": "https://localhost:8080/"
        },
        "id": "wX4fDCAQSGvZ",
        "outputId": "78f8a43b-dc10-4c22-cdec-40e7c84b6fb2"
      },
      "execution_count": null,
      "outputs": [
        {
          "output_type": "execute_result",
          "data": {
            "text/plain": [
              "(66913, 9)"
            ]
          },
          "metadata": {},
          "execution_count": 3
        }
      ]
    },
    {
      "cell_type": "code",
      "source": [
        "read['SRI'].replace('', np.nan, inplace=True)"
      ],
      "metadata": {
        "id": "ABvfIJTtSI2g"
      },
      "execution_count": null,
      "outputs": []
    },
    {
      "cell_type": "code",
      "source": [
        "read.dropna(subset=['SRI'], inplace=True)"
      ],
      "metadata": {
        "id": "VsWtYFOQSLM_"
      },
      "execution_count": null,
      "outputs": []
    },
    {
      "cell_type": "code",
      "source": [
        "read.shape"
      ],
      "metadata": {
        "colab": {
          "base_uri": "https://localhost:8080/"
        },
        "id": "IzjWJpTFSNEN",
        "outputId": "08246fa5-c401-485d-ccc3-3a6ca83653a2"
      },
      "execution_count": null,
      "outputs": [
        {
          "output_type": "execute_result",
          "data": {
            "text/plain": [
              "(66600, 9)"
            ]
          },
          "metadata": {},
          "execution_count": 6
        }
      ]
    },
    {
      "cell_type": "code",
      "source": [
        "read.drop(read.index[read['SRI'] == '#NAME?'], inplace = True)"
      ],
      "metadata": {
        "id": "L_3Bm9RaSPVq"
      },
      "execution_count": null,
      "outputs": []
    },
    {
      "cell_type": "code",
      "source": [
        "read.shape"
      ],
      "metadata": {
        "colab": {
          "base_uri": "https://localhost:8080/"
        },
        "id": "6JBZc8zkSRPK",
        "outputId": "e36d635b-fab0-40e4-b958-d4ee8c532344"
      },
      "execution_count": null,
      "outputs": [
        {
          "output_type": "execute_result",
          "data": {
            "text/plain": [
              "(66490, 9)"
            ]
          },
          "metadata": {},
          "execution_count": 8
        }
      ]
    },
    {
      "cell_type": "code",
      "source": [
        "target = read['Degree_of_congestion']\n",
        "df1 = read.copy()\n",
        "df1 = df1.drop('Degree_of_congestion', axis =1)\n",
        "df1.shape"
      ],
      "metadata": {
        "colab": {
          "base_uri": "https://localhost:8080/"
        },
        "id": "eEbwTlV1STSp",
        "outputId": "3267aaa9-5811-4159-c89b-dd8b9864ecad"
      },
      "execution_count": null,
      "outputs": [
        {
          "output_type": "execute_result",
          "data": {
            "text/plain": [
              "(66490, 8)"
            ]
          },
          "metadata": {},
          "execution_count": 9
        }
      ]
    },
    {
      "cell_type": "markdown",
      "source": [
        "# LabelEncoding of required Columns"
      ],
      "metadata": {
        "id": "PAoiip_oLW7_"
      }
    },
    {
      "cell_type": "code",
      "source": [
        "le = LabelEncoder()\n",
        "target = le.fit_transform(target)\n",
        "target"
      ],
      "metadata": {
        "colab": {
          "base_uri": "https://localhost:8080/"
        },
        "id": "lJ5RgQnPLQRq",
        "outputId": "feb28bea-58cd-4691-ce0b-79fc7fa6da69"
      },
      "execution_count": null,
      "outputs": [
        {
          "output_type": "execute_result",
          "data": {
            "text/plain": [
              "array([3, 2, 0, ..., 0, 3, 2])"
            ]
          },
          "metadata": {},
          "execution_count": 10
        }
      ]
    },
    {
      "cell_type": "code",
      "source": [
        "target2 = df1['arrival_time']"
      ],
      "metadata": {
        "id": "k3Y12rQYG_XB"
      },
      "execution_count": null,
      "outputs": []
    },
    {
      "cell_type": "code",
      "source": [
        "le = LabelEncoder()\n",
        "arrival_time = le.fit_transform(target2)\n",
        "arrival_time"
      ],
      "metadata": {
        "colab": {
          "base_uri": "https://localhost:8080/"
        },
        "id": "-sY-gce8SY9p",
        "outputId": "10bce681-9b08-4e4e-c197-3168d70f0fe2"
      },
      "execution_count": null,
      "outputs": [
        {
          "output_type": "execute_result",
          "data": {
            "text/plain": [
              "array([ 834,  181,  900, ..., 4968, 5098, 5124])"
            ]
          },
          "metadata": {},
          "execution_count": 12
        }
      ]
    },
    {
      "cell_type": "code",
      "source": [
        "df1['arrival_time_new'] = arrival_time"
      ],
      "metadata": {
        "id": "anzY_k9lSaw9"
      },
      "execution_count": null,
      "outputs": []
    },
    {
      "cell_type": "code",
      "source": [
        "target3 = df1['trip_id']"
      ],
      "metadata": {
        "id": "YPzF_W-JK82X"
      },
      "execution_count": null,
      "outputs": []
    },
    {
      "cell_type": "code",
      "source": [
        "le = LabelEncoder()\n",
        "trip_id = le.fit_transform(target3)\n",
        "trip_id"
      ],
      "metadata": {
        "colab": {
          "base_uri": "https://localhost:8080/"
        },
        "id": "ueZ2wz70K2cw",
        "outputId": "fb8ac744-d35b-47e3-8df2-99d521aec2eb"
      },
      "execution_count": null,
      "outputs": [
        {
          "output_type": "execute_result",
          "data": {
            "text/plain": [
              "array([3726,  355,   23, ..., 5328, 5338, 5338])"
            ]
          },
          "metadata": {},
          "execution_count": 15
        }
      ]
    },
    {
      "cell_type": "code",
      "source": [
        "df1['trip_id_new'] = trip_id"
      ],
      "metadata": {
        "id": "LZ3jPsvnK2-Y"
      },
      "execution_count": null,
      "outputs": []
    },
    {
      "cell_type": "code",
      "source": [
        "target4 = df1['speed']"
      ],
      "metadata": {
        "id": "VbSxMG_FrXU1"
      },
      "execution_count": null,
      "outputs": []
    },
    {
      "cell_type": "code",
      "source": [
        "le = LabelEncoder()\n",
        "Speed = le.fit_transform(target4)"
      ],
      "metadata": {
        "id": "mspmEoHPrU9E"
      },
      "execution_count": null,
      "outputs": []
    },
    {
      "cell_type": "code",
      "source": [
        "df1['speed_new'] = Speed"
      ],
      "metadata": {
        "id": "P7ClILoPrcMa"
      },
      "execution_count": null,
      "outputs": []
    },
    {
      "cell_type": "code",
      "source": [
        "target5 = df1['stop_id_from']"
      ],
      "metadata": {
        "id": "Oz_KvtnQjh3c"
      },
      "execution_count": null,
      "outputs": []
    },
    {
      "cell_type": "code",
      "source": [
        "le = LabelEncoder()\n",
        "Stop_id_from = le.fit_transform(target5)"
      ],
      "metadata": {
        "id": "M0JFoSBMjg9W"
      },
      "execution_count": null,
      "outputs": []
    },
    {
      "cell_type": "code",
      "source": [
        "df1['stop_id_from_new'] = Stop_id_from"
      ],
      "metadata": {
        "id": "JL01dviOjn8l"
      },
      "execution_count": null,
      "outputs": []
    },
    {
      "cell_type": "code",
      "source": [
        "target6 = df1['stop_id_to']"
      ],
      "metadata": {
        "id": "q4GYNAVsjwHc"
      },
      "execution_count": null,
      "outputs": []
    },
    {
      "cell_type": "code",
      "source": [
        "le = LabelEncoder()\n",
        "Stop_id_to = le.fit_transform(target6)"
      ],
      "metadata": {
        "id": "fqYLMOlckGwK"
      },
      "execution_count": null,
      "outputs": []
    },
    {
      "cell_type": "code",
      "source": [
        "df1['stop_id_to_new'] = Stop_id_to"
      ],
      "metadata": {
        "id": "L4pKh4gzkKjZ"
      },
      "execution_count": null,
      "outputs": []
    },
    {
      "cell_type": "code",
      "source": [
        "df1"
      ],
      "metadata": {
        "colab": {
          "base_uri": "https://localhost:8080/",
          "height": 835
        },
        "id": "E20cwGp7GwvT",
        "outputId": "c19776db-c969-4ca4-a8bc-4d652ed5b0e7"
      },
      "execution_count": null,
      "outputs": [
        {
          "output_type": "execute_result",
          "data": {
            "text/plain": [
              "       stop_id_from  stop_id_to  \\\n",
              "0             36156       38709   \n",
              "1             36156       38709   \n",
              "2             36156       38709   \n",
              "3             36156       38709   \n",
              "4             36156       38709   \n",
              "...             ...         ...   \n",
              "66908          1319        1104   \n",
              "66909          1104        1106   \n",
              "66910          1106        1108   \n",
              "66911         39593       39385   \n",
              "66912         39385       39387   \n",
              "\n",
              "                                                 trip_id arrival_time  \\\n",
              "0      NORMAL_333_Pune Station To  Hinjawadi Maan Pha...     09:13:54   \n",
              "1      NORMAL_115P_Pune Station to Hinjawadi Phase 3_...     09:03:01   \n",
              "2      NORMAL_100_Ma Na Pa to Hinjawadi Maan Phase 3_...     09:15:00   \n",
              "3          NORMAL_VJR5_Ma Na Pa To Mukai Chowk_Up-0905_0     09:05:00   \n",
              "4      NORMAL_100_Ma Na Pa to Hinjawadi Maan Phase 3_...     09:00:00   \n",
              "...                                                  ...          ...   \n",
              "66908  NORMAL_VJR6_Bhosari To Hinjawadi Maan Phase 3_...     18:01:44   \n",
              "66909  NORMAL_VJR6_Bhosari To Hinjawadi Maan Phase 3_...     18:02:53   \n",
              "66910  NORMAL_VJR6_Bhosari To Hinjawadi Maan Phase 3_...     18:03:50   \n",
              "66911  NORMAL_VJR6_Hinjawadi Maan Phase 3 To Bhosari_...     18:06:00   \n",
              "66912  NORMAL_VJR6_Hinjawadi Maan Phase 3 To Bhosari_...     18:06:26   \n",
              "\n",
              "           time      speed  Number_of_trips           SRI  arrival_time_new  \\\n",
              "0      0.027222  14.479565              9.0   -0.40816322               834   \n",
              "1      0.032222  12.232736              9.0     1.2068965               181   \n",
              "2      0.058333   6.757130              9.0      5.142857               900   \n",
              "3      0.033611  11.727251              9.0      1.570248               300   \n",
              "4      0.058333   6.757130              9.0      5.142857                 0   \n",
              "...         ...        ...              ...           ...               ...   \n",
              "66908  0.015278  24.892663              1.0     2.1818185              4842   \n",
              "66909  0.013056  37.426898              1.0     2.9787233              4911   \n",
              "66910  0.036111  12.837577              1.0      7.076923              4968   \n",
              "66911  0.003611  71.066206              1.0  -20.89835036              5098   \n",
              "66912  0.022222  19.109715              1.0    1.69142817              5124   \n",
              "\n",
              "       trip_id_new  speed_new  stop_id_from_new  stop_id_to_new  \n",
              "0             3726       4309              2875            3066  \n",
              "1              355       2975              2875            3066  \n",
              "2               23        695              2875            3066  \n",
              "3             5284       2693              2875            3066  \n",
              "4               22        695              2875            3066  \n",
              "...            ...        ...               ...             ...  \n",
              "66908         5328      12869               155             116  \n",
              "66909         5328      23485               117             118  \n",
              "66910         5328       3326               119             120  \n",
              "66911         5338      32222              3837            3648  \n",
              "66912         5338       7680              3651            3650  \n",
              "\n",
              "[66490 rows x 13 columns]"
            ],
            "text/html": [
              "\n",
              "  <div id=\"df-e6611492-991e-4dba-a075-f5749500ec7c\">\n",
              "    <div class=\"colab-df-container\">\n",
              "      <div>\n",
              "<style scoped>\n",
              "    .dataframe tbody tr th:only-of-type {\n",
              "        vertical-align: middle;\n",
              "    }\n",
              "\n",
              "    .dataframe tbody tr th {\n",
              "        vertical-align: top;\n",
              "    }\n",
              "\n",
              "    .dataframe thead th {\n",
              "        text-align: right;\n",
              "    }\n",
              "</style>\n",
              "<table border=\"1\" class=\"dataframe\">\n",
              "  <thead>\n",
              "    <tr style=\"text-align: right;\">\n",
              "      <th></th>\n",
              "      <th>stop_id_from</th>\n",
              "      <th>stop_id_to</th>\n",
              "      <th>trip_id</th>\n",
              "      <th>arrival_time</th>\n",
              "      <th>time</th>\n",
              "      <th>speed</th>\n",
              "      <th>Number_of_trips</th>\n",
              "      <th>SRI</th>\n",
              "      <th>arrival_time_new</th>\n",
              "      <th>trip_id_new</th>\n",
              "      <th>speed_new</th>\n",
              "      <th>stop_id_from_new</th>\n",
              "      <th>stop_id_to_new</th>\n",
              "    </tr>\n",
              "  </thead>\n",
              "  <tbody>\n",
              "    <tr>\n",
              "      <th>0</th>\n",
              "      <td>36156</td>\n",
              "      <td>38709</td>\n",
              "      <td>NORMAL_333_Pune Station To  Hinjawadi Maan Pha...</td>\n",
              "      <td>09:13:54</td>\n",
              "      <td>0.027222</td>\n",
              "      <td>14.479565</td>\n",
              "      <td>9.0</td>\n",
              "      <td>-0.40816322</td>\n",
              "      <td>834</td>\n",
              "      <td>3726</td>\n",
              "      <td>4309</td>\n",
              "      <td>2875</td>\n",
              "      <td>3066</td>\n",
              "    </tr>\n",
              "    <tr>\n",
              "      <th>1</th>\n",
              "      <td>36156</td>\n",
              "      <td>38709</td>\n",
              "      <td>NORMAL_115P_Pune Station to Hinjawadi Phase 3_...</td>\n",
              "      <td>09:03:01</td>\n",
              "      <td>0.032222</td>\n",
              "      <td>12.232736</td>\n",
              "      <td>9.0</td>\n",
              "      <td>1.2068965</td>\n",
              "      <td>181</td>\n",
              "      <td>355</td>\n",
              "      <td>2975</td>\n",
              "      <td>2875</td>\n",
              "      <td>3066</td>\n",
              "    </tr>\n",
              "    <tr>\n",
              "      <th>2</th>\n",
              "      <td>36156</td>\n",
              "      <td>38709</td>\n",
              "      <td>NORMAL_100_Ma Na Pa to Hinjawadi Maan Phase 3_...</td>\n",
              "      <td>09:15:00</td>\n",
              "      <td>0.058333</td>\n",
              "      <td>6.757130</td>\n",
              "      <td>9.0</td>\n",
              "      <td>5.142857</td>\n",
              "      <td>900</td>\n",
              "      <td>23</td>\n",
              "      <td>695</td>\n",
              "      <td>2875</td>\n",
              "      <td>3066</td>\n",
              "    </tr>\n",
              "    <tr>\n",
              "      <th>3</th>\n",
              "      <td>36156</td>\n",
              "      <td>38709</td>\n",
              "      <td>NORMAL_VJR5_Ma Na Pa To Mukai Chowk_Up-0905_0</td>\n",
              "      <td>09:05:00</td>\n",
              "      <td>0.033611</td>\n",
              "      <td>11.727251</td>\n",
              "      <td>9.0</td>\n",
              "      <td>1.570248</td>\n",
              "      <td>300</td>\n",
              "      <td>5284</td>\n",
              "      <td>2693</td>\n",
              "      <td>2875</td>\n",
              "      <td>3066</td>\n",
              "    </tr>\n",
              "    <tr>\n",
              "      <th>4</th>\n",
              "      <td>36156</td>\n",
              "      <td>38709</td>\n",
              "      <td>NORMAL_100_Ma Na Pa to Hinjawadi Maan Phase 3_...</td>\n",
              "      <td>09:00:00</td>\n",
              "      <td>0.058333</td>\n",
              "      <td>6.757130</td>\n",
              "      <td>9.0</td>\n",
              "      <td>5.142857</td>\n",
              "      <td>0</td>\n",
              "      <td>22</td>\n",
              "      <td>695</td>\n",
              "      <td>2875</td>\n",
              "      <td>3066</td>\n",
              "    </tr>\n",
              "    <tr>\n",
              "      <th>...</th>\n",
              "      <td>...</td>\n",
              "      <td>...</td>\n",
              "      <td>...</td>\n",
              "      <td>...</td>\n",
              "      <td>...</td>\n",
              "      <td>...</td>\n",
              "      <td>...</td>\n",
              "      <td>...</td>\n",
              "      <td>...</td>\n",
              "      <td>...</td>\n",
              "      <td>...</td>\n",
              "      <td>...</td>\n",
              "      <td>...</td>\n",
              "    </tr>\n",
              "    <tr>\n",
              "      <th>66908</th>\n",
              "      <td>1319</td>\n",
              "      <td>1104</td>\n",
              "      <td>NORMAL_VJR6_Bhosari To Hinjawadi Maan Phase 3_...</td>\n",
              "      <td>18:01:44</td>\n",
              "      <td>0.015278</td>\n",
              "      <td>24.892663</td>\n",
              "      <td>1.0</td>\n",
              "      <td>2.1818185</td>\n",
              "      <td>4842</td>\n",
              "      <td>5328</td>\n",
              "      <td>12869</td>\n",
              "      <td>155</td>\n",
              "      <td>116</td>\n",
              "    </tr>\n",
              "    <tr>\n",
              "      <th>66909</th>\n",
              "      <td>1104</td>\n",
              "      <td>1106</td>\n",
              "      <td>NORMAL_VJR6_Bhosari To Hinjawadi Maan Phase 3_...</td>\n",
              "      <td>18:02:53</td>\n",
              "      <td>0.013056</td>\n",
              "      <td>37.426898</td>\n",
              "      <td>1.0</td>\n",
              "      <td>2.9787233</td>\n",
              "      <td>4911</td>\n",
              "      <td>5328</td>\n",
              "      <td>23485</td>\n",
              "      <td>117</td>\n",
              "      <td>118</td>\n",
              "    </tr>\n",
              "    <tr>\n",
              "      <th>66910</th>\n",
              "      <td>1106</td>\n",
              "      <td>1108</td>\n",
              "      <td>NORMAL_VJR6_Bhosari To Hinjawadi Maan Phase 3_...</td>\n",
              "      <td>18:03:50</td>\n",
              "      <td>0.036111</td>\n",
              "      <td>12.837577</td>\n",
              "      <td>1.0</td>\n",
              "      <td>7.076923</td>\n",
              "      <td>4968</td>\n",
              "      <td>5328</td>\n",
              "      <td>3326</td>\n",
              "      <td>119</td>\n",
              "      <td>120</td>\n",
              "    </tr>\n",
              "    <tr>\n",
              "      <th>66911</th>\n",
              "      <td>39593</td>\n",
              "      <td>39385</td>\n",
              "      <td>NORMAL_VJR6_Hinjawadi Maan Phase 3 To Bhosari_...</td>\n",
              "      <td>18:06:00</td>\n",
              "      <td>0.003611</td>\n",
              "      <td>71.066206</td>\n",
              "      <td>1.0</td>\n",
              "      <td>-20.89835036</td>\n",
              "      <td>5098</td>\n",
              "      <td>5338</td>\n",
              "      <td>32222</td>\n",
              "      <td>3837</td>\n",
              "      <td>3648</td>\n",
              "    </tr>\n",
              "    <tr>\n",
              "      <th>66912</th>\n",
              "      <td>39385</td>\n",
              "      <td>39387</td>\n",
              "      <td>NORMAL_VJR6_Hinjawadi Maan Phase 3 To Bhosari_...</td>\n",
              "      <td>18:06:26</td>\n",
              "      <td>0.022222</td>\n",
              "      <td>19.109715</td>\n",
              "      <td>1.0</td>\n",
              "      <td>1.69142817</td>\n",
              "      <td>5124</td>\n",
              "      <td>5338</td>\n",
              "      <td>7680</td>\n",
              "      <td>3651</td>\n",
              "      <td>3650</td>\n",
              "    </tr>\n",
              "  </tbody>\n",
              "</table>\n",
              "<p>66490 rows × 13 columns</p>\n",
              "</div>\n",
              "      <button class=\"colab-df-convert\" onclick=\"convertToInteractive('df-e6611492-991e-4dba-a075-f5749500ec7c')\"\n",
              "              title=\"Convert this dataframe to an interactive table.\"\n",
              "              style=\"display:none;\">\n",
              "        \n",
              "  <svg xmlns=\"http://www.w3.org/2000/svg\" height=\"24px\"viewBox=\"0 0 24 24\"\n",
              "       width=\"24px\">\n",
              "    <path d=\"M0 0h24v24H0V0z\" fill=\"none\"/>\n",
              "    <path d=\"M18.56 5.44l.94 2.06.94-2.06 2.06-.94-2.06-.94-.94-2.06-.94 2.06-2.06.94zm-11 1L8.5 8.5l.94-2.06 2.06-.94-2.06-.94L8.5 2.5l-.94 2.06-2.06.94zm10 10l.94 2.06.94-2.06 2.06-.94-2.06-.94-.94-2.06-.94 2.06-2.06.94z\"/><path d=\"M17.41 7.96l-1.37-1.37c-.4-.4-.92-.59-1.43-.59-.52 0-1.04.2-1.43.59L10.3 9.45l-7.72 7.72c-.78.78-.78 2.05 0 2.83L4 21.41c.39.39.9.59 1.41.59.51 0 1.02-.2 1.41-.59l7.78-7.78 2.81-2.81c.8-.78.8-2.07 0-2.86zM5.41 20L4 18.59l7.72-7.72 1.47 1.35L5.41 20z\"/>\n",
              "  </svg>\n",
              "      </button>\n",
              "      \n",
              "  <style>\n",
              "    .colab-df-container {\n",
              "      display:flex;\n",
              "      flex-wrap:wrap;\n",
              "      gap: 12px;\n",
              "    }\n",
              "\n",
              "    .colab-df-convert {\n",
              "      background-color: #E8F0FE;\n",
              "      border: none;\n",
              "      border-radius: 50%;\n",
              "      cursor: pointer;\n",
              "      display: none;\n",
              "      fill: #1967D2;\n",
              "      height: 32px;\n",
              "      padding: 0 0 0 0;\n",
              "      width: 32px;\n",
              "    }\n",
              "\n",
              "    .colab-df-convert:hover {\n",
              "      background-color: #E2EBFA;\n",
              "      box-shadow: 0px 1px 2px rgba(60, 64, 67, 0.3), 0px 1px 3px 1px rgba(60, 64, 67, 0.15);\n",
              "      fill: #174EA6;\n",
              "    }\n",
              "\n",
              "    [theme=dark] .colab-df-convert {\n",
              "      background-color: #3B4455;\n",
              "      fill: #D2E3FC;\n",
              "    }\n",
              "\n",
              "    [theme=dark] .colab-df-convert:hover {\n",
              "      background-color: #434B5C;\n",
              "      box-shadow: 0px 1px 3px 1px rgba(0, 0, 0, 0.15);\n",
              "      filter: drop-shadow(0px 1px 2px rgba(0, 0, 0, 0.3));\n",
              "      fill: #FFFFFF;\n",
              "    }\n",
              "  </style>\n",
              "\n",
              "      <script>\n",
              "        const buttonEl =\n",
              "          document.querySelector('#df-e6611492-991e-4dba-a075-f5749500ec7c button.colab-df-convert');\n",
              "        buttonEl.style.display =\n",
              "          google.colab.kernel.accessAllowed ? 'block' : 'none';\n",
              "\n",
              "        async function convertToInteractive(key) {\n",
              "          const element = document.querySelector('#df-e6611492-991e-4dba-a075-f5749500ec7c');\n",
              "          const dataTable =\n",
              "            await google.colab.kernel.invokeFunction('convertToInteractive',\n",
              "                                                     [key], {});\n",
              "          if (!dataTable) return;\n",
              "\n",
              "          const docLinkHtml = 'Like what you see? Visit the ' +\n",
              "            '<a target=\"_blank\" href=https://colab.research.google.com/notebooks/data_table.ipynb>data table notebook</a>'\n",
              "            + ' to learn more about interactive tables.';\n",
              "          element.innerHTML = '';\n",
              "          dataTable['output_type'] = 'display_data';\n",
              "          await google.colab.output.renderOutput(dataTable, element);\n",
              "          const docLink = document.createElement('div');\n",
              "          docLink.innerHTML = docLinkHtml;\n",
              "          element.appendChild(docLink);\n",
              "        }\n",
              "      </script>\n",
              "    </div>\n",
              "  </div>\n",
              "  "
            ]
          },
          "metadata": {},
          "execution_count": 26
        }
      ]
    },
    {
      "cell_type": "code",
      "source": [
        "X=df1"
      ],
      "metadata": {
        "id": "0b9iZNhMKH7h"
      },
      "execution_count": null,
      "outputs": []
    },
    {
      "cell_type": "markdown",
      "source": [
        "# Drop Unwanted Columns"
      ],
      "metadata": {
        "id": "yKNP6vAeLbnq"
      }
    },
    {
      "cell_type": "code",
      "source": [
        "X=X.drop('trip_id', axis=1)\n",
        "X=X.drop('arrival_time', axis=1)"
      ],
      "metadata": {
        "id": "rIRmDmEkSdWg"
      },
      "execution_count": null,
      "outputs": []
    },
    {
      "cell_type": "code",
      "source": [
        "X=X.drop('Number_of_trips', axis=1)\n",
        "X=X.drop('time', axis=1)\n",
        "X=X.drop('speed', axis=1)\n",
        "X=X.drop('stop_id_from', axis=1)\n",
        "X=X.drop('stop_id_to', axis=1)\n",
        "X=X.drop('SRI',axis=1)"
      ],
      "metadata": {
        "id": "fS-i5fxkSf02"
      },
      "execution_count": null,
      "outputs": []
    },
    {
      "cell_type": "code",
      "source": [
        "X=X.drop('trip_id_new',axis=1)"
      ],
      "metadata": {
        "id": "4sTugoEtKsE5"
      },
      "execution_count": null,
      "outputs": []
    },
    {
      "cell_type": "code",
      "source": [
        "X"
      ],
      "metadata": {
        "colab": {
          "base_uri": "https://localhost:8080/",
          "height": 424
        },
        "id": "mxmDeOvlHDdv",
        "outputId": "bf653a57-4bc5-4ab2-9be5-71296f9f4395"
      },
      "execution_count": null,
      "outputs": [
        {
          "output_type": "execute_result",
          "data": {
            "text/plain": [
              "       arrival_time_new  speed_new  stop_id_from_new  stop_id_to_new\n",
              "0                   834       4309              2875            3066\n",
              "1                   181       2975              2875            3066\n",
              "2                   900        695              2875            3066\n",
              "3                   300       2693              2875            3066\n",
              "4                     0        695              2875            3066\n",
              "...                 ...        ...               ...             ...\n",
              "66908              4842      12869               155             116\n",
              "66909              4911      23485               117             118\n",
              "66910              4968       3326               119             120\n",
              "66911              5098      32222              3837            3648\n",
              "66912              5124       7680              3651            3650\n",
              "\n",
              "[66490 rows x 4 columns]"
            ],
            "text/html": [
              "\n",
              "  <div id=\"df-00d7a0f7-766a-4fd1-a150-214318f0b916\">\n",
              "    <div class=\"colab-df-container\">\n",
              "      <div>\n",
              "<style scoped>\n",
              "    .dataframe tbody tr th:only-of-type {\n",
              "        vertical-align: middle;\n",
              "    }\n",
              "\n",
              "    .dataframe tbody tr th {\n",
              "        vertical-align: top;\n",
              "    }\n",
              "\n",
              "    .dataframe thead th {\n",
              "        text-align: right;\n",
              "    }\n",
              "</style>\n",
              "<table border=\"1\" class=\"dataframe\">\n",
              "  <thead>\n",
              "    <tr style=\"text-align: right;\">\n",
              "      <th></th>\n",
              "      <th>arrival_time_new</th>\n",
              "      <th>speed_new</th>\n",
              "      <th>stop_id_from_new</th>\n",
              "      <th>stop_id_to_new</th>\n",
              "    </tr>\n",
              "  </thead>\n",
              "  <tbody>\n",
              "    <tr>\n",
              "      <th>0</th>\n",
              "      <td>834</td>\n",
              "      <td>4309</td>\n",
              "      <td>2875</td>\n",
              "      <td>3066</td>\n",
              "    </tr>\n",
              "    <tr>\n",
              "      <th>1</th>\n",
              "      <td>181</td>\n",
              "      <td>2975</td>\n",
              "      <td>2875</td>\n",
              "      <td>3066</td>\n",
              "    </tr>\n",
              "    <tr>\n",
              "      <th>2</th>\n",
              "      <td>900</td>\n",
              "      <td>695</td>\n",
              "      <td>2875</td>\n",
              "      <td>3066</td>\n",
              "    </tr>\n",
              "    <tr>\n",
              "      <th>3</th>\n",
              "      <td>300</td>\n",
              "      <td>2693</td>\n",
              "      <td>2875</td>\n",
              "      <td>3066</td>\n",
              "    </tr>\n",
              "    <tr>\n",
              "      <th>4</th>\n",
              "      <td>0</td>\n",
              "      <td>695</td>\n",
              "      <td>2875</td>\n",
              "      <td>3066</td>\n",
              "    </tr>\n",
              "    <tr>\n",
              "      <th>...</th>\n",
              "      <td>...</td>\n",
              "      <td>...</td>\n",
              "      <td>...</td>\n",
              "      <td>...</td>\n",
              "    </tr>\n",
              "    <tr>\n",
              "      <th>66908</th>\n",
              "      <td>4842</td>\n",
              "      <td>12869</td>\n",
              "      <td>155</td>\n",
              "      <td>116</td>\n",
              "    </tr>\n",
              "    <tr>\n",
              "      <th>66909</th>\n",
              "      <td>4911</td>\n",
              "      <td>23485</td>\n",
              "      <td>117</td>\n",
              "      <td>118</td>\n",
              "    </tr>\n",
              "    <tr>\n",
              "      <th>66910</th>\n",
              "      <td>4968</td>\n",
              "      <td>3326</td>\n",
              "      <td>119</td>\n",
              "      <td>120</td>\n",
              "    </tr>\n",
              "    <tr>\n",
              "      <th>66911</th>\n",
              "      <td>5098</td>\n",
              "      <td>32222</td>\n",
              "      <td>3837</td>\n",
              "      <td>3648</td>\n",
              "    </tr>\n",
              "    <tr>\n",
              "      <th>66912</th>\n",
              "      <td>5124</td>\n",
              "      <td>7680</td>\n",
              "      <td>3651</td>\n",
              "      <td>3650</td>\n",
              "    </tr>\n",
              "  </tbody>\n",
              "</table>\n",
              "<p>66490 rows × 4 columns</p>\n",
              "</div>\n",
              "      <button class=\"colab-df-convert\" onclick=\"convertToInteractive('df-00d7a0f7-766a-4fd1-a150-214318f0b916')\"\n",
              "              title=\"Convert this dataframe to an interactive table.\"\n",
              "              style=\"display:none;\">\n",
              "        \n",
              "  <svg xmlns=\"http://www.w3.org/2000/svg\" height=\"24px\"viewBox=\"0 0 24 24\"\n",
              "       width=\"24px\">\n",
              "    <path d=\"M0 0h24v24H0V0z\" fill=\"none\"/>\n",
              "    <path d=\"M18.56 5.44l.94 2.06.94-2.06 2.06-.94-2.06-.94-.94-2.06-.94 2.06-2.06.94zm-11 1L8.5 8.5l.94-2.06 2.06-.94-2.06-.94L8.5 2.5l-.94 2.06-2.06.94zm10 10l.94 2.06.94-2.06 2.06-.94-2.06-.94-.94-2.06-.94 2.06-2.06.94z\"/><path d=\"M17.41 7.96l-1.37-1.37c-.4-.4-.92-.59-1.43-.59-.52 0-1.04.2-1.43.59L10.3 9.45l-7.72 7.72c-.78.78-.78 2.05 0 2.83L4 21.41c.39.39.9.59 1.41.59.51 0 1.02-.2 1.41-.59l7.78-7.78 2.81-2.81c.8-.78.8-2.07 0-2.86zM5.41 20L4 18.59l7.72-7.72 1.47 1.35L5.41 20z\"/>\n",
              "  </svg>\n",
              "      </button>\n",
              "      \n",
              "  <style>\n",
              "    .colab-df-container {\n",
              "      display:flex;\n",
              "      flex-wrap:wrap;\n",
              "      gap: 12px;\n",
              "    }\n",
              "\n",
              "    .colab-df-convert {\n",
              "      background-color: #E8F0FE;\n",
              "      border: none;\n",
              "      border-radius: 50%;\n",
              "      cursor: pointer;\n",
              "      display: none;\n",
              "      fill: #1967D2;\n",
              "      height: 32px;\n",
              "      padding: 0 0 0 0;\n",
              "      width: 32px;\n",
              "    }\n",
              "\n",
              "    .colab-df-convert:hover {\n",
              "      background-color: #E2EBFA;\n",
              "      box-shadow: 0px 1px 2px rgba(60, 64, 67, 0.3), 0px 1px 3px 1px rgba(60, 64, 67, 0.15);\n",
              "      fill: #174EA6;\n",
              "    }\n",
              "\n",
              "    [theme=dark] .colab-df-convert {\n",
              "      background-color: #3B4455;\n",
              "      fill: #D2E3FC;\n",
              "    }\n",
              "\n",
              "    [theme=dark] .colab-df-convert:hover {\n",
              "      background-color: #434B5C;\n",
              "      box-shadow: 0px 1px 3px 1px rgba(0, 0, 0, 0.15);\n",
              "      filter: drop-shadow(0px 1px 2px rgba(0, 0, 0, 0.3));\n",
              "      fill: #FFFFFF;\n",
              "    }\n",
              "  </style>\n",
              "\n",
              "      <script>\n",
              "        const buttonEl =\n",
              "          document.querySelector('#df-00d7a0f7-766a-4fd1-a150-214318f0b916 button.colab-df-convert');\n",
              "        buttonEl.style.display =\n",
              "          google.colab.kernel.accessAllowed ? 'block' : 'none';\n",
              "\n",
              "        async function convertToInteractive(key) {\n",
              "          const element = document.querySelector('#df-00d7a0f7-766a-4fd1-a150-214318f0b916');\n",
              "          const dataTable =\n",
              "            await google.colab.kernel.invokeFunction('convertToInteractive',\n",
              "                                                     [key], {});\n",
              "          if (!dataTable) return;\n",
              "\n",
              "          const docLinkHtml = 'Like what you see? Visit the ' +\n",
              "            '<a target=\"_blank\" href=https://colab.research.google.com/notebooks/data_table.ipynb>data table notebook</a>'\n",
              "            + ' to learn more about interactive tables.';\n",
              "          element.innerHTML = '';\n",
              "          dataTable['output_type'] = 'display_data';\n",
              "          await google.colab.output.renderOutput(dataTable, element);\n",
              "          const docLink = document.createElement('div');\n",
              "          docLink.innerHTML = docLinkHtml;\n",
              "          element.appendChild(docLink);\n",
              "        }\n",
              "      </script>\n",
              "    </div>\n",
              "  </div>\n",
              "  "
            ]
          },
          "metadata": {},
          "execution_count": 31
        }
      ]
    },
    {
      "cell_type": "code",
      "source": [
        "y=target"
      ],
      "metadata": {
        "id": "Q0RcbR1zTBKj"
      },
      "execution_count": null,
      "outputs": []
    },
    {
      "cell_type": "code",
      "source": [
        "y"
      ],
      "metadata": {
        "colab": {
          "base_uri": "https://localhost:8080/"
        },
        "id": "mF4ngZpVmFOb",
        "outputId": "167ffc9c-8d27-43ba-f111-0c88afd35500"
      },
      "execution_count": null,
      "outputs": [
        {
          "output_type": "execute_result",
          "data": {
            "text/plain": [
              "array([3, 2, 0, ..., 0, 3, 2])"
            ]
          },
          "metadata": {},
          "execution_count": 33
        }
      ]
    },
    {
      "cell_type": "markdown",
      "source": [
        "# Train Test Split"
      ],
      "metadata": {
        "id": "Zt78Ya6ILlvJ"
      }
    },
    {
      "cell_type": "code",
      "source": [
        "X_train, X_test, y_train, y_test = train_test_split(X , y, test_size = 0.2, random_state = 42)\n",
        "\n",
        "print(\"Training split input- \", X_train.shape)\n",
        "print(\"Testing split input- \", X_test.shape)"
      ],
      "metadata": {
        "colab": {
          "base_uri": "https://localhost:8080/"
        },
        "id": "oF3tWvZASmYZ",
        "outputId": "fe51db1c-e9cd-469c-95db-776fac212e21"
      },
      "execution_count": null,
      "outputs": [
        {
          "output_type": "stream",
          "name": "stdout",
          "text": [
            "Training split input-  (53192, 4)\n",
            "Testing split input-  (13298, 4)\n"
          ]
        }
      ]
    },
    {
      "cell_type": "markdown",
      "source": [
        "# Model Building"
      ],
      "metadata": {
        "id": "Gyg5HxwpLoz6"
      }
    },
    {
      "cell_type": "code",
      "source": [
        "from numpy import array\n",
        "from keras.preprocessing.text import one_hot\n",
        "from keras.preprocessing.sequence import pad_sequences\n",
        "from keras.models import Sequential\n",
        "from keras.layers.core import Activation, Dropout, Dense\n",
        "from keras.layers import Flatten, LSTM, GRU\n",
        "from keras.layers import GlobalMaxPooling1D\n",
        "from keras.models import Model\n",
        "from keras.layers.embeddings import Embedding\n",
        "from sklearn.model_selection import train_test_split\n",
        "from keras.preprocessing.text import Tokenizer\n",
        "from keras.layers import Input\n",
        "from keras.layers.merge import Concatenate\n",
        "from keras.layers import Bidirectional\n",
        "\n",
        "import pandas as pd\n",
        "import numpy as np\n",
        "import re\n",
        "\n",
        "import matplotlib.pyplot as plt"
      ],
      "metadata": {
        "id": "NuMpO_ibF0QR"
      },
      "execution_count": null,
      "outputs": []
    },
    {
      "cell_type": "code",
      "source": [
        "X = np.column_stack((X['stop_id_from_new'],X['stop_id_to_new'],X['arrival_time_new'],X['speed_new'])) "
      ],
      "metadata": {
        "id": "lki0a4J-GTWd"
      },
      "execution_count": null,
      "outputs": []
    },
    {
      "cell_type": "code",
      "source": [
        "print(X)"
      ],
      "metadata": {
        "colab": {
          "base_uri": "https://localhost:8080/"
        },
        "id": "qBhEfTHvHX0v",
        "outputId": "2672d210-2e21-4247-b922-9e47870413d3"
      },
      "execution_count": null,
      "outputs": [
        {
          "output_type": "stream",
          "name": "stdout",
          "text": [
            "[[ 2875  3066   834  4309]\n",
            " [ 2875  3066   181  2975]\n",
            " [ 2875  3066   900   695]\n",
            " ...\n",
            " [  119   120  4968  3326]\n",
            " [ 3837  3648  5098 32222]\n",
            " [ 3651  3650  5124  7680]]\n"
          ]
        }
      ]
    },
    {
      "cell_type": "code",
      "source": [
        "X = array(X).reshape(66490, 1, 4)"
      ],
      "metadata": {
        "id": "XK4FxQECHg3X"
      },
      "execution_count": null,
      "outputs": []
    },
    {
      "cell_type": "markdown",
      "source": [
        "# One To One - Simple (**22.25**)\n",
        "\n",
        "\n"
      ],
      "metadata": {
        "id": "5Z05wafsLyOi"
      }
    },
    {
      "cell_type": "code",
      "source": [
        "model = Sequential()\n",
        "model.add(LSTM(80, activation='relu', input_shape=(1, 4),return_sequences=True))\n",
        "model.add(LSTM(80))\n",
        "model.add(Dense(10, activation='relu'))\n",
        "model.add(Dense(1))\n",
        "model.compile(optimizer='adam', loss='mse',metrics=[\"accuracy\"])\n",
        "print(model.summary())"
      ],
      "metadata": {
        "colab": {
          "base_uri": "https://localhost:8080/"
        },
        "id": "ZkqFp_2f3gOp",
        "outputId": "f83a63e0-124b-405a-89e1-da71893060ed"
      },
      "execution_count": null,
      "outputs": [
        {
          "output_type": "stream",
          "name": "stdout",
          "text": [
            "Model: \"sequential\"\n",
            "_________________________________________________________________\n",
            " Layer (type)                Output Shape              Param #   \n",
            "=================================================================\n",
            " lstm (LSTM)                 (None, 1, 80)             27200     \n",
            "                                                                 \n",
            " lstm_1 (LSTM)               (None, 80)                51520     \n",
            "                                                                 \n",
            " dense (Dense)               (None, 10)                810       \n",
            "                                                                 \n",
            " dense_1 (Dense)             (None, 1)                 11        \n",
            "                                                                 \n",
            "=================================================================\n",
            "Total params: 79,541\n",
            "Trainable params: 79,541\n",
            "Non-trainable params: 0\n",
            "_________________________________________________________________\n",
            "None\n"
          ]
        }
      ]
    },
    {
      "cell_type": "code",
      "source": [
        "model.fit(X, y, epochs=25, validation_split=0.2, batch_size=5)"
      ],
      "metadata": {
        "colab": {
          "base_uri": "https://localhost:8080/"
        },
        "id": "2Hy9WEEF3XnT",
        "outputId": "101f2e47-5aac-433a-815d-0576bf05d537"
      },
      "execution_count": null,
      "outputs": [
        {
          "output_type": "stream",
          "name": "stdout",
          "text": [
            "Epoch 1/25\n",
            "10639/10639 [==============================] - 69s 6ms/step - loss: 0.7377 - accuracy: 0.2150 - val_loss: 0.7112 - val_accuracy: 0.2612\n",
            "Epoch 2/25\n",
            "10639/10639 [==============================] - 65s 6ms/step - loss: 0.7291 - accuracy: 0.2145 - val_loss: 0.7368 - val_accuracy: 0.2648\n",
            "Epoch 3/25\n",
            "10639/10639 [==============================] - 66s 6ms/step - loss: 0.7512 - accuracy: 0.2101 - val_loss: 0.8253 - val_accuracy: 0.2476\n",
            "Epoch 4/25\n",
            "10639/10639 [==============================] - 65s 6ms/step - loss: 0.7188 - accuracy: 0.2076 - val_loss: 0.7076 - val_accuracy: 0.2476\n",
            "Epoch 5/25\n",
            "10639/10639 [==============================] - 65s 6ms/step - loss: 0.7133 - accuracy: 0.2076 - val_loss: 0.7722 - val_accuracy: 0.2476\n",
            "Epoch 6/25\n",
            "10639/10639 [==============================] - 63s 6ms/step - loss: 0.7344 - accuracy: 0.2076 - val_loss: 0.7558 - val_accuracy: 0.2476\n",
            "Epoch 7/25\n",
            "10639/10639 [==============================] - 66s 6ms/step - loss: 0.7097 - accuracy: 0.2076 - val_loss: 0.7648 - val_accuracy: 0.2476\n",
            "Epoch 8/25\n",
            "10639/10639 [==============================] - 65s 6ms/step - loss: 0.6955 - accuracy: 0.2075 - val_loss: 0.7266 - val_accuracy: 0.2476\n",
            "Epoch 9/25\n",
            "10639/10639 [==============================] - 68s 6ms/step - loss: 0.6907 - accuracy: 0.2088 - val_loss: 0.7936 - val_accuracy: 0.2476\n",
            "Epoch 10/25\n",
            "10639/10639 [==============================] - 66s 6ms/step - loss: 0.7011 - accuracy: 0.2078 - val_loss: 0.7505 - val_accuracy: 0.2476\n",
            "Epoch 11/25\n",
            "10639/10639 [==============================] - 62s 6ms/step - loss: 0.6878 - accuracy: 0.2083 - val_loss: 0.6864 - val_accuracy: 0.2476\n",
            "Epoch 12/25\n",
            "10639/10639 [==============================] - 65s 6ms/step - loss: 0.6882 - accuracy: 0.2087 - val_loss: 0.7206 - val_accuracy: 0.2476\n",
            "Epoch 13/25\n",
            "10639/10639 [==============================] - 66s 6ms/step - loss: 0.6885 - accuracy: 0.2092 - val_loss: 0.7236 - val_accuracy: 0.2476\n",
            "Epoch 14/25\n",
            "10639/10639 [==============================] - 62s 6ms/step - loss: 0.6932 - accuracy: 0.2079 - val_loss: 0.7318 - val_accuracy: 0.2476\n",
            "Epoch 15/25\n",
            "10639/10639 [==============================] - 64s 6ms/step - loss: 0.6921 - accuracy: 0.2076 - val_loss: 0.7553 - val_accuracy: 0.2476\n",
            "Epoch 16/25\n",
            "10639/10639 [==============================] - 70s 7ms/step - loss: 0.6934 - accuracy: 0.2084 - val_loss: 0.7729 - val_accuracy: 0.2476\n",
            "Epoch 17/25\n",
            "10639/10639 [==============================] - 61s 6ms/step - loss: 0.6954 - accuracy: 0.2092 - val_loss: 0.7295 - val_accuracy: 0.2476\n",
            "Epoch 18/25\n",
            "10639/10639 [==============================] - 61s 6ms/step - loss: 0.6923 - accuracy: 0.2076 - val_loss: 0.7660 - val_accuracy: 0.2476\n",
            "Epoch 19/25\n",
            "10639/10639 [==============================] - 63s 6ms/step - loss: 0.7086 - accuracy: 0.2076 - val_loss: 0.7781 - val_accuracy: 0.2476\n",
            "Epoch 20/25\n",
            "10639/10639 [==============================] - 66s 6ms/step - loss: 0.6994 - accuracy: 0.2076 - val_loss: 0.7048 - val_accuracy: 0.2476\n",
            "Epoch 21/25\n",
            "10639/10639 [==============================] - 66s 6ms/step - loss: 0.6983 - accuracy: 0.2078 - val_loss: 0.7337 - val_accuracy: 0.2476\n",
            "Epoch 22/25\n",
            "10639/10639 [==============================] - 64s 6ms/step - loss: 0.7018 - accuracy: 0.2084 - val_loss: 0.7490 - val_accuracy: 0.2476\n",
            "Epoch 23/25\n",
            "10639/10639 [==============================] - 63s 6ms/step - loss: 0.7349 - accuracy: 0.2080 - val_loss: 0.7183 - val_accuracy: 0.2476\n",
            "Epoch 24/25\n",
            "10639/10639 [==============================] - 63s 6ms/step - loss: 0.7180 - accuracy: 0.2082 - val_loss: 1.0137 - val_accuracy: 0.2476\n",
            "Epoch 25/25\n",
            "10639/10639 [==============================] - 68s 6ms/step - loss: 0.7677 - accuracy: 0.2076 - val_loss: 0.7728 - val_accuracy: 0.2476\n"
          ]
        },
        {
          "output_type": "execute_result",
          "data": {
            "text/plain": [
              "<keras.callbacks.History at 0x7fe22d457f10>"
            ]
          },
          "metadata": {},
          "execution_count": 40
        }
      ]
    },
    {
      "cell_type": "code",
      "source": [
        "X_test.shape"
      ],
      "metadata": {
        "colab": {
          "base_uri": "https://localhost:8080/"
        },
        "id": "Orp31B0gGCmb",
        "outputId": "2058fb4b-28b1-4a7c-8b9f-c66eb884048a"
      },
      "execution_count": null,
      "outputs": [
        {
          "output_type": "execute_result",
          "data": {
            "text/plain": [
              "(13298, 4)"
            ]
          },
          "metadata": {},
          "execution_count": 41
        }
      ]
    },
    {
      "cell_type": "code",
      "source": [
        "X_test = array(X_test).reshape(13298, 1, 4)"
      ],
      "metadata": {
        "id": "BWa4cEoPF1jL"
      },
      "execution_count": null,
      "outputs": []
    },
    {
      "cell_type": "code",
      "source": [
        "# predict probabilities for test set\n",
        "yhat_probs = model.predict(X_test, verbose=0)\n",
        "# predict crisp classes for test set\n",
        "\n",
        "predict_x=model.predict(X_test) \n",
        "yhat_classes=np.argmax(predict_x,axis=1)"
      ],
      "metadata": {
        "id": "AOkkHqElFjGK"
      },
      "execution_count": null,
      "outputs": []
    },
    {
      "cell_type": "code",
      "source": [
        "from sklearn.metrics import accuracy_score\n",
        "from sklearn.metrics import precision_score\n",
        "from sklearn.metrics import recall_score\n",
        "from sklearn.metrics import f1_score\n",
        "\n",
        "accuracy = accuracy_score(y_test, yhat_classes)\n",
        "print('Accuracy: %f' % accuracy)\n",
        "precision = precision_score(y_test, yhat_classes,pos_label='positive',average='weighted')\n",
        "print('Precision: %f' % precision)\n",
        "recall = recall_score(y_test, yhat_classes,pos_label='positive',average='weighted')\n",
        "print('Recall: %f' % recall)\n",
        "f1 = f1_score(y_test, yhat_classes,pos_label='positive',average='weighted')\n",
        "print('F1 score: %f' % f1)"
      ],
      "metadata": {
        "colab": {
          "base_uri": "https://localhost:8080/"
        },
        "id": "1kD1GLQXGx-z",
        "outputId": "cdb2e864-c9eb-4722-f73e-916b739c4d83"
      },
      "execution_count": null,
      "outputs": [
        {
          "output_type": "stream",
          "name": "stdout",
          "text": [
            "Accuracy: 0.122650\n",
            "Precision: 0.015043\n",
            "Recall: 0.122650\n",
            "F1 score: 0.026799\n"
          ]
        },
        {
          "output_type": "stream",
          "name": "stderr",
          "text": [
            "/usr/local/lib/python3.7/dist-packages/sklearn/metrics/_classification.py:1375: UserWarning: Note that pos_label (set to 'positive') is ignored when average != 'binary' (got 'weighted'). You may use labels=[pos_label] to specify a single positive class.\n",
            "  UserWarning,\n",
            "/usr/local/lib/python3.7/dist-packages/sklearn/metrics/_classification.py:1318: UndefinedMetricWarning: Precision is ill-defined and being set to 0.0 in labels with no predicted samples. Use `zero_division` parameter to control this behavior.\n",
            "  _warn_prf(average, modifier, msg_start, len(result))\n",
            "/usr/local/lib/python3.7/dist-packages/sklearn/metrics/_classification.py:1375: UserWarning: Note that pos_label (set to 'positive') is ignored when average != 'binary' (got 'weighted'). You may use labels=[pos_label] to specify a single positive class.\n",
            "  UserWarning,\n",
            "/usr/local/lib/python3.7/dist-packages/sklearn/metrics/_classification.py:1375: UserWarning: Note that pos_label (set to 'positive') is ignored when average != 'binary' (got 'weighted'). You may use labels=[pos_label] to specify a single positive class.\n",
            "  UserWarning,\n"
          ]
        }
      ]
    },
    {
      "cell_type": "code",
      "source": [
        "from sklearn.metrics import confusion_matrix\n",
        "\n",
        "# confusion matrix\n",
        "conf_matrix = confusion_matrix(y_test, yhat_classes)\n",
        "\n",
        "fig, ax = plt.subplots(figsize=(5, 5))\n",
        "ax.matshow(conf_matrix, cmap=plt.cm.Oranges, alpha=0.3)\n",
        "for i in range(conf_matrix.shape[0]):\n",
        "    for j in range(conf_matrix.shape[1]):\n",
        "        ax.text(x=j, y=i,s=conf_matrix[i, j], va='center', ha='center', size='xx-large')\n",
        " \n",
        "plt.xlabel('Predictions', fontsize=18)\n",
        "plt.ylabel('Actuals', fontsize=18)\n",
        "plt.title('Confusion Matrix', fontsize=18)\n",
        "plt.show()"
      ],
      "metadata": {
        "colab": {
          "base_uri": "https://localhost:8080/",
          "height": 358
        },
        "id": "-SGJ-TGKIHQt",
        "outputId": "5bd5d226-9baa-48e6-8874-2fe67cffe75d"
      },
      "execution_count": null,
      "outputs": [
        {
          "output_type": "display_data",
          "data": {
            "text/plain": [
              "<Figure size 360x360 with 1 Axes>"
            ],
            "image/png": "[encoded data removed]"
          },
          "metadata": {
            "needs_background": "light"
          }
        }
      ]
    },
    {
      "cell_type": "markdown",
      "source": [
        "# One To One - Simple(categorical crossentropy) (**20.91%**)"
      ],
      "metadata": {
        "id": "TL8WKYTu03Ai"
      }
    },
    {
      "cell_type": "code",
      "source": [
        "mode = Sequential()\n",
        "mode.add(LSTM(80, activation='relu', input_shape=(1, 4)))\n",
        "mode.add(Dense(10, activation='relu'))\n",
        "mode.add(Dense(1))\n",
        "mode.compile(optimizer='adam', loss='categorical_crossentropy',metrics=[\"accuracy\"])\n",
        "print(mode.summary())"
      ],
      "metadata": {
        "colab": {
          "base_uri": "https://localhost:8080/"
        },
        "id": "7rdxLFmF03xx",
        "outputId": "6fb4c7ab-ff39-4d38-f898-a6858655198c"
      },
      "execution_count": null,
      "outputs": [
        {
          "output_type": "stream",
          "name": "stdout",
          "text": [
            "Model: \"sequential_1\"\n",
            "_________________________________________________________________\n",
            " Layer (type)                Output Shape              Param #   \n",
            "=================================================================\n",
            " lstm_2 (LSTM)               (None, 80)                27200     \n",
            "                                                                 \n",
            " dense_2 (Dense)             (None, 10)                810       \n",
            "                                                                 \n",
            " dense_3 (Dense)             (None, 1)                 11        \n",
            "                                                                 \n",
            "=================================================================\n",
            "Total params: 28,021\n",
            "Trainable params: 28,021\n",
            "Non-trainable params: 0\n",
            "_________________________________________________________________\n",
            "None\n"
          ]
        }
      ]
    },
    {
      "cell_type": "code",
      "source": [
        "try2 = mode.fit(X, y, epochs=25, validation_split=0.2, batch_size=5)"
      ],
      "metadata": {
        "colab": {
          "base_uri": "https://localhost:8080/"
        },
        "id": "dGcy1ka209Nl",
        "outputId": "48e442d7-2be7-4338-fa9d-bfa7a77cc71d"
      },
      "execution_count": null,
      "outputs": [
        {
          "output_type": "stream",
          "name": "stdout",
          "text": [
            "Epoch 1/25\n",
            "10639/10639 [==============================] - 42s 4ms/step - loss: 2.2753e-07 - accuracy: 0.1728 - val_loss: 2.0965e-07 - val_accuracy: 0.1872\n",
            "Epoch 2/25\n",
            "10639/10639 [==============================] - 44s 4ms/step - loss: 2.2753e-07 - accuracy: 0.1728 - val_loss: 2.0965e-07 - val_accuracy: 0.1872\n",
            "Epoch 3/25\n",
            "10639/10639 [==============================] - 37s 4ms/step - loss: 2.2753e-07 - accuracy: 0.1728 - val_loss: 2.0965e-07 - val_accuracy: 0.1872\n",
            "Epoch 4/25\n",
            "10639/10639 [==============================] - 43s 4ms/step - loss: 2.2753e-07 - accuracy: 0.1728 - val_loss: 2.0965e-07 - val_accuracy: 0.1872\n",
            "Epoch 5/25\n",
            "10639/10639 [==============================] - 41s 4ms/step - loss: 2.2753e-07 - accuracy: 0.1728 - val_loss: 2.0965e-07 - val_accuracy: 0.1872\n",
            "Epoch 6/25\n",
            "10639/10639 [==============================] - 42s 4ms/step - loss: 2.2753e-07 - accuracy: 0.1728 - val_loss: 2.0965e-07 - val_accuracy: 0.1872\n",
            "Epoch 7/25\n",
            "10639/10639 [==============================] - 45s 4ms/step - loss: 2.2753e-07 - accuracy: 0.1728 - val_loss: 2.0965e-07 - val_accuracy: 0.1872\n",
            "Epoch 8/25\n",
            "10639/10639 [==============================] - 41s 4ms/step - loss: 2.2753e-07 - accuracy: 0.1728 - val_loss: 2.0965e-07 - val_accuracy: 0.1872\n",
            "Epoch 9/25\n",
            "10639/10639 [==============================] - 43s 4ms/step - loss: 2.2753e-07 - accuracy: 0.1728 - val_loss: 2.0965e-07 - val_accuracy: 0.1872\n",
            "Epoch 10/25\n",
            "10639/10639 [==============================] - 46s 4ms/step - loss: 2.2753e-07 - accuracy: 0.1728 - val_loss: 2.0965e-07 - val_accuracy: 0.1872\n",
            "Epoch 11/25\n",
            "10639/10639 [==============================] - 45s 4ms/step - loss: 2.2753e-07 - accuracy: 0.1728 - val_loss: 2.0965e-07 - val_accuracy: 0.1872\n",
            "Epoch 12/25\n",
            "10639/10639 [==============================] - 43s 4ms/step - loss: 2.2753e-07 - accuracy: 0.1728 - val_loss: 2.0965e-07 - val_accuracy: 0.1872\n",
            "Epoch 13/25\n",
            "10639/10639 [==============================] - 41s 4ms/step - loss: 2.2753e-07 - accuracy: 0.1728 - val_loss: 2.0965e-07 - val_accuracy: 0.1872\n",
            "Epoch 14/25\n",
            "10639/10639 [==============================] - 42s 4ms/step - loss: 2.2753e-07 - accuracy: 0.1728 - val_loss: 2.0965e-07 - val_accuracy: 0.1872\n",
            "Epoch 15/25\n",
            "10639/10639 [==============================] - 41s 4ms/step - loss: 2.2753e-07 - accuracy: 0.1728 - val_loss: 2.0965e-07 - val_accuracy: 0.1872\n",
            "Epoch 16/25\n",
            "10639/10639 [==============================] - 45s 4ms/step - loss: 2.2753e-07 - accuracy: 0.1728 - val_loss: 2.0965e-07 - val_accuracy: 0.1872\n",
            "Epoch 17/25\n",
            "10639/10639 [==============================] - 41s 4ms/step - loss: 2.2753e-07 - accuracy: 0.1728 - val_loss: 2.0965e-07 - val_accuracy: 0.1872\n",
            "Epoch 18/25\n",
            "10639/10639 [==============================] - 42s 4ms/step - loss: 2.2753e-07 - accuracy: 0.1728 - val_loss: 2.0965e-07 - val_accuracy: 0.1872\n",
            "Epoch 19/25\n",
            "10639/10639 [==============================] - 43s 4ms/step - loss: 2.2753e-07 - accuracy: 0.1728 - val_loss: 2.0965e-07 - val_accuracy: 0.1872\n",
            "Epoch 20/25\n",
            "10639/10639 [==============================] - 40s 4ms/step - loss: 2.2753e-07 - accuracy: 0.1728 - val_loss: 2.0965e-07 - val_accuracy: 0.1872\n",
            "Epoch 21/25\n",
            "10639/10639 [==============================] - 44s 4ms/step - loss: 2.2753e-07 - accuracy: 0.1728 - val_loss: 2.0965e-07 - val_accuracy: 0.1872\n",
            "Epoch 22/25\n",
            "10639/10639 [==============================] - 44s 4ms/step - loss: 2.2753e-07 - accuracy: 0.1728 - val_loss: 2.0965e-07 - val_accuracy: 0.1872\n",
            "Epoch 23/25\n",
            "10639/10639 [==============================] - 44s 4ms/step - loss: 2.2753e-07 - accuracy: 0.1728 - val_loss: 2.0965e-07 - val_accuracy: 0.1872\n",
            "Epoch 24/25\n",
            "10639/10639 [==============================] - 40s 4ms/step - loss: 2.2753e-07 - accuracy: 0.1728 - val_loss: 2.0965e-07 - val_accuracy: 0.1872\n",
            "Epoch 25/25\n",
            "10639/10639 [==============================] - 41s 4ms/step - loss: 2.2753e-07 - accuracy: 0.1728 - val_loss: 2.0965e-07 - val_accuracy: 0.1872\n"
          ]
        }
      ]
    },
    {
      "cell_type": "markdown",
      "source": [
        "# One To One - Stacked (**22.23%**)"
      ],
      "metadata": {
        "id": "GFpMBJTFoKck"
      }
    },
    {
      "cell_type": "code",
      "source": [
        "mod = Sequential()\n",
        "mod.add(LSTM(200, activation='relu', return_sequences=True, input_shape=(1, 4)))\n",
        "mod.add(LSTM(100, activation='relu', return_sequences=True))\n",
        "mod.add(LSTM(50, activation='relu', return_sequences=True))\n",
        "mod.add(LSTM(25, activation='relu'))\n",
        "mod.add(Dense(20, activation='relu'))\n",
        "mod.add(Dense(10, activation='relu'))\n",
        "mod.add(Dense(1))\n",
        "mod.compile(optimizer='adam', loss='mse',metrics=[\"accuracy\"])\n",
        "print(mod.summary())"
      ],
      "metadata": {
        "id": "7RmgNGmmoJmw",
        "colab": {
          "base_uri": "https://localhost:8080/"
        },
        "outputId": "51536584-3fc3-45d9-b7a9-137b83a86348"
      },
      "execution_count": null,
      "outputs": [
        {
          "output_type": "stream",
          "name": "stdout",
          "text": [
            "Model: \"sequential_2\"\n",
            "_________________________________________________________________\n",
            " Layer (type)                Output Shape              Param #   \n",
            "=================================================================\n",
            " lstm_3 (LSTM)               (None, 1, 200)            164000    \n",
            "                                                                 \n",
            " lstm_4 (LSTM)               (None, 1, 100)            120400    \n",
            "                                                                 \n",
            " lstm_5 (LSTM)               (None, 1, 50)             30200     \n",
            "                                                                 \n",
            " lstm_6 (LSTM)               (None, 25)                7600      \n",
            "                                                                 \n",
            " dense_4 (Dense)             (None, 20)                520       \n",
            "                                                                 \n",
            " dense_5 (Dense)             (None, 10)                210       \n",
            "                                                                 \n",
            " dense_6 (Dense)             (None, 1)                 11        \n",
            "                                                                 \n",
            "=================================================================\n",
            "Total params: 322,941\n",
            "Trainable params: 322,941\n",
            "Non-trainable params: 0\n",
            "_________________________________________________________________\n",
            "None\n"
          ]
        }
      ]
    },
    {
      "cell_type": "code",
      "source": [
        "try3 = mod.fit(X, y, epochs=25, validation_split=0.1, verbose=1, batch_size=3)"
      ],
      "metadata": {
        "id": "QFph6OWxoQHK",
        "colab": {
          "base_uri": "https://localhost:8080/"
        },
        "outputId": "3351307f-0f0b-44dd-de15-55019a1e6bca"
      },
      "execution_count": null,
      "outputs": [
        {
          "output_type": "stream",
          "name": "stdout",
          "text": [
            "Epoch 1/25\n",
            "19947/19947 [==============================] - 192s 9ms/step - loss: 0.7488 - accuracy: 0.2151 - val_loss: 0.7249 - val_accuracy: 0.2615\n",
            "Epoch 2/25\n",
            "19947/19947 [==============================] - 174s 9ms/step - loss: 0.6663 - accuracy: 0.2138 - val_loss: 0.7983 - val_accuracy: 0.2357\n",
            "Epoch 3/25\n",
            "19947/19947 [==============================] - 178s 9ms/step - loss: 0.9514 - accuracy: 0.2134 - val_loss: 1.0332 - val_accuracy: 0.2357\n",
            "Epoch 4/25\n",
            "19947/19947 [==============================] - 185s 9ms/step - loss: 1.0137 - accuracy: 0.2133 - val_loss: 1.0384 - val_accuracy: 0.2357\n",
            "Epoch 5/25\n",
            "19947/19947 [==============================] - 188s 9ms/step - loss: 1.0141 - accuracy: 0.2133 - val_loss: 1.0328 - val_accuracy: 0.2357\n",
            "Epoch 6/25\n",
            "19947/19947 [==============================] - 186s 9ms/step - loss: 1.0139 - accuracy: 0.2133 - val_loss: 1.0329 - val_accuracy: 0.2357\n",
            "Epoch 7/25\n",
            "19947/19947 [==============================] - 185s 9ms/step - loss: 1.0141 - accuracy: 0.2133 - val_loss: 1.0331 - val_accuracy: 0.2357\n",
            "Epoch 8/25\n",
            "19947/19947 [==============================] - 192s 10ms/step - loss: 1.0140 - accuracy: 0.2133 - val_loss: 1.0331 - val_accuracy: 0.2357\n",
            "Epoch 9/25\n",
            "19947/19947 [==============================] - 186s 9ms/step - loss: 1.0140 - accuracy: 0.2133 - val_loss: 1.0332 - val_accuracy: 0.2357\n",
            "Epoch 10/25\n",
            "19947/19947 [==============================] - 189s 9ms/step - loss: 1.0141 - accuracy: 0.2133 - val_loss: 1.0336 - val_accuracy: 0.2357\n",
            "Epoch 11/25\n",
            "19947/19947 [==============================] - 191s 10ms/step - loss: 1.0140 - accuracy: 0.2133 - val_loss: 1.0328 - val_accuracy: 0.2357\n",
            "Epoch 12/25\n",
            "19947/19947 [==============================] - 189s 9ms/step - loss: 1.0139 - accuracy: 0.2133 - val_loss: 1.0356 - val_accuracy: 0.2357\n",
            "Epoch 13/25\n",
            "19947/19947 [==============================] - 187s 9ms/step - loss: 1.0140 - accuracy: 0.2133 - val_loss: 1.0357 - val_accuracy: 0.2357\n",
            "Epoch 14/25\n",
            "19947/19947 [==============================] - 186s 9ms/step - loss: 1.0141 - accuracy: 0.2133 - val_loss: 1.0337 - val_accuracy: 0.2357\n",
            "Epoch 15/25\n",
            "19947/19947 [==============================] - 183s 9ms/step - loss: 1.0141 - accuracy: 0.2133 - val_loss: 1.0329 - val_accuracy: 0.2357\n",
            "Epoch 16/25\n",
            "19947/19947 [==============================] - 187s 9ms/step - loss: 1.0140 - accuracy: 0.2133 - val_loss: 1.0330 - val_accuracy: 0.2357\n",
            "Epoch 17/25\n",
            "19947/19947 [==============================] - 192s 10ms/step - loss: 1.0140 - accuracy: 0.2133 - val_loss: 1.0337 - val_accuracy: 0.2357\n",
            "Epoch 18/25\n",
            "19947/19947 [==============================] - 195s 10ms/step - loss: 1.0140 - accuracy: 0.2133 - val_loss: 1.0329 - val_accuracy: 0.2357\n",
            "Epoch 19/25\n",
            "19947/19947 [==============================] - 192s 10ms/step - loss: 1.0141 - accuracy: 0.2133 - val_loss: 1.0331 - val_accuracy: 0.2357\n",
            "Epoch 20/25\n",
            "19947/19947 [==============================] - 189s 9ms/step - loss: 1.0141 - accuracy: 0.2133 - val_loss: 1.0328 - val_accuracy: 0.2357\n",
            "Epoch 21/25\n",
            "19947/19947 [==============================] - 181s 9ms/step - loss: 1.0140 - accuracy: 0.2133 - val_loss: 1.0328 - val_accuracy: 0.2357\n",
            "Epoch 22/25\n",
            "19947/19947 [==============================] - 192s 10ms/step - loss: 1.0141 - accuracy: 0.2133 - val_loss: 1.0336 - val_accuracy: 0.2357\n",
            "Epoch 23/25\n",
            "19947/19947 [==============================] - 187s 9ms/step - loss: 1.0141 - accuracy: 0.2133 - val_loss: 1.0337 - val_accuracy: 0.2357\n",
            "Epoch 24/25\n",
            "19947/19947 [==============================] - 185s 9ms/step - loss: 1.0138 - accuracy: 0.2133 - val_loss: 1.0345 - val_accuracy: 0.2357\n",
            "Epoch 25/25\n",
            "19947/19947 [==============================] - 189s 9ms/step - loss: 1.0140 - accuracy: 0.2133 - val_loss: 1.0328 - val_accuracy: 0.2357\n"
          ]
        }
      ]
    },
    {
      "cell_type": "markdown",
      "source": [
        "# One To One GRU(categorical crossentropy) (**21.34%**)"
      ],
      "metadata": {
        "id": "SvKoYYMbUkh2"
      }
    },
    {
      "cell_type": "code",
      "source": [
        "model2 = Sequential()\n",
        "model2.add(GRU(80, activation='relu', input_shape=(1, 4)))\n",
        "model2.add(Dense(10, activation='relu'))\n",
        "model2.add(Dense(1))\n",
        "model2.compile(optimizer='adam', loss='categorical_crossentropy',metrics=[\"accuracy\"])\n",
        "print(model2.summary())"
      ],
      "metadata": {
        "colab": {
          "base_uri": "https://localhost:8080/"
        },
        "id": "_YN2zgCyUiVb",
        "outputId": "8f9fd8a1-861c-4fd1-ff81-e0c78720983c"
      },
      "execution_count": null,
      "outputs": [
        {
          "output_type": "stream",
          "name": "stdout",
          "text": [
            "Model: \"sequential_3\"\n",
            "_________________________________________________________________\n",
            " Layer (type)                Output Shape              Param #   \n",
            "=================================================================\n",
            " gru (GRU)                   (None, 80)                20640     \n",
            "                                                                 \n",
            " dense_7 (Dense)             (None, 10)                810       \n",
            "                                                                 \n",
            " dense_8 (Dense)             (None, 1)                 11        \n",
            "                                                                 \n",
            "=================================================================\n",
            "Total params: 21,461\n",
            "Trainable params: 21,461\n",
            "Non-trainable params: 0\n",
            "_________________________________________________________________\n",
            "None\n"
          ]
        }
      ]
    },
    {
      "cell_type": "code",
      "source": [
        "try4 = model2.fit(X, y, epochs=25, validation_split=0.1, verbose=1, batch_size=3)"
      ],
      "metadata": {
        "id": "_8LZhH5pUjTr",
        "colab": {
          "base_uri": "https://localhost:8080/"
        },
        "outputId": "0c7363ec-6167-4704-9e71-af11684cfdaf"
      },
      "execution_count": null,
      "outputs": [
        {
          "output_type": "stream",
          "name": "stdout",
          "text": [
            "Epoch 1/25\n",
            "19947/19947 [==============================] - 67s 3ms/step - loss: 2.2419e-07 - accuracy: 0.1721 - val_loss: 2.2182e-07 - val_accuracy: 0.2172\n",
            "Epoch 2/25\n",
            "19947/19947 [==============================] - 68s 3ms/step - loss: 2.2419e-07 - accuracy: 0.1721 - val_loss: 2.2182e-07 - val_accuracy: 0.2172\n",
            "Epoch 3/25\n",
            "19947/19947 [==============================] - 70s 4ms/step - loss: 2.2419e-07 - accuracy: 0.1721 - val_loss: 2.2182e-07 - val_accuracy: 0.2172\n",
            "Epoch 4/25\n",
            "19947/19947 [==============================] - 66s 3ms/step - loss: 2.2419e-07 - accuracy: 0.1721 - val_loss: 2.2182e-07 - val_accuracy: 0.2172\n",
            "Epoch 5/25\n",
            "19947/19947 [==============================] - 66s 3ms/step - loss: 2.2419e-07 - accuracy: 0.1721 - val_loss: 2.2182e-07 - val_accuracy: 0.2172\n",
            "Epoch 6/25\n",
            "19947/19947 [==============================] - 66s 3ms/step - loss: 2.2419e-07 - accuracy: 0.1721 - val_loss: 2.2182e-07 - val_accuracy: 0.2172\n",
            "Epoch 7/25\n",
            "19947/19947 [==============================] - 72s 4ms/step - loss: 2.2419e-07 - accuracy: 0.1721 - val_loss: 2.2182e-07 - val_accuracy: 0.2172\n",
            "Epoch 8/25\n",
            "19947/19947 [==============================] - 72s 4ms/step - loss: 2.2419e-07 - accuracy: 0.1721 - val_loss: 2.2182e-07 - val_accuracy: 0.2172\n",
            "Epoch 9/25\n",
            "19947/19947 [==============================] - 70s 4ms/step - loss: 2.2419e-07 - accuracy: 0.1721 - val_loss: 2.2182e-07 - val_accuracy: 0.2172\n",
            "Epoch 10/25\n",
            "19947/19947 [==============================] - 64s 3ms/step - loss: 2.2419e-07 - accuracy: 0.1721 - val_loss: 2.2182e-07 - val_accuracy: 0.2172\n",
            "Epoch 11/25\n",
            "19947/19947 [==============================] - 70s 4ms/step - loss: 2.2419e-07 - accuracy: 0.1721 - val_loss: 2.2182e-07 - val_accuracy: 0.2172\n",
            "Epoch 12/25\n",
            "19947/19947 [==============================] - 69s 3ms/step - loss: 2.2419e-07 - accuracy: 0.1721 - val_loss: 2.2182e-07 - val_accuracy: 0.2172\n",
            "Epoch 13/25\n",
            "19947/19947 [==============================] - 67s 3ms/step - loss: 2.2419e-07 - accuracy: 0.1721 - val_loss: 2.2182e-07 - val_accuracy: 0.2172\n",
            "Epoch 14/25\n",
            "19947/19947 [==============================] - 68s 3ms/step - loss: 2.2419e-07 - accuracy: 0.1721 - val_loss: 2.2182e-07 - val_accuracy: 0.2172\n",
            "Epoch 15/25\n",
            "19947/19947 [==============================] - 67s 3ms/step - loss: 2.2419e-07 - accuracy: 0.1721 - val_loss: 2.2182e-07 - val_accuracy: 0.2172\n",
            "Epoch 16/25\n",
            "19947/19947 [==============================] - 65s 3ms/step - loss: 2.2419e-07 - accuracy: 0.1721 - val_loss: 2.2182e-07 - val_accuracy: 0.2172\n",
            "Epoch 17/25\n",
            "19947/19947 [==============================] - 67s 3ms/step - loss: 2.2419e-07 - accuracy: 0.1721 - val_loss: 2.2182e-07 - val_accuracy: 0.2172\n",
            "Epoch 18/25\n",
            "19947/19947 [==============================] - 64s 3ms/step - loss: 2.2419e-07 - accuracy: 0.1721 - val_loss: 2.2182e-07 - val_accuracy: 0.2172\n",
            "Epoch 19/25\n",
            "19947/19947 [==============================] - 72s 4ms/step - loss: 2.2419e-07 - accuracy: 0.1721 - val_loss: 2.2182e-07 - val_accuracy: 0.2172\n",
            "Epoch 20/25\n",
            "19947/19947 [==============================] - 66s 3ms/step - loss: 2.2419e-07 - accuracy: 0.1721 - val_loss: 2.2182e-07 - val_accuracy: 0.2172\n",
            "Epoch 21/25\n",
            "19947/19947 [==============================] - 73s 4ms/step - loss: 2.2419e-07 - accuracy: 0.1721 - val_loss: 2.2182e-07 - val_accuracy: 0.2172\n",
            "Epoch 22/25\n",
            "19947/19947 [==============================] - 67s 3ms/step - loss: 2.2419e-07 - accuracy: 0.1721 - val_loss: 2.2182e-07 - val_accuracy: 0.2172\n",
            "Epoch 23/25\n",
            "19947/19947 [==============================] - 66s 3ms/step - loss: 2.2419e-07 - accuracy: 0.1721 - val_loss: 2.2182e-07 - val_accuracy: 0.2172\n",
            "Epoch 24/25\n",
            "19947/19947 [==============================] - 65s 3ms/step - loss: 2.2419e-07 - accuracy: 0.1721 - val_loss: 2.2182e-07 - val_accuracy: 0.2172\n",
            "Epoch 25/25\n",
            "19947/19947 [==============================] - 71s 4ms/step - loss: 2.2419e-07 - accuracy: 0.1721 - val_loss: 2.2182e-07 - val_accuracy: 0.2172\n"
          ]
        }
      ]
    },
    {
      "cell_type": "markdown",
      "source": [
        "# One To One GRU (**21.33%**)"
      ],
      "metadata": {
        "id": "4nzW3gAGL7sv"
      }
    },
    {
      "cell_type": "code",
      "source": [
        "model4 = Sequential()\n",
        "model4.add(GRU(80, activation='relu', input_shape=(1, 4)))\n",
        "model4.add(Dense(10, activation='relu'))\n",
        "model4.add(Dense(1))\n",
        "model4.compile(optimizer='adam', loss='mse',metrics=[\"accuracy\"])\n",
        "print(model4.summary())"
      ],
      "metadata": {
        "colab": {
          "base_uri": "https://localhost:8080/"
        },
        "id": "-Y5JXD_flFxR",
        "outputId": "c426a709-e14e-496d-96c3-9ce0ebfe8d1b"
      },
      "execution_count": null,
      "outputs": [
        {
          "output_type": "stream",
          "name": "stdout",
          "text": [
            "Model: \"sequential_4\"\n",
            "_________________________________________________________________\n",
            " Layer (type)                Output Shape              Param #   \n",
            "=================================================================\n",
            " gru_1 (GRU)                 (None, 80)                20640     \n",
            "                                                                 \n",
            " dense_9 (Dense)             (None, 10)                810       \n",
            "                                                                 \n",
            " dense_10 (Dense)            (None, 1)                 11        \n",
            "                                                                 \n",
            "=================================================================\n",
            "Total params: 21,461\n",
            "Trainable params: 21,461\n",
            "Non-trainable params: 0\n",
            "_________________________________________________________________\n",
            "None\n"
          ]
        }
      ]
    },
    {
      "cell_type": "code",
      "source": [
        "try5 = model4.fit(X, y, epochs=25, validation_split=0.1, verbose=1, batch_size=3)"
      ],
      "metadata": {
        "colab": {
          "base_uri": "https://localhost:8080/"
        },
        "id": "QQwnH9Bs1kp9",
        "outputId": "41feedb2-caf5-4615-dfc4-096e77bea279"
      },
      "execution_count": null,
      "outputs": [
        {
          "output_type": "stream",
          "name": "stdout",
          "text": [
            "Epoch 1/25\n",
            "19947/19947 [==============================] - 67s 3ms/step - loss: 350.0727 - accuracy: 0.2046 - val_loss: 1.0328 - val_accuracy: 0.2357\n",
            "Epoch 2/25\n",
            "19947/19947 [==============================] - 65s 3ms/step - loss: 1.0292 - accuracy: 0.2133 - val_loss: 1.0333 - val_accuracy: 0.2357\n",
            "Epoch 3/25\n",
            "19947/19947 [==============================] - 62s 3ms/step - loss: 1.0140 - accuracy: 0.2133 - val_loss: 1.0331 - val_accuracy: 0.2357\n",
            "Epoch 4/25\n",
            "19947/19947 [==============================] - 66s 3ms/step - loss: 1.0140 - accuracy: 0.2133 - val_loss: 1.0331 - val_accuracy: 0.2357\n",
            "Epoch 5/25\n",
            "19947/19947 [==============================] - 64s 3ms/step - loss: 1.0141 - accuracy: 0.2133 - val_loss: 1.0328 - val_accuracy: 0.2357\n",
            "Epoch 6/25\n",
            "19947/19947 [==============================] - 62s 3ms/step - loss: 1.0141 - accuracy: 0.2133 - val_loss: 1.0328 - val_accuracy: 0.2357\n",
            "Epoch 7/25\n",
            "19947/19947 [==============================] - 69s 3ms/step - loss: 1.0140 - accuracy: 0.2133 - val_loss: 1.0330 - val_accuracy: 0.2357\n",
            "Epoch 8/25\n",
            "19947/19947 [==============================] - 64s 3ms/step - loss: 1.0140 - accuracy: 0.2133 - val_loss: 1.0361 - val_accuracy: 0.2357\n",
            "Epoch 9/25\n",
            "19947/19947 [==============================] - 68s 3ms/step - loss: 1.0140 - accuracy: 0.2133 - val_loss: 1.0338 - val_accuracy: 0.2357\n",
            "Epoch 10/25\n",
            "19947/19947 [==============================] - 68s 3ms/step - loss: 1.0141 - accuracy: 0.2133 - val_loss: 1.0345 - val_accuracy: 0.2357\n",
            "Epoch 11/25\n",
            "19947/19947 [==============================] - 65s 3ms/step - loss: 1.0140 - accuracy: 0.2133 - val_loss: 1.0329 - val_accuracy: 0.2357\n",
            "Epoch 12/25\n",
            "19947/19947 [==============================] - 62s 3ms/step - loss: 1.0142 - accuracy: 0.2133 - val_loss: 1.0336 - val_accuracy: 0.2357\n",
            "Epoch 13/25\n",
            "19947/19947 [==============================] - 65s 3ms/step - loss: 1.0140 - accuracy: 0.2133 - val_loss: 1.0332 - val_accuracy: 0.2357\n",
            "Epoch 14/25\n",
            "19947/19947 [==============================] - 63s 3ms/step - loss: 1.0140 - accuracy: 0.2133 - val_loss: 1.0328 - val_accuracy: 0.2357\n",
            "Epoch 15/25\n",
            "19947/19947 [==============================] - 64s 3ms/step - loss: 1.0140 - accuracy: 0.2133 - val_loss: 1.0336 - val_accuracy: 0.2357\n",
            "Epoch 16/25\n",
            "19947/19947 [==============================] - 66s 3ms/step - loss: 1.0139 - accuracy: 0.2133 - val_loss: 1.0336 - val_accuracy: 0.2357\n",
            "Epoch 17/25\n",
            "19947/19947 [==============================] - 64s 3ms/step - loss: 1.0140 - accuracy: 0.2133 - val_loss: 1.0333 - val_accuracy: 0.2357\n",
            "Epoch 18/25\n",
            "19947/19947 [==============================] - 67s 3ms/step - loss: 1.0140 - accuracy: 0.2133 - val_loss: 1.0333 - val_accuracy: 0.2357\n",
            "Epoch 19/25\n",
            "19947/19947 [==============================] - 63s 3ms/step - loss: 1.0141 - accuracy: 0.2133 - val_loss: 1.0329 - val_accuracy: 0.2357\n",
            "Epoch 20/25\n",
            "19947/19947 [==============================] - 71s 4ms/step - loss: 1.0140 - accuracy: 0.2133 - val_loss: 1.0336 - val_accuracy: 0.2357\n",
            "Epoch 21/25\n",
            "19947/19947 [==============================] - 63s 3ms/step - loss: 1.0141 - accuracy: 0.2133 - val_loss: 1.0328 - val_accuracy: 0.2357\n",
            "Epoch 22/25\n",
            "19947/19947 [==============================] - 70s 4ms/step - loss: 1.0140 - accuracy: 0.2133 - val_loss: 1.0341 - val_accuracy: 0.2357\n",
            "Epoch 23/25\n",
            "19947/19947 [==============================] - 61s 3ms/step - loss: 1.0140 - accuracy: 0.2133 - val_loss: 1.0349 - val_accuracy: 0.2357\n",
            "Epoch 24/25\n",
            "19947/19947 [==============================] - 60s 3ms/step - loss: 1.0141 - accuracy: 0.2133 - val_loss: 1.0345 - val_accuracy: 0.2357\n",
            "Epoch 25/25\n",
            "19947/19947 [==============================] - 61s 3ms/step - loss: 1.0140 - accuracy: 0.2133 - val_loss: 1.0328 - val_accuracy: 0.2357\n"
          ]
        }
      ]
    },
    {
      "cell_type": "code",
      "source": [
        "X_test = array(X_test).reshape(13298, 1, 4)"
      ],
      "metadata": {
        "id": "UsiT3RYbhcdk"
      },
      "execution_count": null,
      "outputs": []
    },
    {
      "cell_type": "code",
      "source": [
        "# predict probabilities for test set\n",
        "yhat_prob = model4.predict(X_test, verbose=0)\n",
        "# predict crisp classes for test set\n",
        "\n",
        "predict_x=model4.predict(X_test) \n",
        "yhat_classe=np.argmax(predict_x,axis=1)"
      ],
      "metadata": {
        "id": "AMKHBNOlUGaF"
      },
      "execution_count": null,
      "outputs": []
    },
    {
      "cell_type": "code",
      "source": [
        "from sklearn.metrics import accuracy_score\n",
        "from sklearn.metrics import precision_score\n",
        "from sklearn.metrics import recall_score\n",
        "from sklearn.metrics import f1_score\n",
        "\n",
        "accuracy = accuracy_score(y_test, yhat_classe)\n",
        "print('Accuracy: %f' % accuracy)\n",
        "precision = precision_score(y_test, yhat_classe,pos_label='positive',average='weighted')\n",
        "print('Precision: %f' % precision)\n",
        "recall = recall_score(y_test, yhat_classe,pos_label='positive',average='weighted')\n",
        "print('Recall: %f' % recall)\n",
        "f1 = f1_score(y_test, yhat_classe,pos_label='positive',average='weighted')\n",
        "print('F1 score: %f' % f1)"
      ],
      "metadata": {
        "colab": {
          "base_uri": "https://localhost:8080/"
        },
        "id": "qnrOcvPNUHEo",
        "outputId": "0055d376-6bde-481d-eca4-8db0c3eb1b68"
      },
      "execution_count": null,
      "outputs": [
        {
          "output_type": "stream",
          "name": "stdout",
          "text": [
            "Accuracy: 0.122650\n",
            "Precision: 0.015043\n",
            "Recall: 0.122650\n",
            "F1 score: 0.026799\n"
          ]
        },
        {
          "output_type": "stream",
          "name": "stderr",
          "text": [
            "/usr/local/lib/python3.7/dist-packages/sklearn/metrics/_classification.py:1375: UserWarning: Note that pos_label (set to 'positive') is ignored when average != 'binary' (got 'weighted'). You may use labels=[pos_label] to specify a single positive class.\n",
            "  UserWarning,\n",
            "/usr/local/lib/python3.7/dist-packages/sklearn/metrics/_classification.py:1318: UndefinedMetricWarning: Precision is ill-defined and being set to 0.0 in labels with no predicted samples. Use `zero_division` parameter to control this behavior.\n",
            "  _warn_prf(average, modifier, msg_start, len(result))\n",
            "/usr/local/lib/python3.7/dist-packages/sklearn/metrics/_classification.py:1375: UserWarning: Note that pos_label (set to 'positive') is ignored when average != 'binary' (got 'weighted'). You may use labels=[pos_label] to specify a single positive class.\n",
            "  UserWarning,\n",
            "/usr/local/lib/python3.7/dist-packages/sklearn/metrics/_classification.py:1375: UserWarning: Note that pos_label (set to 'positive') is ignored when average != 'binary' (got 'weighted'). You may use labels=[pos_label] to specify a single positive class.\n",
            "  UserWarning,\n"
          ]
        }
      ]
    },
    {
      "cell_type": "code",
      "source": [
        "from sklearn.metrics import confusion_matrix\n",
        "\n",
        "# confusion matrix\n",
        "conf_matrix = confusion_matrix(y_test, yhat_classe)\n",
        "\n",
        "fig, ax = plt.subplots(figsize=(5, 5))\n",
        "ax.matshow(conf_matrix, cmap=plt.cm.Oranges, alpha=0.3)\n",
        "for i in range(conf_matrix.shape[0]): \n",
        "    for j in range(conf_matrix.shape[1]):\n",
        "        ax.text(x=j, y=i,s=conf_matrix[i, j], va='center', ha='center', size='xx-large')\n",
        " \n",
        "plt.xlabel('Predictions', fontsize=18)\n",
        "plt.ylabel('Actuals', fontsize=18)\n",
        "plt.title('Confusion Matrix', fontsize=18)\n",
        "plt.show()"
      ],
      "metadata": {
        "colab": {
          "base_uri": "https://localhost:8080/",
          "height": 358
        },
        "id": "SqAQ2YVoUNmC",
        "outputId": "e546790e-af95-4a67-d1b0-44cdd7550c0b"
      },
      "execution_count": null,
      "outputs": [
        {
          "output_type": "display_data",
          "data": {
            "text/plain": [
              "<Figure size 360x360 with 1 Axes>"
            ],
            "image/png": "[encoded data removed]"
          },
          "metadata": {
            "needs_background": "light"
          }
        }
      ]
    }
  ]
}