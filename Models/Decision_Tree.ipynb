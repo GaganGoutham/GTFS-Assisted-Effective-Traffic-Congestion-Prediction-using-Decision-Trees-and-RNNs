{
  "nbformat": 4,
  "nbformat_minor": 0,
  "metadata": {
    "colab": {
      "name": "Decision_Tree.ipynb",
      "provenance": [],
      "collapsed_sections": []
    },
    "kernelspec": {
      "name": "python3",
      "display_name": "Python 3"
    },
    "language_info": {
      "name": "python"
    }
  },
  "cells": [
    {
      "cell_type": "code",
      "execution_count": null,
      "metadata": {
        "id": "r1z21nuwR8xx"
      },
      "outputs": [],
      "source": [
        "import numpy as np\n",
        "import pandas as pd\n",
        "\n",
        "from sklearn.preprocessing import LabelEncoder\n",
        "from sklearn.model_selection import train_test_split\n",
        "from sklearn.tree import DecisionTreeClassifier\n",
        "from sklearn.metrics import accuracy_score"
      ]
    },
    {
      "cell_type": "code",
      "source": [
        "read=pd.read_csv('FINAL_DATASET.csv')"
      ],
      "metadata": {
        "id": "8XPkvqhLSE-g"
      },
      "execution_count": null,
      "outputs": []
    },
    {
      "cell_type": "code",
      "source": [
        "read.shape"
      ],
      "metadata": {
        "colab": {
          "base_uri": "https://localhost:8080/"
        },
        "id": "wX4fDCAQSGvZ",
        "outputId": "891a9d6e-2c76-45a5-9f60-a4329d5ef27d"
      },
      "execution_count": null,
      "outputs": [
        {
          "output_type": "execute_result",
          "data": {
            "text/plain": [
              "(66913, 9)"
            ]
          },
          "metadata": {},
          "execution_count": 43
        }
      ]
    },
    {
      "cell_type": "code",
      "source": [
        "read['SRI'].replace('', np.nan, inplace=True)"
      ],
      "metadata": {
        "id": "ABvfIJTtSI2g"
      },
      "execution_count": null,
      "outputs": []
    },
    {
      "cell_type": "code",
      "source": [
        "read.dropna(subset=['SRI'], inplace=True)"
      ],
      "metadata": {
        "id": "VsWtYFOQSLM_"
      },
      "execution_count": null,
      "outputs": []
    },
    {
      "cell_type": "code",
      "source": [
        "read.shape"
      ],
      "metadata": {
        "colab": {
          "base_uri": "https://localhost:8080/"
        },
        "id": "IzjWJpTFSNEN",
        "outputId": "6c6ba577-d68b-402d-fa5a-9ef313389b88"
      },
      "execution_count": null,
      "outputs": [
        {
          "output_type": "execute_result",
          "data": {
            "text/plain": [
              "(66600, 9)"
            ]
          },
          "metadata": {},
          "execution_count": 46
        }
      ]
    },
    {
      "cell_type": "code",
      "source": [
        "read.drop(read.index[read['SRI'] == '#NAME?'], inplace = True)"
      ],
      "metadata": {
        "id": "L_3Bm9RaSPVq"
      },
      "execution_count": null,
      "outputs": []
    },
    {
      "cell_type": "code",
      "source": [
        "read.shape"
      ],
      "metadata": {
        "colab": {
          "base_uri": "https://localhost:8080/"
        },
        "id": "6JBZc8zkSRPK",
        "outputId": "a95f7540-e3e4-4d7d-90c1-b0066183e6fc"
      },
      "execution_count": null,
      "outputs": [
        {
          "output_type": "execute_result",
          "data": {
            "text/plain": [
              "(66490, 9)"
            ]
          },
          "metadata": {},
          "execution_count": 48
        }
      ]
    },
    {
      "cell_type": "code",
      "source": [
        "target = read['Degree_of_congestion']\n",
        "df1 = read.copy()\n",
        "df1 = df1.drop('Degree_of_congestion', axis =1)\n",
        "df1.shape"
      ],
      "metadata": {
        "colab": {
          "base_uri": "https://localhost:8080/"
        },
        "id": "eEbwTlV1STSp",
        "outputId": "40fd57fe-9ed6-4c86-e0c4-3108a1aa88a9"
      },
      "execution_count": null,
      "outputs": [
        {
          "output_type": "execute_result",
          "data": {
            "text/plain": [
              "(66490, 8)"
            ]
          },
          "metadata": {},
          "execution_count": 49
        }
      ]
    },
    {
      "cell_type": "code",
      "source": [
        "le = LabelEncoder()\n",
        "target = le.fit_transform(target)\n",
        "target"
      ],
      "metadata": {
        "colab": {
          "base_uri": "https://localhost:8080/"
        },
        "id": "lJ5RgQnPLQRq",
        "outputId": "b6d17c78-1f27-4e25-a5ba-924454162d7e"
      },
      "execution_count": null,
      "outputs": [
        {
          "output_type": "execute_result",
          "data": {
            "text/plain": [
              "array([3, 2, 0, ..., 0, 3, 2])"
            ]
          },
          "metadata": {},
          "execution_count": 50
        }
      ]
    },
    {
      "cell_type": "code",
      "source": [
        "target2 = df1['arrival_time']"
      ],
      "metadata": {
        "id": "k3Y12rQYG_XB"
      },
      "execution_count": null,
      "outputs": []
    },
    {
      "cell_type": "code",
      "source": [
        "le = LabelEncoder()\n",
        "arrival_time = le.fit_transform(target2)\n",
        "arrival_time"
      ],
      "metadata": {
        "colab": {
          "base_uri": "https://localhost:8080/"
        },
        "id": "-sY-gce8SY9p",
        "outputId": "2abede8c-314b-4cda-b626-857f320d1cdd"
      },
      "execution_count": null,
      "outputs": [
        {
          "output_type": "execute_result",
          "data": {
            "text/plain": [
              "array([ 834,  181,  900, ..., 4968, 5098, 5124])"
            ]
          },
          "metadata": {},
          "execution_count": 52
        }
      ]
    },
    {
      "cell_type": "code",
      "source": [
        "df1['arrival_time_new'] = arrival_time"
      ],
      "metadata": {
        "id": "anzY_k9lSaw9"
      },
      "execution_count": null,
      "outputs": []
    },
    {
      "cell_type": "code",
      "source": [
        "target3 = df1['trip_id']"
      ],
      "metadata": {
        "id": "YPzF_W-JK82X"
      },
      "execution_count": null,
      "outputs": []
    },
    {
      "cell_type": "code",
      "source": [
        "le = LabelEncoder()\n",
        "trip_id = le.fit_transform(target3)\n",
        "trip_id"
      ],
      "metadata": {
        "colab": {
          "base_uri": "https://localhost:8080/"
        },
        "id": "ueZ2wz70K2cw",
        "outputId": "3678d360-774b-4ebb-e3fd-25f18d3218b9"
      },
      "execution_count": null,
      "outputs": [
        {
          "output_type": "execute_result",
          "data": {
            "text/plain": [
              "array([3726,  355,   23, ..., 5328, 5338, 5338])"
            ]
          },
          "metadata": {},
          "execution_count": 55
        }
      ]
    },
    {
      "cell_type": "code",
      "source": [
        "df1['trip_id_new'] = trip_id"
      ],
      "metadata": {
        "id": "LZ3jPsvnK2-Y"
      },
      "execution_count": null,
      "outputs": []
    },
    {
      "cell_type": "code",
      "source": [
        "target4 = df1['speed']"
      ],
      "metadata": {
        "id": "yzP75V5IyYKI"
      },
      "execution_count": null,
      "outputs": []
    },
    {
      "cell_type": "code",
      "source": [
        "le = LabelEncoder()\n",
        "Speed = le.fit_transform(target4)"
      ],
      "metadata": {
        "id": "E4AX-0MmyY4r"
      },
      "execution_count": null,
      "outputs": []
    },
    {
      "cell_type": "code",
      "source": [
        "df1['speed_new'] = Speed"
      ],
      "metadata": {
        "id": "azGr6Px7ycau"
      },
      "execution_count": null,
      "outputs": []
    },
    {
      "cell_type": "code",
      "source": [
        "df1"
      ],
      "metadata": {
        "colab": {
          "base_uri": "https://localhost:8080/",
          "height": 835
        },
        "id": "E20cwGp7GwvT",
        "outputId": "d8731e45-1f3d-4ce4-b2cf-6a32248ee206"
      },
      "execution_count": null,
      "outputs": [
        {
          "output_type": "execute_result",
          "data": {
            "text/plain": [
              "       stop_id_from  stop_id_to  \\\n",
              "0             36156       38709   \n",
              "1             36156       38709   \n",
              "2             36156       38709   \n",
              "3             36156       38709   \n",
              "4             36156       38709   \n",
              "...             ...         ...   \n",
              "66908          1319        1104   \n",
              "66909          1104        1106   \n",
              "66910          1106        1108   \n",
              "66911         39593       39385   \n",
              "66912         39385       39387   \n",
              "\n",
              "                                                 trip_id arrival_time  \\\n",
              "0      NORMAL_333_Pune Station To  Hinjawadi Maan Pha...     09:13:54   \n",
              "1      NORMAL_115P_Pune Station to Hinjawadi Phase 3_...     09:03:01   \n",
              "2      NORMAL_100_Ma Na Pa to Hinjawadi Maan Phase 3_...     09:15:00   \n",
              "3          NORMAL_VJR5_Ma Na Pa To Mukai Chowk_Up-0905_0     09:05:00   \n",
              "4      NORMAL_100_Ma Na Pa to Hinjawadi Maan Phase 3_...     09:00:00   \n",
              "...                                                  ...          ...   \n",
              "66908  NORMAL_VJR6_Bhosari To Hinjawadi Maan Phase 3_...     18:01:44   \n",
              "66909  NORMAL_VJR6_Bhosari To Hinjawadi Maan Phase 3_...     18:02:53   \n",
              "66910  NORMAL_VJR6_Bhosari To Hinjawadi Maan Phase 3_...     18:03:50   \n",
              "66911  NORMAL_VJR6_Hinjawadi Maan Phase 3 To Bhosari_...     18:06:00   \n",
              "66912  NORMAL_VJR6_Hinjawadi Maan Phase 3 To Bhosari_...     18:06:26   \n",
              "\n",
              "           time      speed  Number_of_trips           SRI  arrival_time_new  \\\n",
              "0      0.027222  14.479565              9.0   -0.40816322               834   \n",
              "1      0.032222  12.232736              9.0     1.2068965               181   \n",
              "2      0.058333   6.757130              9.0      5.142857               900   \n",
              "3      0.033611  11.727251              9.0      1.570248               300   \n",
              "4      0.058333   6.757130              9.0      5.142857                 0   \n",
              "...         ...        ...              ...           ...               ...   \n",
              "66908  0.015278  24.892663              1.0     2.1818185              4842   \n",
              "66909  0.013056  37.426898              1.0     2.9787233              4911   \n",
              "66910  0.036111  12.837577              1.0      7.076923              4968   \n",
              "66911  0.003611  71.066206              1.0  -20.89835036              5098   \n",
              "66912  0.022222  19.109715              1.0    1.69142817              5124   \n",
              "\n",
              "       trip_id_new  speed_new  \n",
              "0             3726       4309  \n",
              "1              355       2975  \n",
              "2               23        695  \n",
              "3             5284       2693  \n",
              "4               22        695  \n",
              "...            ...        ...  \n",
              "66908         5328      12869  \n",
              "66909         5328      23485  \n",
              "66910         5328       3326  \n",
              "66911         5338      32222  \n",
              "66912         5338       7680  \n",
              "\n",
              "[66490 rows x 11 columns]"
            ],
            "text/html": [
              "\n",
              "  <div id=\"df-7225c637-a1ec-4a01-84de-64ec264cba3e\">\n",
              "    <div class=\"colab-df-container\">\n",
              "      <div>\n",
              "<style scoped>\n",
              "    .dataframe tbody tr th:only-of-type {\n",
              "        vertical-align: middle;\n",
              "    }\n",
              "\n",
              "    .dataframe tbody tr th {\n",
              "        vertical-align: top;\n",
              "    }\n",
              "\n",
              "    .dataframe thead th {\n",
              "        text-align: right;\n",
              "    }\n",
              "</style>\n",
              "<table border=\"1\" class=\"dataframe\">\n",
              "  <thead>\n",
              "    <tr style=\"text-align: right;\">\n",
              "      <th></th>\n",
              "      <th>stop_id_from</th>\n",
              "      <th>stop_id_to</th>\n",
              "      <th>trip_id</th>\n",
              "      <th>arrival_time</th>\n",
              "      <th>time</th>\n",
              "      <th>speed</th>\n",
              "      <th>Number_of_trips</th>\n",
              "      <th>SRI</th>\n",
              "      <th>arrival_time_new</th>\n",
              "      <th>trip_id_new</th>\n",
              "      <th>speed_new</th>\n",
              "    </tr>\n",
              "  </thead>\n",
              "  <tbody>\n",
              "    <tr>\n",
              "      <th>0</th>\n",
              "      <td>36156</td>\n",
              "      <td>38709</td>\n",
              "      <td>NORMAL_333_Pune Station To  Hinjawadi Maan Pha...</td>\n",
              "      <td>09:13:54</td>\n",
              "      <td>0.027222</td>\n",
              "      <td>14.479565</td>\n",
              "      <td>9.0</td>\n",
              "      <td>-0.40816322</td>\n",
              "      <td>834</td>\n",
              "      <td>3726</td>\n",
              "      <td>4309</td>\n",
              "    </tr>\n",
              "    <tr>\n",
              "      <th>1</th>\n",
              "      <td>36156</td>\n",
              "      <td>38709</td>\n",
              "      <td>NORMAL_115P_Pune Station to Hinjawadi Phase 3_...</td>\n",
              "      <td>09:03:01</td>\n",
              "      <td>0.032222</td>\n",
              "      <td>12.232736</td>\n",
              "      <td>9.0</td>\n",
              "      <td>1.2068965</td>\n",
              "      <td>181</td>\n",
              "      <td>355</td>\n",
              "      <td>2975</td>\n",
              "    </tr>\n",
              "    <tr>\n",
              "      <th>2</th>\n",
              "      <td>36156</td>\n",
              "      <td>38709</td>\n",
              "      <td>NORMAL_100_Ma Na Pa to Hinjawadi Maan Phase 3_...</td>\n",
              "      <td>09:15:00</td>\n",
              "      <td>0.058333</td>\n",
              "      <td>6.757130</td>\n",
              "      <td>9.0</td>\n",
              "      <td>5.142857</td>\n",
              "      <td>900</td>\n",
              "      <td>23</td>\n",
              "      <td>695</td>\n",
              "    </tr>\n",
              "    <tr>\n",
              "      <th>3</th>\n",
              "      <td>36156</td>\n",
              "      <td>38709</td>\n",
              "      <td>NORMAL_VJR5_Ma Na Pa To Mukai Chowk_Up-0905_0</td>\n",
              "      <td>09:05:00</td>\n",
              "      <td>0.033611</td>\n",
              "      <td>11.727251</td>\n",
              "      <td>9.0</td>\n",
              "      <td>1.570248</td>\n",
              "      <td>300</td>\n",
              "      <td>5284</td>\n",
              "      <td>2693</td>\n",
              "    </tr>\n",
              "    <tr>\n",
              "      <th>4</th>\n",
              "      <td>36156</td>\n",
              "      <td>38709</td>\n",
              "      <td>NORMAL_100_Ma Na Pa to Hinjawadi Maan Phase 3_...</td>\n",
              "      <td>09:00:00</td>\n",
              "      <td>0.058333</td>\n",
              "      <td>6.757130</td>\n",
              "      <td>9.0</td>\n",
              "      <td>5.142857</td>\n",
              "      <td>0</td>\n",
              "      <td>22</td>\n",
              "      <td>695</td>\n",
              "    </tr>\n",
              "    <tr>\n",
              "      <th>...</th>\n",
              "      <td>...</td>\n",
              "      <td>...</td>\n",
              "      <td>...</td>\n",
              "      <td>...</td>\n",
              "      <td>...</td>\n",
              "      <td>...</td>\n",
              "      <td>...</td>\n",
              "      <td>...</td>\n",
              "      <td>...</td>\n",
              "      <td>...</td>\n",
              "      <td>...</td>\n",
              "    </tr>\n",
              "    <tr>\n",
              "      <th>66908</th>\n",
              "      <td>1319</td>\n",
              "      <td>1104</td>\n",
              "      <td>NORMAL_VJR6_Bhosari To Hinjawadi Maan Phase 3_...</td>\n",
              "      <td>18:01:44</td>\n",
              "      <td>0.015278</td>\n",
              "      <td>24.892663</td>\n",
              "      <td>1.0</td>\n",
              "      <td>2.1818185</td>\n",
              "      <td>4842</td>\n",
              "      <td>5328</td>\n",
              "      <td>12869</td>\n",
              "    </tr>\n",
              "    <tr>\n",
              "      <th>66909</th>\n",
              "      <td>1104</td>\n",
              "      <td>1106</td>\n",
              "      <td>NORMAL_VJR6_Bhosari To Hinjawadi Maan Phase 3_...</td>\n",
              "      <td>18:02:53</td>\n",
              "      <td>0.013056</td>\n",
              "      <td>37.426898</td>\n",
              "      <td>1.0</td>\n",
              "      <td>2.9787233</td>\n",
              "      <td>4911</td>\n",
              "      <td>5328</td>\n",
              "      <td>23485</td>\n",
              "    </tr>\n",
              "    <tr>\n",
              "      <th>66910</th>\n",
              "      <td>1106</td>\n",
              "      <td>1108</td>\n",
              "      <td>NORMAL_VJR6_Bhosari To Hinjawadi Maan Phase 3_...</td>\n",
              "      <td>18:03:50</td>\n",
              "      <td>0.036111</td>\n",
              "      <td>12.837577</td>\n",
              "      <td>1.0</td>\n",
              "      <td>7.076923</td>\n",
              "      <td>4968</td>\n",
              "      <td>5328</td>\n",
              "      <td>3326</td>\n",
              "    </tr>\n",
              "    <tr>\n",
              "      <th>66911</th>\n",
              "      <td>39593</td>\n",
              "      <td>39385</td>\n",
              "      <td>NORMAL_VJR6_Hinjawadi Maan Phase 3 To Bhosari_...</td>\n",
              "      <td>18:06:00</td>\n",
              "      <td>0.003611</td>\n",
              "      <td>71.066206</td>\n",
              "      <td>1.0</td>\n",
              "      <td>-20.89835036</td>\n",
              "      <td>5098</td>\n",
              "      <td>5338</td>\n",
              "      <td>32222</td>\n",
              "    </tr>\n",
              "    <tr>\n",
              "      <th>66912</th>\n",
              "      <td>39385</td>\n",
              "      <td>39387</td>\n",
              "      <td>NORMAL_VJR6_Hinjawadi Maan Phase 3 To Bhosari_...</td>\n",
              "      <td>18:06:26</td>\n",
              "      <td>0.022222</td>\n",
              "      <td>19.109715</td>\n",
              "      <td>1.0</td>\n",
              "      <td>1.69142817</td>\n",
              "      <td>5124</td>\n",
              "      <td>5338</td>\n",
              "      <td>7680</td>\n",
              "    </tr>\n",
              "  </tbody>\n",
              "</table>\n",
              "<p>66490 rows × 11 columns</p>\n",
              "</div>\n",
              "      <button class=\"colab-df-convert\" onclick=\"convertToInteractive('df-7225c637-a1ec-4a01-84de-64ec264cba3e')\"\n",
              "              title=\"Convert this dataframe to an interactive table.\"\n",
              "              style=\"display:none;\">\n",
              "        \n",
              "  <svg xmlns=\"http://www.w3.org/2000/svg\" height=\"24px\"viewBox=\"0 0 24 24\"\n",
              "       width=\"24px\">\n",
              "    <path d=\"M0 0h24v24H0V0z\" fill=\"none\"/>\n",
              "    <path d=\"M18.56 5.44l.94 2.06.94-2.06 2.06-.94-2.06-.94-.94-2.06-.94 2.06-2.06.94zm-11 1L8.5 8.5l.94-2.06 2.06-.94-2.06-.94L8.5 2.5l-.94 2.06-2.06.94zm10 10l.94 2.06.94-2.06 2.06-.94-2.06-.94-.94-2.06-.94 2.06-2.06.94z\"/><path d=\"M17.41 7.96l-1.37-1.37c-.4-.4-.92-.59-1.43-.59-.52 0-1.04.2-1.43.59L10.3 9.45l-7.72 7.72c-.78.78-.78 2.05 0 2.83L4 21.41c.39.39.9.59 1.41.59.51 0 1.02-.2 1.41-.59l7.78-7.78 2.81-2.81c.8-.78.8-2.07 0-2.86zM5.41 20L4 18.59l7.72-7.72 1.47 1.35L5.41 20z\"/>\n",
              "  </svg>\n",
              "      </button>\n",
              "      \n",
              "  <style>\n",
              "    .colab-df-container {\n",
              "      display:flex;\n",
              "      flex-wrap:wrap;\n",
              "      gap: 12px;\n",
              "    }\n",
              "\n",
              "    .colab-df-convert {\n",
              "      background-color: #E8F0FE;\n",
              "      border: none;\n",
              "      border-radius: 50%;\n",
              "      cursor: pointer;\n",
              "      display: none;\n",
              "      fill: #1967D2;\n",
              "      height: 32px;\n",
              "      padding: 0 0 0 0;\n",
              "      width: 32px;\n",
              "    }\n",
              "\n",
              "    .colab-df-convert:hover {\n",
              "      background-color: #E2EBFA;\n",
              "      box-shadow: 0px 1px 2px rgba(60, 64, 67, 0.3), 0px 1px 3px 1px rgba(60, 64, 67, 0.15);\n",
              "      fill: #174EA6;\n",
              "    }\n",
              "\n",
              "    [theme=dark] .colab-df-convert {\n",
              "      background-color: #3B4455;\n",
              "      fill: #D2E3FC;\n",
              "    }\n",
              "\n",
              "    [theme=dark] .colab-df-convert:hover {\n",
              "      background-color: #434B5C;\n",
              "      box-shadow: 0px 1px 3px 1px rgba(0, 0, 0, 0.15);\n",
              "      filter: drop-shadow(0px 1px 2px rgba(0, 0, 0, 0.3));\n",
              "      fill: #FFFFFF;\n",
              "    }\n",
              "  </style>\n",
              "\n",
              "      <script>\n",
              "        const buttonEl =\n",
              "          document.querySelector('#df-7225c637-a1ec-4a01-84de-64ec264cba3e button.colab-df-convert');\n",
              "        buttonEl.style.display =\n",
              "          google.colab.kernel.accessAllowed ? 'block' : 'none';\n",
              "\n",
              "        async function convertToInteractive(key) {\n",
              "          const element = document.querySelector('#df-7225c637-a1ec-4a01-84de-64ec264cba3e');\n",
              "          const dataTable =\n",
              "            await google.colab.kernel.invokeFunction('convertToInteractive',\n",
              "                                                     [key], {});\n",
              "          if (!dataTable) return;\n",
              "\n",
              "          const docLinkHtml = 'Like what you see? Visit the ' +\n",
              "            '<a target=\"_blank\" href=https://colab.research.google.com/notebooks/data_table.ipynb>data table notebook</a>'\n",
              "            + ' to learn more about interactive tables.';\n",
              "          element.innerHTML = '';\n",
              "          dataTable['output_type'] = 'display_data';\n",
              "          await google.colab.output.renderOutput(dataTable, element);\n",
              "          const docLink = document.createElement('div');\n",
              "          docLink.innerHTML = docLinkHtml;\n",
              "          element.appendChild(docLink);\n",
              "        }\n",
              "      </script>\n",
              "    </div>\n",
              "  </div>\n",
              "  "
            ]
          },
          "metadata": {},
          "execution_count": 60
        }
      ]
    },
    {
      "cell_type": "code",
      "source": [
        "X=df1"
      ],
      "metadata": {
        "id": "0b9iZNhMKH7h"
      },
      "execution_count": null,
      "outputs": []
    },
    {
      "cell_type": "code",
      "source": [
        "X=X.drop('trip_id', axis=1)\n",
        "X=X.drop('arrival_time', axis=1)"
      ],
      "metadata": {
        "id": "rIRmDmEkSdWg"
      },
      "execution_count": null,
      "outputs": []
    },
    {
      "cell_type": "code",
      "source": [
        "X=X.drop('Number_of_trips', axis=1)\n",
        "X=X.drop('time', axis=1)\n",
        "X=X.drop('speed', axis=1)\n"
      ],
      "metadata": {
        "id": "fS-i5fxkSf02"
      },
      "execution_count": null,
      "outputs": []
    },
    {
      "cell_type": "code",
      "source": [
        "X=X.drop('SRI',axis=1)"
      ],
      "metadata": {
        "id": "4sTugoEtKsE5"
      },
      "execution_count": null,
      "outputs": []
    },
    {
      "cell_type": "code",
      "source": [
        "y=target"
      ],
      "metadata": {
        "id": "Q0RcbR1zTBKj"
      },
      "execution_count": null,
      "outputs": []
    },
    {
      "cell_type": "code",
      "source": [
        "X_train, X_test, y_train, y_test = train_test_split(X , y, test_size = 0.2, random_state = 42)\n",
        "\n",
        "print(\"Training split input- \", X_train.shape)\n",
        "print(\"Testing split input- \", X_test.shape)"
      ],
      "metadata": {
        "colab": {
          "base_uri": "https://localhost:8080/"
        },
        "id": "oF3tWvZASmYZ",
        "outputId": "8be95e37-5628-4392-8e44-1d2059a30103"
      },
      "execution_count": null,
      "outputs": [
        {
          "output_type": "stream",
          "name": "stdout",
          "text": [
            "Training split input-  (53192, 5)\n",
            "Testing split input-  (13298, 5)\n"
          ]
        }
      ]
    },
    {
      "cell_type": "code",
      "source": [
        "dtree=DecisionTreeClassifier()\n",
        "dtree.fit(X_train,y_train)"
      ],
      "metadata": {
        "colab": {
          "base_uri": "https://localhost:8080/"
        },
        "id": "rqq16oCeSo7z",
        "outputId": "28836edf-70e5-41a0-bd49-da050ebeb886"
      },
      "execution_count": null,
      "outputs": [
        {
          "output_type": "execute_result",
          "data": {
            "text/plain": [
              "DecisionTreeClassifier()"
            ]
          },
          "metadata": {},
          "execution_count": 67
        }
      ]
    },
    {
      "cell_type": "code",
      "source": [
        "y_pred = dtree.predict(X_test)\n",
        "accuracy_score(y_test,y_pred)*100"
      ],
      "metadata": {
        "colab": {
          "base_uri": "https://localhost:8080/"
        },
        "id": "pEc4vyVPSrlS",
        "outputId": "7ab8b064-032b-4db8-89e8-68c73f1e9ae0"
      },
      "execution_count": null,
      "outputs": [
        {
          "output_type": "execute_result",
          "data": {
            "text/plain": [
              "81.1024214167544"
            ]
          },
          "metadata": {},
          "execution_count": 68
        }
      ]
    },
    {
      "cell_type": "code",
      "source": [
        "from sklearn.metrics import precision_score, recall_score, f1_score, accuracy_score"
      ],
      "metadata": {
        "id": "h3xb9DCAldUP"
      },
      "execution_count": null,
      "outputs": []
    },
    {
      "cell_type": "code",
      "source": [
        "# f1 score\n",
        "precision = precision_score(y_pred, y_test,pos_label='positive',average='weighted')\n",
        "recall = recall_score(y_pred, y_test,pos_label='positive',average='weighted')\n",
        "score = f1_score(y_pred, y_test,pos_label='positive',average='weighted')\n",
        "\n",
        "# print\n",
        "print(\"Decision Tree Precision score: {:.2f}\".format(precision))\n",
        "print(\"Decision Tree Recall score: {:.2f}\".format(recall))\n",
        "print(\"Decision Tree F1 score: {:.2f}\".format(score))"
      ],
      "metadata": {
        "colab": {
          "base_uri": "https://localhost:8080/"
        },
        "id": "N-mEMV2FkvKi",
        "outputId": "68181f7f-ed7f-43d3-bbd0-bbe8a221a106"
      },
      "execution_count": null,
      "outputs": [
        {
          "output_type": "stream",
          "name": "stdout",
          "text": [
            "Decision Tree Precision score: 0.81\n",
            "Decision Tree Recall score: 0.81\n",
            "Decision Tree F1 score: 0.81\n"
          ]
        },
        {
          "output_type": "stream",
          "name": "stderr",
          "text": [
            "/usr/local/lib/python3.7/dist-packages/sklearn/metrics/_classification.py:1375: UserWarning: Note that pos_label (set to 'positive') is ignored when average != 'binary' (got 'weighted'). You may use labels=[pos_label] to specify a single positive class.\n",
            "  UserWarning,\n",
            "/usr/local/lib/python3.7/dist-packages/sklearn/metrics/_classification.py:1375: UserWarning: Note that pos_label (set to 'positive') is ignored when average != 'binary' (got 'weighted'). You may use labels=[pos_label] to specify a single positive class.\n",
            "  UserWarning,\n",
            "/usr/local/lib/python3.7/dist-packages/sklearn/metrics/_classification.py:1375: UserWarning: Note that pos_label (set to 'positive') is ignored when average != 'binary' (got 'weighted'). You may use labels=[pos_label] to specify a single positive class.\n",
            "  UserWarning,\n"
          ]
        }
      ]
    },
    {
      "cell_type": "code",
      "source": [
        "from sklearn.metrics import confusion_matrix\n",
        "import matplotlib.pyplot as plt\n",
        "\n",
        "conf_matrix = confusion_matrix(y_true=y_test, y_pred=y_pred)\n",
        "#\n",
        "# Print the confusion matrix using Matplotlib\n",
        "#\n",
        "fig, ax = plt.subplots(figsize=(5, 5))\n",
        "ax.matshow(conf_matrix, cmap=plt.cm.Oranges, alpha=0.3)\n",
        "for i in range(conf_matrix.shape[0]):\n",
        "    for j in range(conf_matrix.shape[1]):\n",
        "        ax.text(x=j, y=i,s=conf_matrix[i, j], va='center', ha='center', size='xx-large')\n",
        " \n",
        "plt.xlabel('Predictions', fontsize=18)\n",
        "plt.ylabel('Actuals', fontsize=18)\n",
        "plt.title('Confusion Matrix', fontsize=18)\n",
        "plt.show()"
      ],
      "metadata": {
        "colab": {
          "base_uri": "https://localhost:8080/",
          "height": 358
        },
        "id": "H6r7gM3UmGEz",
        "outputId": "4e961da2-73c3-49ec-ce1e-97c2d0706c13"
      },
      "execution_count": null,
      "outputs": [
        {
          "output_type": "display_data",
          "data": {
            "text/plain": [
              "<Figure size 360x360 with 1 Axes>"
            ],
            "image/png": "[encoded data removed]"
          },
          "metadata": {
            "needs_background": "light"
          }
        }
      ]
    }
  ]
}